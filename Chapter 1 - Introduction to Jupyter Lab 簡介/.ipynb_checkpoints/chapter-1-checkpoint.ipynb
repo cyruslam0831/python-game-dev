{
 "cells": [
  {
   "attachments": {},
   "cell_type": "markdown",
   "id": "e50f6570-2a29-4f08-9214-9bb2a6174985",
   "metadata": {
    "editable": true,
    "slideshow": {
     "slide_type": ""
    },
    "tags": []
   },
   "source": [
    "# Chapter 1 - Introduction to Jupyter Lab 簡介"
   ]
  },
  {
   "attachments": {},
   "cell_type": "markdown",
   "id": "405ce446-10bd-4a34-b58e-2689932fb2bb",
   "metadata": {
    "editable": true,
    "slideshow": {
     "slide_type": ""
    },
    "tags": []
   },
   "source": [
    "## 1.1 Cell 儲存格"
   ]
  },
  {
   "cell_type": "code",
   "execution_count": 1,
   "id": "9491347c-939a-42a5-abb0-c4f7b4fb89eb",
   "metadata": {
    "editable": true,
    "slideshow": {
     "slide_type": ""
    },
    "tags": []
   },
   "outputs": [],
   "source": [
    "# This is a cell 這是一個儲存格\n",
    "# Codes are written in cell 可在儲存格中編寫程式碼"
   ]
  },
  {
   "cell_type": "markdown",
   "id": "9d4bdb68-278d-4e5f-a7b6-3e1b17e6a0e2",
   "metadata": {
    "editable": true,
    "slideshow": {
     "slide_type": ""
    },
    "tags": []
   },
   "source": [
    "## 1.2 Running a cell 執行儲存格"
   ]
  },
  {
   "attachments": {},
   "cell_type": "markdown",
   "id": "93e9abb2-e462-4ddc-8420-de608199d726",
   "metadata": {
    "slideshow": {
     "slide_type": ""
    },
    "tags": []
   },
   "source": [
    "To run a cell:\n",
    "1. Clicking a cell to select. <br>\n",
    "2. Press `Ctrl` + `Enter` at the same time or<br>\n",
    "   click the `▶` button above to Run! <br>\n",
    "3. Output is shown below.\n",
    "<br>"
   ]
  },
  {
   "cell_type": "markdown",
   "id": "8b3b34ba-f1fe-4f81-b98b-a67e859a365d",
   "metadata": {},
   "source": [
    "要執行一個儲存格：<br>\n",
    "1. 按下以選取一個儲存格。<br>\n",
    "2. 同時按下 `Ctrl` + `Enter` 或按按上方的 `▶` 鍵來執行。<br>\n",
    "4. 輸出會在下方顯示"
   ]
  },
  {
   "cell_type": "code",
   "execution_count": null,
   "id": "9d94effd-1310-4099-848d-5127a69f0463",
   "metadata": {
    "editable": true,
    "slideshow": {
     "slide_type": ""
    },
    "tags": []
   },
   "outputs": [],
   "source": [
    "print(\"Try to run me!\")"
   ]
  },
  {
   "attachments": {},
   "cell_type": "markdown",
   "id": "61a47ab2-be11-4ece-b27b-4605a35833c4",
   "metadata": {
    "slideshow": {
     "slide_type": ""
    },
    "tags": []
   },
   "source": [
    "<hr>\n",
    "If you accidentally started to edit the tutorial (markdown), <br>\n",
    "you can use the same method to stop editting it.<br>\n",
    "\n",
    "若你不小心開始了編輯文本的介面，你也可以使用同樣方法停止編輯。"
   ]
  },
  {
   "cell_type": "markdown",
   "id": "ad32d703-6fe2-43f0-a6cd-1fc8b665f8f5",
   "metadata": {
    "slideshow": {
     "slide_type": ""
    },
    "tags": []
   },
   "source": [
    "## 1.3 Comments 註解"
   ]
  },
  {
   "attachments": {},
   "cell_type": "markdown",
   "id": "c6799df3-eab0-48d1-b095-62a9cddafb6a",
   "metadata": {
    "slideshow": {
     "slide_type": ""
    },
    "tags": []
   },
   "source": [
    "In Python, sentences behind hashtags ```#``` are comments. For example: <br>\n",
    "\n",
    "在 Python 中，在井號 `#` 後的句子都是註解，就如： \n",
    "```python\n",
    "# This is a comment\n",
    "```\n",
    "Comments will not be executed by the computer.<br>\n",
    "Try to run the following code:<br>\n",
    "\n",
    "電腦並不會執行註解，試執行下列程式碼："
   ]
  },
  {
   "cell_type": "code",
   "execution_count": null,
   "id": "4076d36b-573e-460b-b7d5-a85c90fa416d",
   "metadata": {
    "editable": true,
    "slideshow": {
     "slide_type": ""
    },
    "tags": []
   },
   "outputs": [],
   "source": [
    "# print(\"This is a comment\")\n",
    "# print(\"I am not executed...\")\n",
    "print(\"I am not a comment\")\n",
    "print(\"I am executed!\")"
   ]
  },
  {
   "cell_type": "markdown",
   "id": "d07541f0-ddc6-453d-8a61-0cfc32111b94",
   "metadata": {},
   "source": [
    "<hr>"
   ]
  },
  {
   "attachments": {},
   "cell_type": "markdown",
   "id": "af301bce-2acd-4992-8f6e-d6d9721e638f",
   "metadata": {
    "editable": true,
    "slideshow": {
     "slide_type": ""
    },
    "tags": []
   },
   "source": [
    "You can also create comments by using a pair of 3 single quotation marks ```'''``` <br>\n",
    "Comments of multiple lines can be created by this method\n",
    "For example,<br>\n",
    "\n",
    "你亦可以用一對三組的單引號 `'''` 建立多行的註解，就如：\n",
    "```python\n",
    "'''\n",
    "This is a multi-line comment\n",
    "This is a multi-line comment\n",
    "This is a multi-line comment\n",
    "'''\n",
    "```"
   ]
  },
  {
   "cell_type": "code",
   "execution_count": 4,
   "id": "ca4c58ed-b2c3-4ae7-aad7-8a042e7af860",
   "metadata": {
    "editable": true,
    "slideshow": {
     "slide_type": ""
    },
    "tags": []
   },
   "outputs": [
    {
     "name": "stdout",
     "output_type": "stream",
     "text": [
      "I am not bounded by the quotation marks\n",
      "I am being executed!\n"
     ]
    }
   ],
   "source": [
    "''' \n",
    "This is a multi-line comment\n",
    "print(\"I am not executed\")\n",
    "print(\"I am not executed\")\n",
    "print(\"I am not executed\")\n",
    "'''\n",
    "\n",
    "print(\"I am not bounded by the quotation marks\")\n",
    "print(\"I am being executed!\") "
   ]
  },
  {
   "attachments": {},
   "cell_type": "markdown",
   "id": "1637e54f-b11a-4131-bb04-543dcbe795e7",
   "metadata": {
    "editable": true,
    "slideshow": {
     "slide_type": ""
    },
    "tags": []
   },
   "source": [
    "Comments are here to help you.<br>\n",
    "Try not to delete the hashtags or the quotations marks, or else, an error might occur.<br>\n",
    "\n",
    "註解是來協助你的，盡量避免刪去井號或單引號，否則或會出現錯誤。"
   ]
  },
  {
   "cell_type": "markdown",
   "id": "3ac4a815-7492-47e7-a572-dd984e3d23b4",
   "metadata": {
    "slideshow": {
     "slide_type": ""
    },
    "tags": []
   },
   "source": [
    "## 1.4 Editing cells 編輯儲存格"
   ]
  },
  {
   "attachments": {},
   "cell_type": "markdown",
   "id": "d0069ced-2bd9-4623-80e2-1af8fed29600",
   "metadata": {
    "slideshow": {
     "slide_type": ""
    },
    "tags": []
   },
   "source": [
    "Edit the cell below to calculate the sum of other numbers! <br> \n",
    "Try to run the cell after that (Click ```▶``` / Press ```Ctrl``` + ```Enter```)<br>\n",
    "\n",
    "編輯下方儲存格以計算其他數字的總和，然後再執行。(按 `▶` / 按 ```Ctrl``` + ```Enter```)"
   ]
  },
  {
   "cell_type": "code",
   "execution_count": null,
   "id": "3bd75618-55a9-4c92-b2aa-e12891fd8238",
   "metadata": {
    "editable": true,
    "slideshow": {
     "slide_type": ""
    },
    "tags": []
   },
   "outputs": [],
   "source": [
    "x = 8    # <<< Change the number! 改變此數字！\n",
    "y = 5    # <<< Change the number! 改變此數字！\n",
    "result = x + y\n",
    "print(\"The sum of x and y is:\")\n",
    "print(result)"
   ]
  },
  {
   "attachments": {},
   "cell_type": "markdown",
   "id": "4678f9cd-711b-48ae-9327-91d4283145f9",
   "metadata": {
    "slideshow": {
     "slide_type": ""
    },
    "tags": []
   },
   "source": [
    "<hr>\n",
    "\n",
    "Now try to edit the cell below to print different sentences!<br>\n",
    "_Tip: Only change the text enclosed by the double quotation marks ```\"```!_<br>\n",
    "\n",
    "現在試編輯儲存格來顯示其他句子！<br>\n",
    "_提示：只可編輯被雙引號括在內的文本！_"
   ]
  },
  {
   "cell_type": "code",
   "execution_count": null,
   "id": "8876e11e-2b57-46f2-af9f-1ba2e966353b",
   "metadata": {
    "editable": true,
    "slideshow": {
     "slide_type": ""
    },
    "tags": []
   },
   "outputs": [],
   "source": [
    "print(\"Hello World!\")\n",
    "print(\"Change me!\")"
   ]
  },
  {
   "cell_type": "markdown",
   "id": "b7333194-5753-4340-a38e-f290dab51b0d",
   "metadata": {
    "editable": true,
    "slideshow": {
     "slide_type": ""
    },
    "tags": []
   },
   "source": [
    "<hr>"
   ]
  },
  {
   "cell_type": "markdown",
   "id": "6cd0afef-3c3b-492f-8351-545e8efffd15",
   "metadata": {
    "slideshow": {
     "slide_type": ""
    },
    "tags": []
   },
   "source": [
    "## 1.5 Input fields 輸入欄"
   ]
  },
  {
   "attachments": {},
   "cell_type": "markdown",
   "id": "02f1debd-1825-4064-9a02-d878623687f4",
   "metadata": {
    "editable": true,
    "slideshow": {
     "slide_type": ""
    },
    "tags": []
   },
   "source": [
    "For some programs, user input is required.<br>\n",
    "Input fields will appear for such programs.<br>\n",
    "Enter your input in them, and press ```Enter``` after that.<br>\n",
    "\n",
    "有些程式需要用家進行輸入。在此情況下，輸入欄將會出現。<br>\n",
    "在其中進行輸入後，按 `Enter` 即可。"
   ]
  },
  {
   "cell_type": "code",
   "execution_count": null,
   "id": "24554e45-81b1-499b-83c0-86145116a1e1",
   "metadata": {
    "editable": true,
    "slideshow": {
     "slide_type": ""
    },
    "tags": []
   },
   "outputs": [],
   "source": [
    "input1 = int(input(\"Integer 1: \"))\n",
    "input2 = int(input(\"Integer 2: \"))\n",
    "print(f\"{input1} + {input2} = {input1 + input2}\")"
   ]
  },
  {
   "cell_type": "markdown",
   "id": "932a6fa2-d3d1-4e30-9a24-6c303b016444",
   "metadata": {
    "editable": true,
    "slideshow": {
     "slide_type": ""
    },
    "tags": []
   },
   "source": [
    "<hr>"
   ]
  },
  {
   "cell_type": "markdown",
   "id": "23531d1d-266a-4c77-8968-85035734e674",
   "metadata": {
    "editable": true,
    "slideshow": {
     "slide_type": ""
    },
    "tags": []
   },
   "source": [
    "## 1.6 Copy, paste, and select all 複製、貼上、及全選"
   ]
  },
  {
   "attachments": {},
   "cell_type": "markdown",
   "id": "fd89af74-39c2-4e9f-bb32-3486d56dd602",
   "metadata": {
    "editable": true,
    "slideshow": {
     "slide_type": ""
    },
    "tags": []
   },
   "source": [
    "**Copy** and **Paste** are very useful functions. <br>\n",
    "To copy, highlight the text you want to copy. <br>\n",
    "Then, press and hold ```Ctrl```, and press ```C``` while doing so. <br>\n",
    "\n",
    "**複製**及**貼上**是十分實用的功能。\n",
    "要進行複製，先揀選需要複製的文字，並長按 `Ctrl`，同時按 `C`。<br>\n",
    "<br>\n",
    "Copy the code below:<br>\n",
    "\n",
    "複製以下程式碼：\n",
    "```python\n",
    "print(\"Bring me back to the cell!\")\n",
    "print(\"Run the cell after pasting me!\")\n",
    "```\n",
    "\n",
    "To paste, press and hold ```Ctrl```, and press ```V``` while doing so. <br>\n",
    "Copied text will be pasted at the position of your text cursor (the flashing | ).<br>\n",
    "\n",
    "要進行貼上，長按 `Ctrl`，同時按 `V`。<br>\n",
    "已複製的文字會在文字游標 (閃爍中的 | ) 的位置貼上。<br>\n",
    "<br>\n",
    "Paste the text in the cell below and try to run it!<br>\n",
    "在以下儲存格中貼上並執行！"
   ]
  },
  {
   "cell_type": "code",
   "execution_count": null,
   "id": "461e93e3-599e-4621-911c-8f72f119ee1e",
   "metadata": {
    "editable": true,
    "slideshow": {
     "slide_type": ""
    },
    "tags": []
   },
   "outputs": [],
   "source": [
    "# Paste the copied text below\n"
   ]
  },
  {
   "attachments": {},
   "cell_type": "markdown",
   "id": "d3f7716d-fa38-4943-a579-be0d4985d63a",
   "metadata": {
    "editable": true,
    "slideshow": {
     "slide_type": ""
    },
    "tags": []
   },
   "source": [
    "<hr>\n",
    "Copy the following code:\n",
    "複製以下程式碼：\n",
    "\n",
    "```python\n",
    "bmi = weight / height / height * 10000\n",
    "print(f\"BMI: {round(bmi, 2)}\")\n",
    "```\n",
    "\n",
    "The following program (BMI Calculator) is missing some lines of code.<br>\n",
    "Try to fix it by pasting some code back!<br>\n",
    "Run the code afterwards, and try to calculate your BMI. (Body Mass Index)<br>\n",
    "\n",
    "以下程式 (BMI 計算機) 遺漏了一些程式碼，試用貼上進行修復！<br>\n",
    "然後執行程式，計算自己的BMI。 (身體質量指數)"
   ]
  },
  {
   "cell_type": "code",
   "execution_count": null,
   "id": "b0760e1a-ccf8-47d8-bc9a-824d916a5f54",
   "metadata": {
    "editable": true,
    "slideshow": {
     "slide_type": ""
    },
    "tags": []
   },
   "outputs": [],
   "source": [
    "height = float(input(\"Input your height in cm: \"))\n",
    "weight = float(input(\"Input your weight in kg: \"))\n",
    "# Some code is missing here 一些程式碼遺漏了 vvv\n",
    "\n",
    "# Some code is missing here 一些程式碼遺漏了 ^^^"
   ]
  },
  {
   "cell_type": "markdown",
   "id": "5555cb2a-c68e-406e-9efd-ede6e0605184",
   "metadata": {
    "editable": true,
    "slideshow": {
     "slide_type": ""
    },
    "tags": []
   },
   "source": [
    "![img1](img1.png)"
   ]
  },
  {
   "cell_type": "markdown",
   "id": "80731c41-605f-49d0-8cae-e166dc337ef9",
   "metadata": {
    "editable": true,
    "slideshow": {
     "slide_type": ""
    },
    "tags": []
   },
   "source": [
    "<hr>\n",
    "\n",
    "Try to copy lines 2 & 3 only from the code below:<br>\n",
    "\n",
    "試只複製以下程式碼的第2及第3行：<br>\n",
    "```python\n",
    "print('Don't copy me!')\n",
    "print('Copy me!')\n",
    "print('Copy me too!')\n",
    "print('Don't copy me!')\n",
    "```\n",
    "Paste them in the cell below:<br>\n",
    "在以下儲存格中貼上："
   ]
  },
  {
   "cell_type": "code",
   "execution_count": null,
   "id": "364ee148-2b00-408e-9698-478d7a015592",
   "metadata": {
    "editable": true,
    "slideshow": {
     "slide_type": ""
    },
    "tags": []
   },
   "outputs": [],
   "source": [
    "# Paste them here and run 在此貼上程式並執行\n"
   ]
  },
  {
   "attachments": {},
   "cell_type": "markdown",
   "id": "98d5cf92-96e6-4cc0-8aaa-f65679e33077",
   "metadata": {
    "editable": true,
    "slideshow": {
     "slide_type": ""
    },
    "tags": []
   },
   "source": [
    "<hr>\n",
    "\n",
    "To select all contents in a field, click on the field first.<br>\n",
    "Then, press ```Ctrl``` + ```A```.<br>\n",
    "\n",
    "要全選一個欄中的所有內容，先按該欄，然後按 `Ctrl` + `A`<br>\n",
    "\n",
    "Try to copy all the content of the cell below, and paste it for as many times as you like!<br>\n",
    "試複製以下儲存格的所有內容，並隨你喜歡貼上多少次也可！"
   ]
  },
  {
   "cell_type": "code",
   "execution_count": null,
   "id": "be01427c-80a1-4a4a-80d3-0b43258151fe",
   "metadata": {
    "editable": true,
    "slideshow": {
     "slide_type": ""
    },
    "tags": []
   },
   "outputs": [],
   "source": [
    "print(\"Hi!\")\n",
    "print(\"How are you?\")\n",
    "print(\"Bye!\")\n"
   ]
  },
  {
   "attachments": {},
   "cell_type": "markdown",
   "id": "938ef2cd-b861-4d03-b85c-d62bbb4c56ed",
   "metadata": {
    "editable": true,
    "slideshow": {
     "slide_type": ""
    },
    "tags": []
   },
   "source": [
    "<hr>\n",
    "\n",
    "Select all is very useful when you want to copy everything from a file.<br>\n",
    "Try to copy the entire program from the file ```copy-me.py``` and paste it in the cell below.<br>\n",
    "Run the cell after that.<br>\n",
    "\n",
    "當你需要複製整個文件時，全選十分有用。<br>\n",
    "試複製 `copy-me.py` 中的整個程式，並在下方儲存格貼上，再執行。<br><br>\n",
    "\n",
    "_Tip: To open a file, **double click** it. Come back by double clicking on ```chapter-1.ipynb```_<br>\n",
    "_提示：要開啟一個檔案，**雙擊**該檔案。雙撃 `chapter-1.ipynb` 則可回來。_"
   ]
  },
  {
   "cell_type": "code",
   "execution_count": null,
   "id": "1c12e689-0d3c-4d35-9cfc-1c421fbb3711",
   "metadata": {
    "editable": true,
    "slideshow": {
     "slide_type": ""
    },
    "tags": []
   },
   "outputs": [],
   "source": [
    "# Paste the program here and run 在此貼上程式並執行\n"
   ]
  },
  {
   "cell_type": "markdown",
   "id": "5d1ea7dd-0e38-4c2c-be5f-47ccd5d7dcde",
   "metadata": {
    "editable": true,
    "slideshow": {
     "slide_type": ""
    },
    "tags": []
   },
   "source": [
    "<hr>"
   ]
  },
  {
   "cell_type": "markdown",
   "id": "a37de11d-576e-4143-a824-5a9c6cf53b56",
   "metadata": {
    "editable": true,
    "slideshow": {
     "slide_type": ""
    },
    "tags": []
   },
   "source": [
    "## 1.7 Undo and redo 還原與重做"
   ]
  },
  {
   "attachments": {},
   "cell_type": "markdown",
   "id": "01ca8c58-66bd-41f5-a9eb-68ed637e0bf8",
   "metadata": {
    "editable": true,
    "slideshow": {
     "slide_type": ""
    },
    "tags": []
   },
   "source": [
    "If you accidentally mess the codes up, undo the changes by pressing ```Ctrl``` + ```Z```.<br>\n",
    "If you want to redo (undo your undo), press ```Ctrl``` + ```Shift``` + ```Z```.<br>\n",
    "\n",
    "當你不小心搞亂了程式碼，可按 `Ctrl` + `Z` 還原。<br>\n",
    "當你想重做 (還原你的還原) ，按 ```Ctrl``` + ```Shift``` + ```Z```。<br>\n",
    "<br>\n",
    "\n",
    "Try to modify anything in the cell below, and undo/redo after that:<br>\n",
    "試更改以下儲存格的任何東西，然後試用還原與重做。"
   ]
  },
  {
   "cell_type": "code",
   "execution_count": null,
   "id": "8a13a6d5-4748-447c-91b8-1f821b2e5bd9",
   "metadata": {
    "editable": true,
    "slideshow": {
     "slide_type": ""
    },
    "tags": []
   },
   "outputs": [],
   "source": [
    "# Change me! 編輯我！\n",
    "x = int(input(\"x = \"))\n",
    "if x > 0:\n",
    "    print(\"x is positive\")\n",
    "elif x < 0:\n",
    "    print(\"x is negative\")\n",
    "else:\n",
    "    print(\"x is zero\")"
   ]
  }
 ],
 "metadata": {
  "kernelspec": {
   "display_name": "Python 3 (ipykernel)",
   "language": "python",
   "name": "python3"
  },
  "language_info": {
   "codemirror_mode": {
    "name": "ipython",
    "version": 3
   },
   "file_extension": ".py",
   "mimetype": "text/x-python",
   "name": "python",
   "nbconvert_exporter": "python",
   "pygments_lexer": "ipython3",
   "version": "3.11.3"
  }
 },
 "nbformat": 4,
 "nbformat_minor": 5
}
