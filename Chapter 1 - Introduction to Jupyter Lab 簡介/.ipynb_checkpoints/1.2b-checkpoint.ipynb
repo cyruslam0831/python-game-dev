{
 "cells": [
  {
   "cell_type": "markdown",
   "id": "f3754341-4372-4253-8538-02ff629013ff",
   "metadata": {},
   "source": [
    "# 1.2b 實用文本操作"
   ]
  },
  {
   "cell_type": "markdown",
   "id": "aae73905-5a8b-40de-90c2-7d2928f9e3a8",
   "metadata": {
    "editable": true,
    "slideshow": {
     "slide_type": ""
    },
    "tags": []
   },
   "source": [
    "## 複製、貼上、及全選"
   ]
  },
  {
   "attachments": {},
   "cell_type": "markdown",
   "id": "ad4da03c-a9a8-45bc-8c00-afbbcb3c276c",
   "metadata": {
    "editable": true,
    "slideshow": {
     "slide_type": ""
    },
    "tags": []
   },
   "source": [
    "**複製**及**貼上**是十分實用的功能。\n",
    "要進行複製，先揀選需要複製的文字，並長按 `Ctrl`，同時按 `C`。<br>\n",
    "<br>\n",
    "\n",
    "複製以下程式碼：\n",
    "```python\n",
    "print(\"Bring me back to the cell!\")\n",
    "print(\"Run the cell after pasting me!\")\n",
    "```\n",
    "\n",
    "\n",
    "要進行貼上，長按 `Ctrl`，同時按 `V`。<br>\n",
    "已複製的文字會在文字游標 (閃爍中的 | ) 的位置貼上。<br>\n",
    "<br>\n",
    "在以下儲存格中貼上並執行！"
   ]
  },
  {
   "cell_type": "code",
   "execution_count": null,
   "id": "e5e704c8-48d4-4300-8f5c-950c2606d6c5",
   "metadata": {
    "editable": true,
    "slideshow": {
     "slide_type": ""
    },
    "tags": []
   },
   "outputs": [],
   "source": [
    "# Paste the copied text below\n"
   ]
  },
  {
   "attachments": {},
   "cell_type": "markdown",
   "id": "04dbba99-9941-4a5c-be62-5ba8a8febe98",
   "metadata": {
    "editable": true,
    "slideshow": {
     "slide_type": ""
    },
    "tags": []
   },
   "source": [
    "<hr>\n",
    "複製以下程式碼：\n",
    "\n",
    "```python\n",
    "bmi = weight / height / height * 10000\n",
    "print(f\"BMI: {round(bmi, 2)}\")\n",
    "```\n",
    "\n",
    "以下程式 (BMI 計算機) 遺漏了一些程式碼，試用貼上進行修復！<br>\n",
    "然後執行程式，計算自己的BMI。 (身體質量指數)"
   ]
  },
  {
   "cell_type": "code",
   "execution_count": null,
   "id": "1ebe42a0-7c1c-4399-ba99-92a7650e33bd",
   "metadata": {
    "editable": true,
    "slideshow": {
     "slide_type": ""
    },
    "tags": []
   },
   "outputs": [],
   "source": [
    "height = float(input(\"Input your height in cm: \"))\n",
    "weight = float(input(\"Input your weight in kg: \"))\n",
    "# Some code is missing here 一些程式碼遺漏了 vvv\n",
    "\n",
    "# Some code is missing here 一些程式碼遺漏了 ^^^"
   ]
  },
  {
   "cell_type": "markdown",
   "id": "aa59d7c3-0a84-44e1-a7d8-f4325eaa2a74",
   "metadata": {
    "editable": true,
    "slideshow": {
     "slide_type": ""
    },
    "tags": []
   },
   "source": [
    "![img1](img1.png)"
   ]
  },
  {
   "cell_type": "markdown",
   "id": "9fc4158b-669a-4372-bd7a-d4351a639824",
   "metadata": {
    "editable": true,
    "slideshow": {
     "slide_type": ""
    },
    "tags": []
   },
   "source": [
    "<hr>\n",
    "\n",
    "試只複製以下程式碼的第2及第3行：<br>\n",
    "```python\n",
    "print('Don't copy me!')\n",
    "print('Copy me!')\n",
    "print('Copy me too!')\n",
    "print('Don't copy me!')\n",
    "```\n",
    "在以下儲存格中貼上："
   ]
  },
  {
   "cell_type": "code",
   "execution_count": null,
   "id": "121f18c7-abab-4f2a-a533-fd321d2c665d",
   "metadata": {
    "editable": true,
    "slideshow": {
     "slide_type": ""
    },
    "tags": []
   },
   "outputs": [],
   "source": [
    "# Paste them here and run 在此貼上程式並執行\n"
   ]
  },
  {
   "attachments": {},
   "cell_type": "markdown",
   "id": "dc08b130-931f-4873-a1d5-0196b2a966f3",
   "metadata": {
    "editable": true,
    "slideshow": {
     "slide_type": ""
    },
    "tags": []
   },
   "source": [
    "<hr>\n",
    "\n",
    "\n",
    "要全選一個欄中的所有內容，先按該欄，然後按 `Ctrl` + `A`<br>\n",
    "\n",
    "試複製以下儲存格的所有內容，並隨你喜歡貼上多少次也可！"
   ]
  },
  {
   "cell_type": "code",
   "execution_count": null,
   "id": "2ea21711-0da8-4af6-8b9e-e4441bd8dc7f",
   "metadata": {
    "editable": true,
    "slideshow": {
     "slide_type": ""
    },
    "tags": []
   },
   "outputs": [],
   "source": [
    "print(\"Hi!\")\n",
    "print(\"How are you?\")\n",
    "print(\"Bye!\")\n"
   ]
  },
  {
   "attachments": {},
   "cell_type": "markdown",
   "id": "2297b589-acc1-45d2-9f3b-3e018b12a655",
   "metadata": {
    "editable": true,
    "slideshow": {
     "slide_type": ""
    },
    "tags": []
   },
   "source": [
    "<hr>\n",
    "\n",
    "當你需要複製整個文件時，全選十分有用。<br>\n",
    "試複製 `copy-me.py` 中的整個程式，並在下方儲存格貼上，再執行。<br><br>\n",
    "\n",
    "_提示：要開啟一個檔案，**雙擊**該檔案。雙撃 `chapter-1.ipynb` 則可回來。_"
   ]
  },
  {
   "cell_type": "code",
   "execution_count": null,
   "id": "6c512e59-a37a-4004-ab43-d9e1662b8282",
   "metadata": {
    "editable": true,
    "slideshow": {
     "slide_type": ""
    },
    "tags": []
   },
   "outputs": [],
   "source": [
    "# Paste the program here and run 在此貼上程式並執行\n"
   ]
  },
  {
   "cell_type": "markdown",
   "id": "4b0f8bbe-1bee-4758-8637-55c948370f39",
   "metadata": {
    "editable": true,
    "slideshow": {
     "slide_type": ""
    },
    "tags": []
   },
   "source": [
    "<hr>"
   ]
  },
  {
   "cell_type": "markdown",
   "id": "dcd782fa-98d4-4fcb-a24c-c065c43593a8",
   "metadata": {
    "editable": true,
    "slideshow": {
     "slide_type": ""
    },
    "tags": []
   },
   "source": [
    "## 還原與重做"
   ]
  },
  {
   "attachments": {},
   "cell_type": "markdown",
   "id": "2da11fa3-cafe-4d9f-919c-0cafeceb9554",
   "metadata": {
    "editable": true,
    "slideshow": {
     "slide_type": ""
    },
    "tags": []
   },
   "source": [
    "\n",
    "\n",
    "當你不小心搞亂了程式碼，可按 `Ctrl` + `Z` 還原。<br>\n",
    "當你想重做 (還原你的還原) ，按 ```Ctrl``` + ```Shift``` + ```Z```。<br>\n",
    "<br>\n",
    "\n",
    "試更改以下儲存格的任何東西，然後試用還原與重做。"
   ]
  },
  {
   "cell_type": "code",
   "execution_count": null,
   "id": "34f0dac2-37c2-4313-aa6e-bd8ef99ed09a",
   "metadata": {
    "editable": true,
    "slideshow": {
     "slide_type": ""
    },
    "tags": []
   },
   "outputs": [],
   "source": [
    "# Change me! 編輯我！\n",
    "x = int(input(\"x = \"))\n",
    "if x > 0:\n",
    "    print(\"x is positive\")\n",
    "elif x < 0:\n",
    "    print(\"x is negative\")\n",
    "else:\n",
    "    print(\"x is zero\")"
   ]
  }
 ],
 "metadata": {
  "kernelspec": {
   "display_name": "Python 3 (ipykernel)",
   "language": "python",
   "name": "python3"
  },
  "language_info": {
   "codemirror_mode": {
    "name": "ipython",
    "version": 3
   },
   "file_extension": ".py",
   "mimetype": "text/x-python",
   "name": "python",
   "nbconvert_exporter": "python",
   "pygments_lexer": "ipython3",
   "version": "3.11.5"
  }
 },
 "nbformat": 4,
 "nbformat_minor": 5
}
