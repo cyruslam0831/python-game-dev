{
 "cells": [
  {
   "attachments": {},
   "cell_type": "markdown",
   "id": "076692c9-b283-4361-ac2c-7e9a6787f544",
   "metadata": {
    "editable": true,
    "slideshow": {
     "slide_type": ""
    },
    "tags": []
   },
   "source": [
    "# 1.2a JupyterLab 基本操作"
   ]
  },
  {
   "attachments": {},
   "cell_type": "markdown",
   "id": "6904e82e-cf6e-48ea-830e-291a0a21664c",
   "metadata": {
    "editable": true,
    "slideshow": {
     "slide_type": ""
    },
    "tags": []
   },
   "source": [
    "## 儲存格"
   ]
  },
  {
   "cell_type": "code",
   "execution_count": 1,
   "id": "cc5de174-07be-491e-851e-39061af7a604",
   "metadata": {
    "editable": true,
    "slideshow": {
     "slide_type": ""
    },
    "tags": []
   },
   "outputs": [],
   "source": [
    "# This is a cell 這是一個儲存格\n",
    "# Codes are written in cell 可在儲存格中編寫程式碼"
   ]
  },
  {
   "cell_type": "markdown",
   "id": "82463da4-97c1-4df1-b66d-fe9e8118b68a",
   "metadata": {
    "editable": true,
    "slideshow": {
     "slide_type": ""
    },
    "tags": []
   },
   "source": [
    "##  執行儲存格"
   ]
  },
  {
   "cell_type": "markdown",
   "id": "93d36db3-e7c4-463c-85a3-2271ea0a5513",
   "metadata": {},
   "source": [
    "要執行一個儲存格：<br>\n",
    "1. 按下以選取一個儲存格。<br>\n",
    "2. 同時按下 `Ctrl` + `Enter` 或按按上方的 `▶` 鍵來執行。<br>\n",
    "4. 輸出會在下方顯示"
   ]
  },
  {
   "cell_type": "code",
   "execution_count": null,
   "id": "ba3c9874-d990-415a-912b-3d493af1a907",
   "metadata": {
    "editable": true,
    "slideshow": {
     "slide_type": ""
    },
    "tags": []
   },
   "outputs": [],
   "source": [
    "print(\"Try to run me!\")"
   ]
  },
  {
   "attachments": {},
   "cell_type": "markdown",
   "id": "0b0abe65-6fdd-41df-982d-a25c16563f8e",
   "metadata": {
    "slideshow": {
     "slide_type": ""
    },
    "tags": []
   },
   "source": [
    "<hr>\n",
    "\n",
    "若你不小心開始了編輯文本的介面，你也可以使用同樣方法停止編輯。"
   ]
  },
  {
   "cell_type": "markdown",
   "id": "29b644ae-1765-411b-bbeb-3f1b7fa93ee2",
   "metadata": {
    "slideshow": {
     "slide_type": ""
    },
    "tags": []
   },
   "source": [
    "## 註解"
   ]
  },
  {
   "attachments": {},
   "cell_type": "markdown",
   "id": "95bb1c7a-8bf2-4ea9-a8bd-c68095c66e69",
   "metadata": {
    "slideshow": {
     "slide_type": ""
    },
    "tags": []
   },
   "source": [
    "\n",
    "\n",
    "在 Python 中，在井號 `#` 後的句子都是註解 Comments ，就如： \n",
    "```python\n",
    "# This is a comment\n",
    "```\n",
    "\n",
    "\n",
    "電腦並不會執行註解，試執行下列程式碼："
   ]
  },
  {
   "cell_type": "code",
   "execution_count": null,
   "id": "63880e9f-57c3-4629-9271-888955339fb6",
   "metadata": {
    "editable": true,
    "slideshow": {
     "slide_type": ""
    },
    "tags": []
   },
   "outputs": [],
   "source": [
    "# print(\"This is a comment\")\n",
    "# print(\"I am not executed...\")\n",
    "print(\"I am not a comment\")\n",
    "print(\"I am executed!\")"
   ]
  },
  {
   "cell_type": "markdown",
   "id": "98e340d5-f821-4040-988b-53e5fe2aa875",
   "metadata": {},
   "source": [
    "<hr>"
   ]
  },
  {
   "attachments": {},
   "cell_type": "markdown",
   "id": "6c806f02-1753-403b-bbb5-0ecd07eeca13",
   "metadata": {
    "editable": true,
    "slideshow": {
     "slide_type": ""
    },
    "tags": []
   },
   "source": [
    "你亦可以用一對三組的單引號 `'''` 建立多行的註解，就如：\n",
    "```python\n",
    "'''\n",
    "This is a multi-line comment\n",
    "This is a multi-line comment\n",
    "This is a multi-line comment\n",
    "'''\n",
    "```"
   ]
  },
  {
   "cell_type": "code",
   "execution_count": 4,
   "id": "be3d48f8-fcf3-46ab-ba26-558cce88d685",
   "metadata": {
    "editable": true,
    "slideshow": {
     "slide_type": ""
    },
    "tags": []
   },
   "outputs": [
    {
     "name": "stdout",
     "output_type": "stream",
     "text": [
      "I am not bounded by the quotation marks\n",
      "I am being executed!\n"
     ]
    }
   ],
   "source": [
    "''' \n",
    "This is a multi-line comment\n",
    "print(\"I am not executed\")\n",
    "print(\"I am not executed\")\n",
    "print(\"I am not executed\")\n",
    "'''\n",
    "\n",
    "print(\"I am not bounded by the quotation marks\")\n",
    "print(\"I am being executed!\") "
   ]
  },
  {
   "attachments": {},
   "cell_type": "markdown",
   "id": "ee9cc98b-7756-4775-a7bf-c8119c609a00",
   "metadata": {
    "editable": true,
    "slideshow": {
     "slide_type": ""
    },
    "tags": []
   },
   "source": [
    "\n",
    "註解是來協助你的，盡量避免刪去井號或單引號，否則或會出現錯誤。"
   ]
  },
  {
   "cell_type": "markdown",
   "id": "78ecbb88-8dd0-43fa-86c2-4e4e8847db67",
   "metadata": {
    "slideshow": {
     "slide_type": ""
    },
    "tags": []
   },
   "source": [
    "## 編輯儲存格"
   ]
  },
  {
   "attachments": {},
   "cell_type": "markdown",
   "id": "8834fe6c-d8f4-4f7e-a7ee-eb027d271bb2",
   "metadata": {
    "slideshow": {
     "slide_type": ""
    },
    "tags": []
   },
   "source": [
    "編輯下方儲存格以計算其他數字的總和，然後再執行。(按 `▶` / 按 ```Ctrl``` + ```Enter```)"
   ]
  },
  {
   "cell_type": "code",
   "execution_count": null,
   "id": "18c1a7ba-a156-4c49-b80f-81c324e58214",
   "metadata": {
    "editable": true,
    "slideshow": {
     "slide_type": ""
    },
    "tags": []
   },
   "outputs": [],
   "source": [
    "x = 8    # <<< Change the number! 改變此數字！\n",
    "y = 5    # <<< Change the number! 改變此數字！\n",
    "result = x + y\n",
    "print(\"The sum of x and y is:\")\n",
    "print(result)"
   ]
  },
  {
   "attachments": {},
   "cell_type": "markdown",
   "id": "8872648f-2ebe-4d3a-9323-281c14bd5f0e",
   "metadata": {
    "slideshow": {
     "slide_type": ""
    },
    "tags": []
   },
   "source": [
    "<hr>\n",
    "現在試編輯儲存格來顯示其他句子！<br>\n",
    "_提示：只可編輯被雙引號括在內的文本！_"
   ]
  },
  {
   "cell_type": "code",
   "execution_count": null,
   "id": "3af1b14b-861f-430b-94ce-34f93c35fc6f",
   "metadata": {
    "editable": true,
    "slideshow": {
     "slide_type": ""
    },
    "tags": []
   },
   "outputs": [],
   "source": [
    "print(\"Hello World!\")\n",
    "print(\"Change me!\")"
   ]
  },
  {
   "cell_type": "markdown",
   "id": "d4cc133f-2490-412b-b887-baa8145ddcc6",
   "metadata": {
    "editable": true,
    "slideshow": {
     "slide_type": ""
    },
    "tags": []
   },
   "source": [
    "<hr>"
   ]
  },
  {
   "cell_type": "markdown",
   "id": "b9bd1dec-f850-4004-b3c3-2f784a872093",
   "metadata": {
    "slideshow": {
     "slide_type": ""
    },
    "tags": []
   },
   "source": [
    "## 輸入欄"
   ]
  },
  {
   "attachments": {},
   "cell_type": "markdown",
   "id": "d888cef2-0c76-409f-9958-54a714cd8dcd",
   "metadata": {
    "editable": true,
    "slideshow": {
     "slide_type": ""
    },
    "tags": []
   },
   "source": [
    "有些程式需要用家進行輸入。在此情況下，輸入欄將會出現。<br>\n",
    "在其中進行輸入後，按 `Enter` 即可。"
   ]
  },
  {
   "cell_type": "code",
   "execution_count": null,
   "id": "8414ecf9-d418-4560-ae76-da09d85be2f7",
   "metadata": {
    "editable": true,
    "slideshow": {
     "slide_type": ""
    },
    "tags": []
   },
   "outputs": [],
   "source": [
    "input1 = int(input(\"Integer 1: \"))\n",
    "input2 = int(input(\"Integer 2: \"))\n",
    "print(f\"{input1} + {input2} = {input1 + input2}\")"
   ]
  }
 ],
 "metadata": {
  "kernelspec": {
   "display_name": "Python 3 (ipykernel)",
   "language": "python",
   "name": "python3"
  },
  "language_info": {
   "codemirror_mode": {
    "name": "ipython",
    "version": 3
   },
   "file_extension": ".py",
   "mimetype": "text/x-python",
   "name": "python",
   "nbconvert_exporter": "python",
   "pygments_lexer": "ipython3",
   "version": "3.11.5"
  }
 },
 "nbformat": 4,
 "nbformat_minor": 5
}
