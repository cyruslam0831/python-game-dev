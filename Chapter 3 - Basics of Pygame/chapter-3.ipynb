{
 "cells": [
  {
   "cell_type": "markdown",
   "id": "f75bd8a9-7e81-42a9-81e0-c3d4c57be40a",
   "metadata": {
    "editable": true,
    "slideshow": {
     "slide_type": ""
    },
    "tags": []
   },
   "source": [
    "# Chapter 3 - Basics of Pygame"
   ]
  },
  {
   "cell_type": "markdown",
   "id": "80143e03-7220-4fbd-bcf2-b5eb17a4ca5c",
   "metadata": {},
   "source": [
    "## 3.1 Before we start"
   ]
  },
  {
   "cell_type": "markdown",
   "id": "dca258ac-66e3-4c96-abc2-5bbc9cc662fb",
   "metadata": {
    "editable": true,
    "slideshow": {
     "slide_type": ""
    },
    "tags": []
   },
   "source": [
    "\n",
    "Pygame is a Python library mostly for creating 2D games.<br>\n",
    "Before using its functions, Pygame has to be installed first.<br>\n",
    "It can be installed using the command below, try to run it:"
   ]
  },
  {
   "cell_type": "code",
   "execution_count": 5,
   "id": "00692a4a-4476-4a81-bd2f-05376a411ad9",
   "metadata": {
    "editable": true,
    "slideshow": {
     "slide_type": ""
    },
    "tags": []
   },
   "outputs": [
    {
     "name": "stdout",
     "output_type": "stream",
     "text": [
      "Collecting pygame\n",
      "  Using cached pygame-2.4.0-cp311-cp311-win_amd64.whl (10.6 MB)\n",
      "Installing collected packages: pygame\n",
      "Successfully installed pygame-2.4.0\n",
      "Note: you may need to restart the kernel to use updated packages.\n"
     ]
    }
   ],
   "source": [
    "pip install pygame"
   ]
  },
  {
   "cell_type": "markdown",
   "id": "c1cf393b-015e-4ed3-ace0-493946d79e3c",
   "metadata": {
    "editable": true,
    "slideshow": {
     "slide_type": ""
    },
    "tags": []
   },
   "source": [
    "Wait for the installation to complete after that.<br>\n",
    "The message: `Successfully installed pygame-2.4.0` should be displayed.<br>\n",
    "If you see the statement: `Requirement already satisfied`,<br>\n",
    "it means that Pygame has already been installed previously, and you are good to go.\n",
    "<hr>\n",
    "\n",
    "To use Pygame functions in a Python program,<br>\n",
    "we have an extra step to do - Importing Pygame.<br>\n",
    "Below is an example of what would happen if you forgot this step:"
   ]
  },
  {
   "cell_type": "code",
   "execution_count": 2,
   "id": "5ff24ba1-585a-4121-a4ef-d76dda44d002",
   "metadata": {
    "slideshow": {
     "slide_type": ""
    },
    "tags": []
   },
   "outputs": [
    {
     "ename": "NameError",
     "evalue": "name 'pygame' is not defined",
     "output_type": "error",
     "traceback": [
      "\u001b[1;31m---------------------------------------------------------------------------\u001b[0m",
      "\u001b[1;31mNameError\u001b[0m                                 Traceback (most recent call last)",
      "Cell \u001b[1;32mIn[2], line 1\u001b[0m\n\u001b[1;32m----> 1\u001b[0m \u001b[43mpygame\u001b[49m\u001b[38;5;241m.\u001b[39minit()\n",
      "\u001b[1;31mNameError\u001b[0m: name 'pygame' is not defined"
     ]
    }
   ],
   "source": [
    "pygame.init()"
   ]
  },
  {
   "cell_type": "markdown",
   "id": "a27c6c4e-d8f3-4cbb-a0c8-da333c36a9d0",
   "metadata": {
    "editable": true,
    "slideshow": {
     "slide_type": ""
    },
    "tags": []
   },
   "source": [
    "<hr>\n",
    "To import Pygame, simply add this line at the very beginning of the program.\n",
    "\n",
    "```python\n",
    "import pygame\n",
    "```\n",
    "\n",
    "**Now copy the above line to a suitable place in the cell below.<br>**\n",
    "You should see the message below upon importing Pygame successfully for the first time:<br>\n",
    "\n",
    "```\n",
    "pygame 2.4.0 (SDL 2.26.4, Python 3.11.3)\n",
    "Hello from the pygame community. https://www.pygame.org/contribute.html\n",
    "```"
   ]
  },
  {
   "cell_type": "code",
   "execution_count": 3,
   "id": "af364eaf-87b6-42bd-9473-0c97dea24c68",
   "metadata": {
    "editable": true,
    "slideshow": {
     "slide_type": ""
    },
    "tags": []
   },
   "outputs": [
    {
     "name": "stdout",
     "output_type": "stream",
     "text": [
      "pygame 2.4.0 (SDL 2.26.4, Python 3.11.4)\n",
      "Hello from the pygame community. https://www.pygame.org/contribute.html\n"
     ]
    },
    {
     "data": {
      "text/plain": [
       "(5, 0)"
      ]
     },
     "execution_count": 3,
     "metadata": {},
     "output_type": "execute_result"
    }
   ],
   "source": [
    "import pygame\n",
    "pygame.init()"
   ]
  },
  {
   "cell_type": "markdown",
   "id": "1cd85c6d-7bf1-46d4-a29e-c2fa83d219e5",
   "metadata": {
    "editable": true,
    "slideshow": {
     "slide_type": ""
    },
    "tags": []
   },
   "source": [
    "The command `pygame.init()` is also required to initiate Pygame.<br>\n",
    "It is recommended to start every Pygame program with these 2 lines of code. <br>\n",
    "In the following chapters, we will initiate Pygame in the very beginning, make sure to run it!<br>\n",
    "You have to initiate Pygame again everytime the kernel is restarted as well."
   ]
  },
  {
   "cell_type": "markdown",
   "id": "8dfcb9be-fd58-4371-ba25-317540dd544d",
   "metadata": {
    "editable": true,
    "slideshow": {
     "slide_type": ""
    },
    "tags": []
   },
   "source": [
    "## 3.2 Create a window"
   ]
  },
  {
   "cell_type": "markdown",
   "id": "38bfe6cc-54c9-4c6a-b1bb-f3eac0307b61",
   "metadata": {
    "editable": true,
    "slideshow": {
     "slide_type": ""
    },
    "tags": []
   },
   "source": [
    "\n",
    "To create a window, use the function `pygame.display.set_mode()`,<br>\n",
    "it creates a window surface for us to put the game elements inside.<br>\n",
    "It is assigned to a variable.<br>\n",
    "The entire line is shown below:\n",
    "\n",
    "```python\n",
    "screen = pygame.display.set_mode((800, 600))\n",
    "```\n",
    "Don't forget to import Pygame, and initiate it!<br>\n",
    "Now give it a try:"
   ]
  },
  {
   "cell_type": "code",
   "execution_count": 4,
   "id": "305012da-e4d7-4f88-8971-3bff2c493603",
   "metadata": {
    "editable": true,
    "slideshow": {
     "slide_type": ""
    },
    "tags": []
   },
   "outputs": [],
   "source": [
    "screen = pygame.display.set_mode((800, 600))"
   ]
  },
  {
   "cell_type": "markdown",
   "id": "335a4bff-2b79-4f37-b546-5bb4d1ef3b4c",
   "metadata": {
    "editable": true,
    "slideshow": {
     "slide_type": ""
    },
    "tags": []
   },
   "source": [
    "The window created cannot be closed normally.<br>\n",
    "It is really buggy, and we have to restart the kernel (Press `↻` above) to close it<br>\n",
    "\n",
    "To fix it, it is a little bit complicated. <br>\n",
    "It is fine if you don't understand the code below.<br>\n",
    "Here is how we create a functional window:"
   ]
  },
  {
   "cell_type": "code",
   "execution_count": 5,
   "id": "5e97cb05-abc3-498b-9c5a-e0254a56035a",
   "metadata": {
    "editable": false,
    "slideshow": {
     "slide_type": ""
    },
    "tags": []
   },
   "outputs": [],
   "source": [
    "screen = pygame.display.set_mode((800, 600))\n",
    "running = True                        # Initiate [running]\n",
    "\n",
    "while running:                        # Repeat while [running] is True\n",
    "    for event in pygame.event.get():\n",
    "        if event.type == pygame.QUIT: # If the exit button is pressed\n",
    "            running = False           # Stop the loop by changing [running] to False\n",
    "pygame.quit() "
   ]
  },
  {
   "cell_type": "markdown",
   "id": "25dc88ce-ced6-44a3-b984-81c36b12b171",
   "metadata": {
    "editable": true,
    "slideshow": {
     "slide_type": ""
    },
    "tags": []
   },
   "source": [
    "Going back to this command:\n",
    "```python\n",
    "screen = pygame.display.set_mode((800, 600))\n",
    "```\n",
    "Note that there are **2** consecutive brackets:<br>\n",
    "![img1](img1.png)\n",
    "\n",
    "```python\n",
    "screen = pygame.display.set_mode((width, height))\n",
    "```\n",
    "\n",
    "In the previous example, the width is 800, and the height is 600.<br>\n",
    "The unit is **pixel** (A small colour dot).<br>\n",
    "Try to create windows of different resolutions with the program below:"
   ]
  },
  {
   "cell_type": "code",
   "execution_count": null,
   "id": "539b738d-01fc-4531-9c60-bb2925f8a6d2",
   "metadata": {
    "editable": true,
    "slideshow": {
     "slide_type": ""
    },
    "tags": []
   },
   "outputs": [],
   "source": [
    "width = int(input(\"Enter the width : \"))\n",
    "height = int(input(\"Enter the height: \"))\n",
    "\n",
    "screen = pygame.display.set_mode((width, height))\n",
    "print(\"Window created!\")\n",
    "running = True\n",
    "\n",
    "while running:\n",
    "    for event in pygame.event.get():\n",
    "        if event.type == pygame.QUIT:\n",
    "            running = False\n",
    "pygame.quit()"
   ]
  },
  {
   "cell_type": "markdown",
   "id": "6e18ac27-b5c1-4f07-aecf-6d667389747a",
   "metadata": {
    "editable": true,
    "slideshow": {
     "slide_type": ""
    },
    "tags": []
   },
   "source": [
    "## 3.3 Updating the window"
   ]
  },
  {
   "cell_type": "markdown",
   "id": "8045e1af-7b9f-4e28-a6e7-836fa41c2274",
   "metadata": {},
   "source": [
    "\n",
    "To refresh the screen and render everything on it, this command is used:\n",
    "```python\n",
    "pygame.display.update()\n",
    "```\n",
    "We put it in the `while running:` loop to make sure that the window is always updated.\n"
   ]
  },
  {
   "cell_type": "markdown",
   "id": "5c187e48-2048-4e94-811c-9c48cee36604",
   "metadata": {},
   "source": [
    "<hr>\n",
    "\n",
    "Apart from that, we use the following commands to control the refresh rate of the window:\n",
    "```python\n",
    "clock = pygame.time.Clock() # Creates the clock for timekeeping, \n",
    "                            # placed anywhere before the command below\n",
    "\n",
    "clock.tick(FPS)             # Creates a delay of 1/FPS seconds, placed in the while loop\n",
    "```\n",
    "The value `FPS` refers to **F**rames **P**er **S**econd, i.e. how many times the window is updated in a second.<br>\n",
    "The effect of changing the FPS value will be discussed later."
   ]
  },
  {
   "cell_type": "code",
   "execution_count": null,
   "id": "55bff3b8-0f16-4fd3-b51e-64aad220a544",
   "metadata": {
    "editable": true,
    "slideshow": {
     "slide_type": ""
    },
    "tags": []
   },
   "outputs": [],
   "source": [
    "screen = pygame.display.set_mode((800, 600))\n",
    "running = True\n",
    "clock = pygame.time.Clock()\n",
    "\n",
    "while running:\n",
    "    for event in pygame.event.get():\n",
    "        if event.type == pygame.QUIT:\n",
    "            running = False\n",
    "    pygame.display.update()\n",
    "    clock.tick(60)\n",
    "    \n",
    "pygame.quit() "
   ]
  },
  {
   "cell_type": "markdown",
   "id": "a993fb7e-b9ae-4569-904c-9a7775af02ad",
   "metadata": {},
   "source": [
    "<hr>\n",
    "\n",
    "However, without any graphical elements, we won't be able to notice any changes of the window despite updating it.<br>\n",
    "Therefore, let's move on to creating graphical elements. (in the next chapter)"
   ]
  }
 ],
 "metadata": {
  "kernelspec": {
   "display_name": "Python 3 (ipykernel)",
   "language": "python",
   "name": "python3"
  },
  "language_info": {
   "codemirror_mode": {
    "name": "ipython",
    "version": 3
   },
   "file_extension": ".py",
   "mimetype": "text/x-python",
   "name": "python",
   "nbconvert_exporter": "python",
   "pygments_lexer": "ipython3",
   "version": "3.11.4"
  }
 },
 "nbformat": 4,
 "nbformat_minor": 5
}
