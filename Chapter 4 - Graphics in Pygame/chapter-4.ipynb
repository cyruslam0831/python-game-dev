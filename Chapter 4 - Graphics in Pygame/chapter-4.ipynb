{
 "cells": [
  {
   "cell_type": "markdown",
   "id": "4e996f85-fa1f-447f-a3a6-75297f901a01",
   "metadata": {
    "editable": true,
    "slideshow": {
     "slide_type": ""
    },
    "tags": []
   },
   "source": [
    "# Chapter 4 - Graphics in Pygame"
   ]
  },
  {
   "cell_type": "markdown",
   "id": "f99d2e56-7705-4613-85e3-4d2e23f4477b",
   "metadata": {
    "editable": true,
    "slideshow": {
     "slide_type": ""
    },
    "tags": []
   },
   "source": [
    "Import Pygame first!"
   ]
  },
  {
   "cell_type": "code",
   "execution_count": 11,
   "id": "3cd59b03-6e95-48a3-808e-88e7acfe5560",
   "metadata": {
    "editable": true,
    "slideshow": {
     "slide_type": ""
    },
    "tags": []
   },
   "outputs": [
    {
     "name": "stdout",
     "output_type": "stream",
     "text": [
      "Pygame imported!\n"
     ]
    }
   ],
   "source": [
    "# Run me!\n",
    "import pygame\n",
    "pygame.init()\n",
    "print(\"Pygame imported!\")"
   ]
  },
  {
   "cell_type": "markdown",
   "id": "babf1259-33d5-41b2-be10-0f1f16793fe9",
   "metadata": {
    "editable": true,
    "slideshow": {
     "slide_type": ""
    },
    "tags": []
   },
   "source": [
    "## 4.1 Coordinate system"
   ]
  },
  {
   "cell_type": "markdown",
   "id": "b919f39e-6f5e-435e-919a-2b1671de752f",
   "metadata": {},
   "source": [
    "\n",
    "For a computer window, the coordinate system is a little bit different from the mathematical coordinate system that we commonly use.<br>\n",
    "The y-axis is flipped vertically:\n",
    "![img1](img1.png)<br>\n",
    "The top-left corner is always `(0, 0)`."
   ]
  },
  {
   "cell_type": "markdown",
   "id": "9b5e1a81-e497-4bb5-8f69-ace57dfd0916",
   "metadata": {
    "editable": true,
    "slideshow": {
     "slide_type": ""
    },
    "tags": []
   },
   "source": [
    "## 4.2 Displaying images"
   ]
  },
  {
   "cell_type": "markdown",
   "id": "cff71aa8-48c6-4c0c-be42-06876c360d47",
   "metadata": {
    "editable": true,
    "slideshow": {
     "slide_type": ""
    },
    "tags": []
   },
   "source": [
    "To display an image, we first need to load the image.<br>\n",
    "We use the command `pygame.image.load()`, put the path inside the brackets, and assign it to a variable.\n",
    "```python\n",
    "image_variable = pygame.image.load(image_path)\n",
    "```\n",
    "In this case, we want to display the image `smile.png` (located in another folder `graphics`).<br>\n",
    "It is put into `image_path` (as a string, i.e. with `\"`)<br>\n",
    "Note: `..` refers to the folder that is one level higher than the current folder.<br><br>\n",
    "To display it, we use the command `<surface>.blit()`, where `<surface>` is the name of the window surface.\n",
    "```python\n",
    "<surface>.blit(image_variable, (x_position, y_position))\n",
    "```\n",
    "For the position, a coordinate is used, with another pair of brackets.<br>\n",
    "It indicates the coordinate of the top-left corner of the image.<br>"
   ]
  },
  {
   "cell_type": "code",
   "execution_count": null,
   "id": "d290f136-8bf5-44ec-9aa3-7d7a50d4a971",
   "metadata": {
    "editable": true,
    "slideshow": {
     "slide_type": ""
    },
    "tags": []
   },
   "outputs": [],
   "source": [
    "screen = pygame.display.set_mode((800, 600))\n",
    "running = True\n",
    "\n",
    "\n",
    "### Display the image ###\n",
    "\n",
    "image_surf = pygame.image.load(\"../graphics/smile.png\") #########################################################\n",
    "screen.blit(image_surf, (0, 0))                         # <<< Change me to put the image at different positions #\n",
    "                                                        #########################################################\n",
    "#########################\n",
    "\n",
    "\n",
    "while running:\n",
    "    for event in pygame.event.get():\n",
    "        if event.type == pygame.QUIT:\n",
    "            running = False\n",
    "    pygame.display.update()\n",
    "pygame.quit() "
   ]
  },
  {
   "cell_type": "markdown",
   "id": "858a84e3-ac47-4f38-b19d-6ee5671ddbae",
   "metadata": {
    "editable": true,
    "slideshow": {
     "slide_type": ""
    },
    "tags": []
   },
   "source": [
    "## 4.3 Animating the images"
   ]
  },
  {
   "cell_type": "markdown",
   "id": "296960d2-d258-43e8-95c0-3379e1f47573",
   "metadata": {},
   "source": [
    "\n",
    "We move the images bit by bit to create an illusion that it is moving smoothly.<br>\n",
    "But first, we need a container to contain the images - Rectangles.<br>\n",
    "```python\n",
    "  <rect>   =  <surface>.get_rect(<anchor> = (<pos_x>, <pos_y>))\n",
    "image_rect = image_surf.get_rect( center  = (  400  ,   300  ))\n",
    "```\n",
    "The anchor can be different points of the image:<br>\n",
    "![img2](img2.png)<br>\n",
    "We can then render the image surface at the position of the rectangle directly using:\n",
    "```python\n",
    "screen.blit(image_surf, image_rect)\n",
    "```\n",
    "Now try to change the anchor and the position to move the image:"
   ]
  },
  {
   "cell_type": "code",
   "execution_count": null,
   "id": "57d192b0-e05d-4179-b8da-a3a593b63c04",
   "metadata": {
    "editable": true,
    "slideshow": {
     "slide_type": ""
    },
    "tags": []
   },
   "outputs": [],
   "source": [
    "screen = pygame.display.set_mode((800, 600))\n",
    "running = True\n",
    "clock = pygame.time.Clock()\n",
    "\n",
    "\n",
    "### Display the image ###\n",
    "\n",
    "image_surf = pygame.image.load(\"../graphics/smile.png\")           #########################################################\n",
    "image_rect = image_surf.get_rect(center = (400, 300)) # <<< Change me to put the image at different positions #\n",
    "screen.blit(image_surf, image_rect)                   #########################################################\n",
    "\n",
    "#########################\n",
    "\n",
    "\n",
    "while running:\n",
    "    for event in pygame.event.get():\n",
    "        if event.type == pygame.QUIT:\n",
    "            running = False  \n",
    "    pygame.display.update()\n",
    "    clock.tick(60)\n",
    "pygame.quit() "
   ]
  },
  {
   "cell_type": "markdown",
   "id": "5e128b0f-1fb6-4ebb-8e57-6bb814839484",
   "metadata": {
    "editable": true,
    "slideshow": {
     "slide_type": ""
    },
    "tags": []
   },
   "source": [
    "<hr>\n",
    "\n",
    "To move the image, we change the attributes of the rectangle (`image_rect`) directly.<br>\n",
    "For example:\n",
    "```python\n",
    "image_rect.x = 10\n",
    "image_rect.y += 5\n",
    "image_rect.left = 0\n",
    "```\n",
    "Note: `image_rect.y += 5` is just the short form of `image_rect.y = image_rect.y + 5`"
   ]
  },
  {
   "cell_type": "code",
   "execution_count": null,
   "id": "166ff03b-3f61-4a08-9531-7d9ad01cd4bb",
   "metadata": {
    "editable": true,
    "slideshow": {
     "slide_type": ""
    },
    "tags": []
   },
   "outputs": [],
   "source": [
    "screen = pygame.display.set_mode((800, 600))\n",
    "running = True\n",
    "clock = pygame.time.Clock()\n",
    "\n",
    "\n",
    "### Display the image ###\n",
    "\n",
    "image_surf = pygame.image.load(\"../graphics/smile.png\")\n",
    "image_rect = image_surf.get_rect(midtop = (400,0))\n",
    "screen.blit(image_surf, image_rect)\n",
    "\n",
    "#########################\n",
    "\n",
    "\n",
    "while running:\n",
    "    for event in pygame.event.get():\n",
    "        if event.type == pygame.QUIT:\n",
    "            running = False\n",
    "            \n",
    "    ### Run constantly, until the user quits the window ###\n",
    "    \n",
    "    image_rect.y += 1                       # <<< Change me!!! (Number of pixels moving per frame)\n",
    "    screen.blit(image_surf, image_rect)     # Render the imag\n",
    "    pygame.display.update()                 # Update the Screen\n",
    "    clock.tick(60)                          # Refresh Rate (FPS) \n",
    "    \n",
    "    #######################################################\n",
    "pygame.quit() "
   ]
  },
  {
   "cell_type": "markdown",
   "id": "131641a5-6e90-4270-8215-59d46d8b6950",
   "metadata": {},
   "source": [
    "Hmmm, the image is leaving a track behind it, why?<br>\n",
    "When rendering an image using `screen.blit()`, the old images are not removed.<br>\n",
    "To stop producing a trail, we have to draw a background everytime before updating the screen.<br>\n",
    "We can either use an image as the background (using the same method as above, but a larger image),<br>\n",
    "or fill the background with one colour, using the command below:<br>\n",
    "```python\n",
    "screen.fill((255, 255, 255)) # Using RGB values\n",
    "screen.fill(\"#FFFFFF\")       # Using hexadecimal colour code\n",
    "screen.fill(\"White\")         # Using predefined colours\n",
    "```\n",
    "Now copy any one of these commands, and paste it to a suitable position,<br>\n",
    "such that the track is no longer visible."
   ]
  },
  {
   "cell_type": "code",
   "execution_count": null,
   "id": "fcb78dc7-8cdd-4b6a-abc1-bf01c2dfbb12",
   "metadata": {
    "editable": true,
    "slideshow": {
     "slide_type": ""
    },
    "tags": []
   },
   "outputs": [],
   "source": [
    "screen = pygame.display.set_mode((800, 600))\n",
    "running = True\n",
    "clock = pygame.time.Clock()\n",
    "\n",
    "image_surf = pygame.image.load(\"../graphics/smile.png\") # Load the image at the path provided\n",
    "image_rect = image_surf.get_rect(midtop = (400,0))\n",
    "screen.blit(image_surf, image_rect)\n",
    "\n",
    "while running:\n",
    "    for event in pygame.event.get():\n",
    "        if event.type == pygame.QUIT:\n",
    "            running = False\n",
    "            \n",
    "    ### Run constantly, until the user quits the window ###\n",
    "    \n",
    "    image_rect.y += 5                       # Move the image downwards (+y) by n pixels\n",
    "    screen.blit(image_surf, image_rect)     # Render the image\n",
    "    pygame.display.update()                 # Update the Screen\n",
    "    clock.tick(60)                          # Refresh Rate (FPS)\n",
    "    \n",
    "    #######################################################\n",
    "pygame.quit() "
   ]
  },
  {
   "cell_type": "markdown",
   "id": "e56d1117-7fb9-42ad-9729-f6f92aa42562",
   "metadata": {
    "jp-MarkdownHeadingCollapsed": true
   },
   "source": [
    "#### Answer"
   ]
  },
  {
   "cell_type": "code",
   "execution_count": null,
   "id": "ff8db8c8-7ddd-4d47-b8eb-ef83a1628f1b",
   "metadata": {},
   "outputs": [],
   "source": [
    "import pygame\n",
    "pygame.init()\n",
    "\n",
    "screen = pygame.display.set_mode((800, 600))\n",
    "running = True\n",
    "clock = pygame.time.Clock()\n",
    "\n",
    "image_surf = pygame.image.load(\"../graphics/smile.png\") # Load the image at the path provided\n",
    "image_rect = image_surf.get_rect(midtop = (400,0))\n",
    "screen.blit(image_surf, image_rect)\n",
    "\n",
    "while running:\n",
    "    for event in pygame.event.get():\n",
    "        if event.type == pygame.QUIT:\n",
    "            running = False\n",
    "            \n",
    "    ### Run constantly, until the user quits the window ###\n",
    "    \n",
    "    screen.fill((255, 255, 255))            # Draw the background (White)\n",
    "    image_rect.y += 5                       # Move the image downwards (+y) by n pixels\n",
    "    screen.blit(image_surf, image_rect)     # Render the image\n",
    "    pygame.display.update()                 # Update the Screen\n",
    "    clock.tick(60)                          # Refresh Rate (FPS)\n",
    "    \n",
    "    #######################################################\n",
    "pygame.quit() "
   ]
  },
  {
   "cell_type": "markdown",
   "id": "f565cd5b-c457-476a-808d-42e892ccf071",
   "metadata": {
    "editable": true,
    "slideshow": {
     "slide_type": ""
    },
    "tags": []
   },
   "source": [
    "### Experiment\n",
    "#### 1. Use your own image!\n",
    "Create a new image using MS Paint and save it the folder `graphics`<br>\n",
    "Then, change the path of the image to show yours!\n",
    "#### 2. How FPS affects the result?\n",
    "Now try to change the FPS value by changing the input value of `clock.tick()` in the above code, what can you observe?\n",
    "\n",
    "#### 3. How to move the image back? **[Challenging]**\n",
    "The image doesn't know how to come back on its own.<br>\n",
    "Try to add a conditional statement to the above code, to change `image_rect.y` back to 0 when `image_rect.y` > 600"
   ]
  },
  {
   "cell_type": "markdown",
   "id": "3d37da20-21e1-40e9-a6ba-aa9599342d48",
   "metadata": {
    "editable": true,
    "jp-MarkdownHeadingCollapsed": true,
    "slideshow": {
     "slide_type": ""
    },
    "tags": []
   },
   "source": [
    "#### Answer of Experiment 3"
   ]
  },
  {
   "cell_type": "code",
   "execution_count": 13,
   "id": "f9962c58-229e-468d-89e5-b3c6fed90f75",
   "metadata": {
    "editable": true,
    "slideshow": {
     "slide_type": ""
    },
    "tags": []
   },
   "outputs": [],
   "source": [
    "import pygame\n",
    "pygame.init()\n",
    "\n",
    "screen = pygame.display.set_mode((800, 600))\n",
    "running = True\n",
    "clock = pygame.time.Clock()\n",
    "\n",
    "image_surf = pygame.image.load(\"../graphics/smile.png\") # Load the image at the path provided\n",
    "image_rect = image_surf.get_rect(midtop = (400,0))\n",
    "screen.blit(image_surf, image_rect)\n",
    "\n",
    "while running:\n",
    "    for event in pygame.event.get():\n",
    "        if event.type == pygame.QUIT:\n",
    "            running = False\n",
    "            \n",
    "    ### Run constantly, until the user quits the window ###\n",
    "    \n",
    "    screen.fill((255, 255, 255))            # Draw the background (White)\n",
    "    image_rect.y += 5                       # Move the image to the right (+x) by n pixels\n",
    "    \n",
    "    if image_rect.y > 600:\n",
    "        image_rect.y = 0\n",
    "        \n",
    "    screen.blit(image_surf, image_rect)     # Render the image\n",
    "    pygame.display.update()                 # Update the Screen\n",
    "    clock.tick(60)                          # Refresh Rate (FPS)\n",
    "    \n",
    "    #######################################################\n",
    "pygame.quit() "
   ]
  },
  {
   "cell_type": "markdown",
   "id": "98911dd2-42ab-43b4-85fc-1a8285e9c5cf",
   "metadata": {
    "editable": true,
    "slideshow": {
     "slide_type": ""
    },
    "tags": []
   },
   "source": [
    "## 4.4 Showing Text"
   ]
  },
  {
   "cell_type": "markdown",
   "id": "a794a6a4-14db-4d41-9279-0da0413ae96b",
   "metadata": {
    "editable": true,
    "raw_mimetype": "",
    "slideshow": {
     "slide_type": ""
    },
    "tags": []
   },
   "source": [
    "To show a text, you need to define a font first.<br>\n",
    "```python\n",
    "font_name = pygame.font.Font(font_style, font_size)\n",
    "```\n",
    "For the font style, you can either use a font style file (`.ttf`, `.otf`, etc.), or use `None` to use the default font.<br>\n",
    "For now, let's just use the default font."
   ]
  },
  {
   "cell_type": "code",
   "execution_count": null,
   "id": "73c7b0d7-7dd9-41b5-ba79-fb34fa98b118",
   "metadata": {
    "editable": true,
    "slideshow": {
     "slide_type": ""
    },
    "tags": []
   },
   "outputs": [],
   "source": [
    "normal_font = pygame.font.Font(None, 50)\n",
    "# Define normal_font as a default font with a size of 50"
   ]
  },
  {
   "cell_type": "markdown",
   "id": "98466016-0cc9-447c-9327-f791bc4a9a50",
   "metadata": {
    "editable": true,
    "slideshow": {
     "slide_type": ""
    },
    "tags": []
   },
   "source": [
    "Then, load a text into a surface variable, just like an image, using the command:\n",
    "```python\n",
    "text_surf = font_name.render(text_content, anti-aliasing, colour)\n",
    "```\n",
    "`text_content` is a string that you want to display.<br>\n",
    "`anti-aliasing` is a boolean (`True`/`False`) to determine whether the text should have anti aliasing (抗鋸齒).<br>\n",
    "![img3](img3.png)<br>\n",
    "`colour` uses either RGB, hex-code, or default colours to determine the colour of the text. "
   ]
  },
  {
   "cell_type": "code",
   "execution_count": null,
   "id": "59aac450-53af-40e4-a9d8-744b842b1529",
   "metadata": {
    "editable": true,
    "slideshow": {
     "slide_type": ""
    },
    "tags": []
   },
   "outputs": [],
   "source": [
    "text_surf = normal_font.render(\"Hello\", True, \"Black\")\n",
    "# Creates a text surface of normal_font, displaying \"Hello\" with anti-aliasing in black"
   ]
  },
  {
   "cell_type": "markdown",
   "id": "9a0b2407-c2e1-4f40-b6b7-1bbd51548078",
   "metadata": {
    "editable": true,
    "slideshow": {
     "slide_type": ""
    },
    "tags": []
   },
   "source": [
    "We can also put it in a rectangle."
   ]
  },
  {
   "cell_type": "code",
   "execution_count": null,
   "id": "667af573-e2a2-4c9a-8621-07b89b22aee2",
   "metadata": {
    "editable": true,
    "slideshow": {
     "slide_type": ""
    },
    "tags": []
   },
   "outputs": [],
   "source": [
    "text_rect = text_surf.get_rect()"
   ]
  },
  {
   "cell_type": "code",
   "execution_count": 12,
   "id": "d03fb80a-0db1-4234-be82-60cefd7542db",
   "metadata": {
    "editable": true,
    "slideshow": {
     "slide_type": ""
    },
    "tags": []
   },
   "outputs": [],
   "source": [
    "import pygame\n",
    "pygame.init()\n",
    "\n",
    "screen = pygame.display.set_mode((800, 600))\n",
    "running = True\n",
    "clock = pygame.time.Clock()\n",
    "\n",
    "######################## Load the text ########################\n",
    "\n",
    "normal_font = pygame.font.Font(None, 50)                   # <<< Change me!\n",
    "text_surf = normal_font.render(\"Hello\", False, \"Black\")    # <<< Change me!\n",
    "text_rect = text_surf.get_rect(topleft = (50, 50))         # <<< Change me!               \n",
    "\n",
    "###############################################################\n",
    "\n",
    "while running:\n",
    "    for event in pygame.event.get():\n",
    "        if event.type == pygame.QUIT:\n",
    "            running = False\n",
    "            \n",
    "    ### Run constantly, until the user quits the window ###\n",
    "    \n",
    "    screen.fill(\"White\")                    # Fill the background in white\n",
    "    screen.blit(text_surf, text_rect)       # Display the text\n",
    "    pygame.display.update()                 # Update the Screen\n",
    "    clock.tick(60)                          # Refresh Rate (FPS)\n",
    "    \n",
    "    #######################################################\n",
    "    \n",
    "pygame.quit() "
   ]
  },
  {
   "cell_type": "markdown",
   "id": "4508fcc8-06ad-4aa8-a349-7fdac56568da",
   "metadata": {
    "editable": true,
    "slideshow": {
     "slide_type": ""
    },
    "tags": []
   },
   "source": [
    "Try to change how the text is loaded to change its appearance!"
   ]
  },
  {
   "cell_type": "code",
   "execution_count": null,
   "id": "929d8ebe-cfcd-4798-ba95-53387deb25f8",
   "metadata": {
    "editable": true,
    "slideshow": {
     "slide_type": ""
    },
    "tags": []
   },
   "outputs": [],
   "source": []
  }
 ],
 "metadata": {
  "kernelspec": {
   "display_name": "Python 3 (ipykernel)",
   "language": "python",
   "name": "python3"
  },
  "language_info": {
   "codemirror_mode": {
    "name": "ipython",
    "version": 3
   },
   "file_extension": ".py",
   "mimetype": "text/x-python",
   "name": "python",
   "nbconvert_exporter": "python",
   "pygments_lexer": "ipython3",
   "version": "3.11.4"
  }
 },
 "nbformat": 4,
 "nbformat_minor": 5
}
