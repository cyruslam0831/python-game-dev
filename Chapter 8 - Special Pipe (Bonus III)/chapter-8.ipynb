{
 "cells": [
  {
   "cell_type": "markdown",
   "id": "e581f24e-0a16-434d-8626-969091c127d4",
   "metadata": {},
   "source": [
    "# Chapter 8 - Special Pipe (Bonus III)"
   ]
  },
  {
   "cell_type": "code",
   "execution_count": null,
   "id": "c35ae382-805c-4af0-81d5-a868a2a1eb2c",
   "metadata": {},
   "outputs": [],
   "source": []
  }
 ],
 "metadata": {
  "kernelspec": {
   "display_name": "Python 3 (ipykernel)",
   "language": "python",
   "name": "python3"
  },
  "language_info": {
   "codemirror_mode": {
    "name": "ipython",
    "version": 3
   },
   "file_extension": ".py",
   "mimetype": "text/x-python",
   "name": "python",
   "nbconvert_exporter": "python",
   "pygments_lexer": "ipython3",
   "version": "3.11.4"
  }
 },
 "nbformat": 4,
 "nbformat_minor": 5
}
