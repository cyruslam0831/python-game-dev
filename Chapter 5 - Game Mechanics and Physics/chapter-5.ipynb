{
 "cells": [
  {
   "cell_type": "markdown",
   "id": "885a3590-cac2-4d25-b51c-9c9ff4767b09",
   "metadata": {},
   "source": [
    "# Chapter 5 - Game Mechanics and Physics"
   ]
  },
  {
   "cell_type": "code",
   "execution_count": 23,
   "id": "3d2aa89c-0331-4b1a-8344-194acb78123e",
   "metadata": {},
   "outputs": [
    {
     "name": "stdout",
     "output_type": "stream",
     "text": [
      "Pygame imported!\n"
     ]
    }
   ],
   "source": [
    "# Run me!\n",
    "import pygame\n",
    "pygame.init()\n",
    "print(\"Pygame imported!\")"
   ]
  },
  {
   "cell_type": "markdown",
   "id": "350e7281-8277-43ee-a868-cee4a1a67119",
   "metadata": {
    "editable": true,
    "slideshow": {
     "slide_type": ""
    },
    "tags": []
   },
   "source": [
    "## 5.1 Your own graphics"
   ]
  },
  {
   "cell_type": "markdown",
   "id": "530dcb4c-4e97-440a-a99f-8e8a193d285c",
   "metadata": {
    "editable": true,
    "slideshow": {
     "slide_type": ""
    },
    "tags": []
   },
   "source": [
    "\n",
    "Before we start, you can first import your own graphics.<br>\n",
    "We need 4 images:<br>\n",
    "* `bird.png` : The bird (Player)<br>\n",
    "* `bird_dead.png` : The bird (Player) when game over<br>\n",
    "* `pipe.png` : The pipes (Opening on top)<br>\n",
    "* `bg.png` : The background <br>\n",
    "\n",
    "The images should be put into the file `graphics` (located in the folder with all chapters)"
   ]
  },
  {
   "cell_type": "markdown",
   "id": "de328d20-b4ab-4faf-9b89-123bb9735cc8",
   "metadata": {
    "editable": true,
    "slideshow": {
     "slide_type": ""
    },
    "tags": []
   },
   "source": [
    "## 5.2 Gravity"
   ]
  },
  {
   "cell_type": "markdown",
   "id": "1249de21-3824-418c-8ec8-1ee81568bbf2",
   "metadata": {
    "editable": true,
    "slideshow": {
     "slide_type": ""
    },
    "tags": []
   },
   "source": [
    "\n",
    "In chapter 4, we learnt how to move an image with constant speed.<br>\n",
    "In real life, free falling objects fall with increasing speed, i.e. with acceleration.<br>\n",
    "Accleration is a constant, and it descibes the rate of change of velocity.<br>\n",
    "\n",
    "### $a = {Δv \\over Δt}$<br>\n",
    "### $v = {Δs \\over Δt}$\n",
    "\n",
    "To replicate gravity, we can store the acceleration and the velocity of the player as variables.<br>\n",
    "<hr>\n",
    "\n",
    "Note that **downwards** is **positive y** but not negative y, therefore, the acceleration should be a **positive** value."
   ]
  },
  {
   "cell_type": "code",
   "execution_count": 38,
   "id": "801ab514-42e1-4edd-83ab-e55a49eb9e08",
   "metadata": {
    "editable": true,
    "slideshow": {
     "slide_type": ""
    },
    "tags": []
   },
   "outputs": [
    {
     "name": "stdout",
     "output_type": "stream",
     "text": [
      "Acceleration set to 0.5!\n"
     ]
    }
   ],
   "source": [
    "bird_acc = 0.5\n",
    "print(f\"Acceleration set to {bird_acc}!\")"
   ]
  },
  {
   "cell_type": "markdown",
   "id": "169d7ac9-d017-403b-89ea-39b66ce442bc",
   "metadata": {
    "editable": true,
    "slideshow": {
     "slide_type": ""
    },
    "tags": []
   },
   "source": [
    "<hr>\n",
    "Now run the following code:"
   ]
  },
  {
   "cell_type": "code",
   "execution_count": 25,
   "id": "b0939a50-b846-4543-95d0-480853a7ef68",
   "metadata": {
    "editable": true,
    "slideshow": {
     "slide_type": ""
    },
    "tags": []
   },
   "outputs": [],
   "source": [
    "import pygame\n",
    "pygame.init()\n",
    "\n",
    "screen = pygame.display.set_mode((800, 600))\n",
    "running = True\n",
    "clock = pygame.time.Clock()\n",
    "\n",
    "bird_surf = pygame.image.load(\"../graphics/bird.png\") # Load the image at the path provided\n",
    "bird_rect = bird_surf.get_rect(center = (60,300))\n",
    "screen.blit(bird_surf, bird_rect)\n",
    "bird_vel = 0\n",
    "bird_posy = 300\n",
    "\n",
    "while running:\n",
    "    screen.fill((255, 255, 255))      \n",
    "    screen.blit(bird_surf, bird_rect)   \n",
    "    for event in pygame.event.get():\n",
    "        if event.type == pygame.QUIT:\n",
    "            running = False\n",
    "\n",
    "    ####################### Bird Physics #######################\n",
    "    \n",
    "    bird_vel += bird_acc\n",
    "    bird_posy += bird_vel\n",
    "    bird_rect.y = bird_posy\n",
    "\n",
    "    ############################################################\n",
    " \n",
    "    pygame.display.update()                 \n",
    "    clock.tick(60)                          \n",
    "    \n",
    "pygame.quit() "
   ]
  },
  {
   "cell_type": "markdown",
   "id": "77fca727-4307-421f-8746-368d8e537669",
   "metadata": {
    "editable": true,
    "slideshow": {
     "slide_type": ""
    },
    "tags": []
   },
   "source": [
    "<hr>\n",
    "\n",
    "Now try to change the value of the acceleration, then run the above code again, and see what happens!"
   ]
  },
  {
   "cell_type": "code",
   "execution_count": 26,
   "id": "bbdbe00e-2afa-4aa3-849f-c77da793fab3",
   "metadata": {
    "editable": true,
    "slideshow": {
     "slide_type": ""
    },
    "tags": []
   },
   "outputs": [
    {
     "name": "stdout",
     "output_type": "stream",
     "text": [
      "Acceleration set to 1!\n"
     ]
    }
   ],
   "source": [
    "bird_acc = 1\n",
    "print(f\"Acceleration set to {bird_acc}!\")"
   ]
  },
  {
   "cell_type": "markdown",
   "id": "834eb36f-2b1c-4028-a9da-7a0f2c2cf3b2",
   "metadata": {
    "editable": true,
    "slideshow": {
     "slide_type": ""
    },
    "tags": []
   },
   "source": [
    "## 5.3 Jumping"
   ]
  },
  {
   "cell_type": "markdown",
   "id": "a497bd72-bdb9-47b5-aeb1-b43d9186c7af",
   "metadata": {
    "editable": true,
    "slideshow": {
     "slide_type": ""
    },
    "tags": []
   },
   "source": [
    "To jump, the velocity should be set upwards, i.e. **negative y**.<br>\n",
    "Try to complete the `jump()` function, and test it with different velocity values:"
   ]
  },
  {
   "cell_type": "code",
   "execution_count": 27,
   "id": "f09c2b2c-6a17-48b0-8afa-f355de3c3e94",
   "metadata": {
    "editable": true,
    "slideshow": {
     "slide_type": ""
    },
    "tags": []
   },
   "outputs": [],
   "source": [
    "def jump():\n",
    "    global bird_vel\n",
    "    # Write the jump() function here\n",
    "    "
   ]
  },
  {
   "cell_type": "markdown",
   "id": "7bdfef34-c6d8-4d75-9777-ee4c990d2504",
   "metadata": {
    "editable": true,
    "slideshow": {
     "slide_type": ""
    },
    "tags": []
   },
   "source": [
    "<hr>\n",
    "\n",
    "The following code runs the `jump()` function when the `Space` button is pressed.<br>\n",
    "After completing the `jump()` function, run the following code to test it out:"
   ]
  },
  {
   "cell_type": "code",
   "execution_count": 28,
   "id": "8b2f442a-62d8-4a53-99d1-1e1717094322",
   "metadata": {
    "editable": true,
    "slideshow": {
     "slide_type": ""
    },
    "tags": []
   },
   "outputs": [],
   "source": [
    "import pygame\n",
    "pygame.init()\n",
    "\n",
    "screen = pygame.display.set_mode((800, 600))\n",
    "running = True\n",
    "clock = pygame.time.Clock()\n",
    "\n",
    "bird_surf = pygame.image.load(\"../graphics/bird.png\") # Load the image at the path provided\n",
    "bird_rect = bird_surf.get_rect(center = (60,300))\n",
    "screen.blit(bird_surf, bird_rect)\n",
    "bird_vel = 0\n",
    "bird_posy = 300\n",
    "\n",
    "while running:\n",
    "    screen.fill((255, 255, 255))      \n",
    "    screen.blit(bird_surf, bird_rect)\n",
    "    for event in pygame.event.get():\n",
    "        if event.type == pygame.QUIT:\n",
    "            running = False\n",
    "        if event.type == pygame.KEYDOWN:\n",
    "            if event.key == pygame.K_SPACE:\n",
    "                jump() # Calls the jump function\n",
    "                \n",
    "    \n",
    "    \n",
    "    bird_vel += bird_acc\n",
    "    bird_posy += bird_vel                       \n",
    "    bird_rect.y = bird_posy\n",
    "    ############################################################\n",
    "    # Add a conditional statement here\n",
    "    \n",
    "\n",
    "    ############################################################\n",
    "    pygame.display.update()                 \n",
    "    clock.tick(60)                          \n",
    "    \n",
    "pygame.quit() "
   ]
  },
  {
   "cell_type": "markdown",
   "id": "5ba005b8-1ce3-432a-b9c2-ce6f468f12f2",
   "metadata": {
    "editable": true,
    "slideshow": {
     "slide_type": ""
    },
    "tags": []
   },
   "source": [
    "Note that the bird can now fly beyond the boundaries of the window, which is not ideal.<br>\n",
    "This can be fixed by setting both the velocity `(bird_vel)` and y position (`bird_rect.y`) of the bird to 0 (top of the screen), whenever the y position is negative (out of the screen).<br>\n",
    "Add a **conditional statement** to the code above, to implement this feature!"
   ]
  },
  {
   "cell_type": "markdown",
   "id": "8693a56a-3c04-4ff1-b37f-bd4cec667a3f",
   "metadata": {
    "editable": true,
    "slideshow": {
     "slide_type": ""
    },
    "tags": []
   },
   "source": [
    "## 5.4 Pipes"
   ]
  },
  {
   "cell_type": "markdown",
   "id": "d6340a06-d244-41d2-b3f4-a1e5fae1167a",
   "metadata": {
    "editable": true,
    "slideshow": {
     "slide_type": ""
    },
    "tags": []
   },
   "source": [
    "Pipes in the game have random games.<br>\n",
    "To recreate this, we need to use the function `random()`.<br>\n",
    "But before that, we need to import the library `random`<br>\n",
    "```python\n",
    "from random import *\n",
    "```\n",
    "For the value generated by `random()`: $0 ≤ random() < 1$<br>\n",
    "Complete the following function to return a suitable gap position (150 ≤ Return value < 450):"
   ]
  },
  {
   "cell_type": "code",
   "execution_count": 68,
   "id": "d29ab48e-16ea-4d7c-9574-343bb6f0872c",
   "metadata": {
    "editable": true,
    "slideshow": {
     "slide_type": ""
    },
    "tags": []
   },
   "outputs": [],
   "source": [
    "from random import *\n",
    "def randomGap():\n",
    "    return random() * 1 + 0    # <<< Modify the algorithm to return the gap height"
   ]
  },
  {
   "cell_type": "markdown",
   "id": "74722182-5964-4f35-a024-bfce4a18a87a",
   "metadata": {
    "editable": true,
    "slideshow": {
     "slide_type": ""
    },
    "tags": []
   },
   "source": [
    "<hr>\n",
    "\n",
    "Test your function using the code below:"
   ]
  },
  {
   "cell_type": "code",
   "execution_count": 67,
   "id": "edda7eac-779b-40ee-a233-0fd0f371587f",
   "metadata": {
    "editable": true,
    "slideshow": {
     "slide_type": ""
    },
    "tags": []
   },
   "outputs": [
    {
     "name": "stdout",
     "output_type": "stream",
     "text": [
      "238.49633525829628\n",
      "151.14243640188448\n",
      "406.879717839943\n",
      "355.97483829773705\n",
      "433.7950864526147\n",
      "159.1023656517017\n",
      "432.02323801150374\n",
      "244.73429720753057\n",
      "399.5114579217045\n",
      "276.13308879942093\n"
     ]
    }
   ],
   "source": [
    "for x in range(10):\n",
    "    print(randomGap())"
   ]
  },
  {
   "cell_type": "markdown",
   "id": "c96d9e21-eafc-4b82-9d4d-71e92c60c109",
   "metadata": {},
   "source": [
    "The function `randomGap()` will be used in the following code to create the pipes:"
   ]
  },
  {
   "cell_type": "code",
   "execution_count": 34,
   "id": "e2b4c2f8-42b7-480e-b820-0f7d0d83bf88",
   "metadata": {},
   "outputs": [],
   "source": [
    "class pipe_data():\n",
    "    posx = 800\n",
    "    scored = False\n",
    "    \n",
    "    def __init__(self):\n",
    "        self.gap = randomGap()\n",
    "        self.lower_surf = pygame.image.load('../graphics/pipe.png')\n",
    "        self.upper_surf = pygame.transform.flip(pygame.image.load('../graphics/pipe.png'), False, True)\n",
    "        self.upper_rect = self.upper_surf.get_rect(bottomleft = (800, self.gap - gap_width / 2))\n",
    "        self.lower_rect = self.lower_surf.get_rect(topleft = (800, self.gap + gap_width / 2))\n",
    "        \n",
    "    def draw(self):\n",
    "        screen.blit(self.upper_surf, self.upper_rect)\n",
    "        screen.blit(self.lower_surf, self.lower_rect)"
   ]
  },
  {
   "cell_type": "markdown",
   "id": "8fe45ad7-5f37-436e-8270-577e1e682d1b",
   "metadata": {},
   "source": [
    "## 5.5 All game functions"
   ]
  },
  {
   "cell_type": "markdown",
   "id": "4f01dffb-aeba-4edb-ad6f-864a26e13a48",
   "metadata": {},
   "source": [
    "`jump()`<br>\n",
    "#### What it does\n",
    "Give the player an upward velocity\n",
    "\n",
    "#### When it is activated\n",
    "When `Space` is pressed\n",
    "\n",
    "#### Return value\n",
    "None\n",
    "\n",
    "#### Code"
   ]
  },
  {
   "cell_type": "code",
   "execution_count": 27,
   "id": "9aeebde0-809a-448c-9bb6-4907ae668a36",
   "metadata": {
    "editable": true,
    "slideshow": {
     "slide_type": ""
    },
    "tags": []
   },
   "outputs": [],
   "source": [
    "def jump():\n",
    "    global bird_vel\n",
    "    # Write the jump() function here\n",
    "    "
   ]
  },
  {
   "cell_type": "markdown",
   "id": "97bf789b-a2e4-4a07-9d0d-7eebddfe5990",
   "metadata": {},
   "source": [
    "<hr>\n",
    "\n",
    "`randomGap()`\n",
    "#### What it does\n",
    "Generate a random number from 150 to 450\n",
    "\n",
    "#### When it is activated\n",
    "When a pipe is created\n",
    "\n",
    "#### Return value\n",
    "The random number generated\n",
    "\n",
    "#### Code"
   ]
  },
  {
   "cell_type": "code",
   "execution_count": 53,
   "id": "c53f81f2-65f4-448d-bfc9-cca7291c881a",
   "metadata": {},
   "outputs": [],
   "source": [
    "from random import *\n",
    "def randomGap():\n",
    "    return random() * 300 + 150"
   ]
  },
  {
   "cell_type": "markdown",
   "id": "2778d38b-8a6f-4ba1-95f2-02ddb5ee4e2d",
   "metadata": {},
   "source": [
    "<hr>\n",
    "\n",
    "`gameReset()`\n",
    "#### What it does\n",
    "Initiate the variables\n",
    "\n",
    "#### When it is activated\n",
    "When a new game is started\n",
    "\n",
    "#### Return value\n",
    "None\n",
    "\n",
    "#### Code"
   ]
  },
  {
   "cell_type": "code",
   "execution_count": 49,
   "id": "438705ce-7c70-4779-9484-3209f03b59a6",
   "metadata": {
    "editable": true,
    "slideshow": {
     "slide_type": ""
    },
    "tags": []
   },
   "outputs": [],
   "source": [
    "def gameReset():\n",
    "    global gameActive, isGameOver, bird_posy, bird_vel, score, distance, bird_surf, pipes, lastPipe, bird_rect, speed, score_surf, score_rect, score_text, pipeDistance, gap_width, normal_text, start_surf, start\n",
    "    gameActive = isGameOver = False\n",
    "    bird_posy = 300\n",
    "    bird_vel = -10\n",
    "    pipeDistance = 300\n",
    "    gap_width = 250\n",
    "    speed = 3\n",
    "    bird_acc = 0.5\n",
    "    score = distance = lastPipe = 0\n",
    "    score_text = pygame.font.Font(None, 100)\n",
    "    score_surf = score_text.render(str(score), True, \"Black\")\n",
    "    score_rect = score_surf.get_rect(center = (400, 50))\n",
    "    pipes = []\n",
    "    bird_surf = pygame.image.load('../graphics/bird.png')\n",
    "    bird_rect = bird_surf.get_rect(center = (60, 300))\n",
    "    normal_text = pygame.font.Font(None, 50) \n",
    "    start_surf = normal_text.render(\"Press [Space] to Start!\", True, \"Blue\")\n",
    "    start_rect = start_surf.get_rect(center = (400, 250))"
   ]
  },
  {
   "cell_type": "markdown",
   "id": "d0785e2f-5fb6-455c-8a51-306e5c9eb2fb",
   "metadata": {},
   "source": [
    "<hr>\n",
    "\n",
    "`gameOver()`"
   ]
  },
  {
   "cell_type": "code",
   "execution_count": 50,
   "id": "3f922fa4-e299-4b02-bfac-b7fbc0a6e8e4",
   "metadata": {
    "editable": true,
    "slideshow": {
     "slide_type": ""
    },
    "tags": []
   },
   "outputs": [],
   "source": [
    "def gameOver():\n",
    "    global bird_vel, isGameOver, normal_text, lost_rect, lost_surf, scoreShow_rect, scoreShow_surf, glide, bird_surf, restart_rect, restart_surf\n",
    "    bird_vel = -10\n",
    "    isGameOver = True\n",
    "    lost_surf = normal_text.render(\"Game Over...\", True, \"Red\")\n",
    "    lost_rect = lost_surf.get_rect(center = (400, 280))\n",
    "    scoreShow_surf = normal_text.render(f\"Your Score: {score}\", True, \"Red\")\n",
    "    scoreShow_rect = scoreShow_surf.get_rect(center = (400, 320))\n",
    "    bird_surf = pygame.image.load('../graphics/bird_dead.png')\n",
    "    restart_surf = normal_text.render(\"Press [R] to Play Again\", True, \"Blue\")\n",
    "    restart_rect = restart_surf.get_rect(center = (400, 400))"
   ]
  },
  {
   "cell_type": "markdown",
   "id": "4182c31a-e541-4e0f-bcc2-c9b90a08b090",
   "metadata": {},
   "source": [
    "### Final Game"
   ]
  },
  {
   "cell_type": "code",
   "execution_count": 51,
   "id": "a7a7ca60-ee55-4f48-b00b-93dcc09f4821",
   "metadata": {
    "editable": true,
    "scrolled": true,
    "slideshow": {
     "slide_type": ""
    },
    "tags": []
   },
   "outputs": [],
   "source": [
    "import pygame\n",
    "pygame.init()\n",
    "\n",
    "screen = pygame.display.set_mode((800, 600))\n",
    "running = True\n",
    "clock = pygame.time.Clock()\n",
    "\n",
    "gameReset()\n",
    "\n",
    "screen.blit(bird_surf, bird_rect)\n",
    "\n",
    "while running:\n",
    "    screen.fill((255, 255, 255))      \n",
    "    screen.blit(bird_surf, bird_rect)\n",
    "    \n",
    "    for event in pygame.event.get(): # Loop through events\n",
    "        if event.type == pygame.QUIT:\n",
    "            running = False\n",
    "            \n",
    "        if event.type == pygame.KEYDOWN and not isGameOver:\n",
    "            if event.key == pygame.K_SPACE:\n",
    "                bird_vel = -10\n",
    "                \n",
    "        if event.type == pygame.KEYDOWN and event.key == pygame.K_r:\n",
    "            gameReset()\n",
    "        else:\n",
    "            if event.type == pygame.KEYDOWN and event.key == pygame.K_SPACE:\n",
    "                gameActive = True\n",
    "\n",
    "    if gameActive:\n",
    "        \n",
    "        bird_vel += bird_acc\n",
    "        bird_posy += bird_vel\n",
    "        \n",
    "        if bird_posy < 0:\n",
    "            bird_vel = bird_posy = 0\n",
    "        bird_rect.y = bird_posy\n",
    "\n",
    "        for current in pipes:\n",
    "            current.draw()\n",
    "        if not isGameOver:\n",
    "            for current in pipes:\n",
    "                current.posx -= speed\n",
    "                current.upper_rect.x = current.lower_rect.x = current.posx\n",
    "                if not current.scored and current.posx < 0:\n",
    "                    score += 1\n",
    "                    current.scored = True\n",
    "                \n",
    "                if current.posx < -60:\n",
    "                    pipes.remove(current)\n",
    "                    \n",
    "                if current.upper_rect.colliderect(bird_rect) or current.lower_rect.colliderect(bird_rect):\n",
    "                    gameOver()\n",
    "                    \n",
    "            if distance - lastPipe >= pipeDistance:\n",
    "                lastPipe = distance\n",
    "                pipes.append(pipe_data())\n",
    "                \n",
    "            distance += speed\n",
    "    \n",
    "            if bird_posy > 550:\n",
    "                gameOver()\n",
    "        else:\n",
    "            screen.blit(lost_surf, lost_rect)\n",
    "            screen.blit(scoreShow_surf, scoreShow_rect)\n",
    "            screen.blit(restart_surf, restart_rect)\n",
    "            speed = 0\n",
    "    else: \n",
    "        screen.blit(start_surf, start_rect)\n",
    "        \n",
    "    score_surf = score_text.render(str(score), 100, \"Black\")\n",
    "    score_rect = score_surf.get_rect(center = (400, 50))\n",
    "    screen.blit(score_surf, score_rect)\n",
    "    pygame.display.update()                 \n",
    "    clock.tick(60)                          \n",
    "    \n",
    "pygame.quit() "
   ]
  },
  {
   "cell_type": "code",
   "execution_count": 6,
   "id": "cfdde83b-e862-4101-bdd1-155e987ef2d9",
   "metadata": {},
   "outputs": [
    {
     "name": "stderr",
     "output_type": "stream",
     "text": [
      "fatal: You must specify a repository to clone.\n",
      "\n",
      "usage: git clone [<options>] [--] <repo> [<dir>]\n",
      "\n",
      "    -v, --verbose         be more verbose\n",
      "    -q, --quiet           be more quiet\n",
      "    --progress            force progress reporting\n",
      "    --reject-shallow      don't clone shallow repository\n",
      "    -n, --no-checkout     don't create a checkout\n",
      "    --bare                create a bare repository\n",
      "    --mirror              create a mirror repository (implies bare)\n",
      "    -l, --local           to clone from a local repository\n",
      "    --no-hardlinks        don't use local hardlinks, always copy\n",
      "    -s, --shared          setup as shared repository\n",
      "    --recurse-submodules[=<pathspec>]\n",
      "                          initialize submodules in the clone\n",
      "    --recursive ...       alias of --recurse-submodules\n",
      "    -j, --jobs <n>        number of submodules cloned in parallel\n",
      "    --template <template-directory>\n",
      "                          directory from which templates will be used\n",
      "    --reference <repo>    reference repository\n",
      "    --reference-if-able <repo>\n",
      "                          reference repository\n",
      "    --dissociate          use --reference only while cloning\n",
      "    -o, --origin <name>   use <name> instead of 'origin' to track upstream\n",
      "    -b, --branch <branch>\n",
      "                          checkout <branch> instead of the remote's HEAD\n",
      "    -u, --upload-pack <path>\n",
      "                          path to git-upload-pack on the remote\n",
      "    --depth <depth>       create a shallow clone of that depth\n",
      "    --shallow-since <time>\n",
      "                          create a shallow clone since a specific time\n",
      "    --shallow-exclude <revision>\n",
      "                          deepen history of shallow clone, excluding rev\n",
      "    --single-branch       clone only one branch, HEAD or --branch\n",
      "    --no-tags             don't clone any tags, and make later fetches not to follow them\n",
      "    --shallow-submodules  any cloned submodules will be shallow\n",
      "    --separate-git-dir <gitdir>\n",
      "                          separate git dir from working tree\n",
      "    -c, --config <key=value>\n",
      "                          set config inside the new repository\n",
      "    --server-option <server-specific>\n",
      "                          option to transmit\n",
      "    -4, --ipv4            use IPv4 addresses only\n",
      "    -6, --ipv6            use IPv6 addresses only\n",
      "    --filter <args>       object filtering\n",
      "    --also-filter-submodules\n",
      "                          apply partial clone filters to submodules\n",
      "    --remote-submodules   any cloned submodules will use their remote-tracking branch\n",
      "    --sparse              initialize sparse-checkout file to include only files at root\n",
      "    --bundle-uri <uri>    a URI for downloading bundles before fetching from origin remote\n",
      "\n"
     ]
    }
   ],
   "source": [
    "!git clone "
   ]
  },
  {
   "cell_type": "code",
   "execution_count": null,
   "id": "db3ea232-9201-4f1d-9680-f90d1c5badd3",
   "metadata": {},
   "outputs": [],
   "source": []
  }
 ],
 "metadata": {
  "kernelspec": {
   "display_name": "Python 3 (ipykernel)",
   "language": "python",
   "name": "python3"
  },
  "language_info": {
   "codemirror_mode": {
    "name": "ipython",
    "version": 3
   },
   "file_extension": ".py",
   "mimetype": "text/x-python",
   "name": "python",
   "nbconvert_exporter": "python",
   "pygments_lexer": "ipython3",
   "version": "3.11.4"
  }
 },
 "nbformat": 4,
 "nbformat_minor": 5
}
