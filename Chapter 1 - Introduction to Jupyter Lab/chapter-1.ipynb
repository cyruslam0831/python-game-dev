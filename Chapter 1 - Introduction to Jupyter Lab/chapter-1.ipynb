{
 "cells": [
  {
   "attachments": {},
   "cell_type": "markdown",
   "id": "e50f6570-2a29-4f08-9214-9bb2a6174985",
   "metadata": {
    "editable": true,
    "slideshow": {
     "slide_type": ""
    },
    "tags": []
   },
   "source": [
    "# Chapter 1 - Introduction to Jupyter Lab"
   ]
  },
  {
   "attachments": {},
   "cell_type": "markdown",
   "id": "405ce446-10bd-4a34-b58e-2689932fb2bb",
   "metadata": {
    "editable": true,
    "slideshow": {
     "slide_type": ""
    },
    "tags": []
   },
   "source": [
    "## 1.1 Cell"
   ]
  },
  {
   "cell_type": "code",
   "execution_count": 1,
   "id": "9491347c-939a-42a5-abb0-c4f7b4fb89eb",
   "metadata": {
    "editable": true,
    "slideshow": {
     "slide_type": ""
    },
    "tags": []
   },
   "outputs": [],
   "source": [
    "# This is a cell\n",
    "# Codes are written in cell"
   ]
  },
  {
   "cell_type": "markdown",
   "id": "9d4bdb68-278d-4e5f-a7b6-3e1b17e6a0e2",
   "metadata": {
    "editable": true,
    "slideshow": {
     "slide_type": ""
    },
    "tags": []
   },
   "source": [
    "## 1.2 Running a cell"
   ]
  },
  {
   "attachments": {},
   "cell_type": "markdown",
   "id": "93e9abb2-e462-4ddc-8420-de608199d726",
   "metadata": {
    "slideshow": {
     "slide_type": ""
    },
    "tags": []
   },
   "source": [
    "First, select a cell by clicking on it. <br>\n",
    "Press ```Shift``` + ```Enter``` (at the same time) to Run! <br>\n",
    "You can also click the ```▶``` button above. <br><br>\n",
    "The output will be shown below the cell."
   ]
  },
  {
   "cell_type": "code",
   "execution_count": 1,
   "id": "9d94effd-1310-4099-848d-5127a69f0463",
   "metadata": {
    "editable": true,
    "slideshow": {
     "slide_type": ""
    },
    "tags": []
   },
   "outputs": [
    {
     "name": "stdout",
     "output_type": "stream",
     "text": [
      "Try to run me!\n"
     ]
    }
   ],
   "source": [
    "print(\"Try to run me!\")"
   ]
  },
  {
   "attachments": {},
   "cell_type": "markdown",
   "id": "61a47ab2-be11-4ece-b27b-4605a35833c4",
   "metadata": {
    "slideshow": {
     "slide_type": ""
    },
    "tags": []
   },
   "source": [
    "<hr>\n",
    "If you accidentally started to edit the tutorial (markdown), <br>\n",
    "you can use the same method to stop editting it."
   ]
  },
  {
   "cell_type": "markdown",
   "id": "ad32d703-6fe2-43f0-a6cd-1fc8b665f8f5",
   "metadata": {
    "slideshow": {
     "slide_type": ""
    },
    "tags": []
   },
   "source": [
    "## 1.3 Comments"
   ]
  },
  {
   "attachments": {},
   "cell_type": "markdown",
   "id": "c6799df3-eab0-48d1-b095-62a9cddafb6a",
   "metadata": {
    "slideshow": {
     "slide_type": ""
    },
    "tags": []
   },
   "source": [
    "In Python, sentences behind hashtags ```#``` are comments. <br>\n",
    "For example,\n",
    "```python\n",
    "# This is a comment\n",
    "```\n",
    "Comments will not be executed by the computer.<br>\n",
    "Try to run the following code:"
   ]
  },
  {
   "cell_type": "code",
   "execution_count": 3,
   "id": "4076d36b-573e-460b-b7d5-a85c90fa416d",
   "metadata": {
    "editable": true,
    "slideshow": {
     "slide_type": ""
    },
    "tags": []
   },
   "outputs": [
    {
     "name": "stdout",
     "output_type": "stream",
     "text": [
      "I am not a comment\n",
      "I am executed!\n"
     ]
    }
   ],
   "source": [
    "# print(\"This is a comment\")\n",
    "# print(\"I am not executed...\")\n",
    "print(\"I am not a comment\")\n",
    "print(\"I am executed!\")"
   ]
  },
  {
   "cell_type": "markdown",
   "id": "d07541f0-ddc6-453d-8a61-0cfc32111b94",
   "metadata": {},
   "source": [
    "<hr>"
   ]
  },
  {
   "attachments": {},
   "cell_type": "markdown",
   "id": "af301bce-2acd-4992-8f6e-d6d9721e638f",
   "metadata": {
    "slideshow": {
     "slide_type": ""
    },
    "tags": []
   },
   "source": [
    "You can also create comments by using a pair of 3 single quotation marks ```'''``` <br>\n",
    "Comments of multiple lines can be created by this method\n",
    "For example,\n",
    "```python\n",
    "'''\n",
    "This is a multi-line comment\n",
    "This is a multi-line comment\n",
    "This is a multi-line comment\n",
    "'''\n",
    "```"
   ]
  },
  {
   "cell_type": "code",
   "execution_count": 4,
   "id": "ca4c58ed-b2c3-4ae7-aad7-8a042e7af860",
   "metadata": {
    "editable": true,
    "slideshow": {
     "slide_type": ""
    },
    "tags": []
   },
   "outputs": [
    {
     "name": "stdout",
     "output_type": "stream",
     "text": [
      "I am not bounded by the quotation marks\n",
      "I am being executed!\n"
     ]
    }
   ],
   "source": [
    "''' \n",
    "This is a multi-line comment\n",
    "print(\"I am not executed\")\n",
    "print(\"I am not executed\")\n",
    "print(\"I am not executed\")\n",
    "'''\n",
    "\n",
    "print(\"I am not bounded by the quotation marks\")\n",
    "print(\"I am being executed!\") "
   ]
  },
  {
   "attachments": {},
   "cell_type": "markdown",
   "id": "1637e54f-b11a-4131-bb04-543dcbe795e7",
   "metadata": {
    "slideshow": {
     "slide_type": ""
    },
    "tags": []
   },
   "source": [
    "Comments are here to help you <br>\n",
    "Try not to delete the hashtags or the quotations marks, or else, an error might occur"
   ]
  },
  {
   "cell_type": "markdown",
   "id": "3ac4a815-7492-47e7-a572-dd984e3d23b4",
   "metadata": {
    "slideshow": {
     "slide_type": ""
    },
    "tags": []
   },
   "source": [
    "## 1.4 Editing cells\n"
   ]
  },
  {
   "attachments": {},
   "cell_type": "markdown",
   "id": "d0069ced-2bd9-4623-80e2-1af8fed29600",
   "metadata": {
    "slideshow": {
     "slide_type": ""
    },
    "tags": []
   },
   "source": [
    "Edit the cell below to calculate the sum of other numbers! <br> \n",
    "Try to run the cell after that (Click ```▶``` / Press ```Shift``` + ```Enter```)"
   ]
  },
  {
   "cell_type": "code",
   "execution_count": 5,
   "id": "3bd75618-55a9-4c92-b2aa-e12891fd8238",
   "metadata": {
    "editable": true,
    "slideshow": {
     "slide_type": ""
    },
    "tags": []
   },
   "outputs": [
    {
     "name": "stdout",
     "output_type": "stream",
     "text": [
      "The sum of x and y is:\n",
      "13\n"
     ]
    }
   ],
   "source": [
    "x = 8    # <<< Change the number!\n",
    "y = 5    # <<< Change the number!\n",
    "result = x + y\n",
    "print(\"The sum of x and y is:\")\n",
    "print(result)"
   ]
  },
  {
   "attachments": {},
   "cell_type": "markdown",
   "id": "4678f9cd-711b-48ae-9327-91d4283145f9",
   "metadata": {
    "slideshow": {
     "slide_type": ""
    },
    "tags": []
   },
   "source": [
    "<hr>\n",
    "\n",
    "Now try to edit the cell below to print different sentences!<br>\n",
    "_Tip: Only change the text enclosed by the double quotation marks ```\"```!_"
   ]
  },
  {
   "cell_type": "code",
   "execution_count": 6,
   "id": "8876e11e-2b57-46f2-af9f-1ba2e966353b",
   "metadata": {
    "editable": true,
    "slideshow": {
     "slide_type": ""
    },
    "tags": []
   },
   "outputs": [
    {
     "name": "stdout",
     "output_type": "stream",
     "text": [
      "Hello World!\n",
      "Change me!\n"
     ]
    }
   ],
   "source": [
    "print(\"Hello World!\")\n",
    "print(\"Change me!\")"
   ]
  },
  {
   "cell_type": "markdown",
   "id": "b7333194-5753-4340-a38e-f290dab51b0d",
   "metadata": {
    "editable": true,
    "slideshow": {
     "slide_type": ""
    },
    "tags": []
   },
   "source": [
    "<hr>"
   ]
  },
  {
   "cell_type": "markdown",
   "id": "6cd0afef-3c3b-492f-8351-545e8efffd15",
   "metadata": {
    "slideshow": {
     "slide_type": ""
    },
    "tags": []
   },
   "source": [
    "## 1.5 Input fields"
   ]
  },
  {
   "attachments": {},
   "cell_type": "markdown",
   "id": "02f1debd-1825-4064-9a02-d878623687f4",
   "metadata": {
    "slideshow": {
     "slide_type": ""
    },
    "tags": []
   },
   "source": [
    "For some programs, user input is required.<br>\n",
    "Input fields will appear for such programs.<br>\n",
    "Enter your input in them, and press ```Enter``` after that."
   ]
  },
  {
   "cell_type": "code",
   "execution_count": 7,
   "id": "24554e45-81b1-499b-83c0-86145116a1e1",
   "metadata": {
    "editable": true,
    "slideshow": {
     "slide_type": ""
    },
    "tags": []
   },
   "outputs": [
    {
     "name": "stdin",
     "output_type": "stream",
     "text": [
      "Integer 1:  15\n",
      "Integer 2:  15\n"
     ]
    },
    {
     "name": "stdout",
     "output_type": "stream",
     "text": [
      "15 + 15 = 30\n"
     ]
    }
   ],
   "source": [
    "input1 = int(input(\"Integer 1: \"))\n",
    "input2 = int(input(\"Integer 2: \"))\n",
    "print(f\"{input1} + {input2} = {input1 + input2}\")"
   ]
  },
  {
   "cell_type": "markdown",
   "id": "932a6fa2-d3d1-4e30-9a24-6c303b016444",
   "metadata": {
    "editable": true,
    "slideshow": {
     "slide_type": ""
    },
    "tags": []
   },
   "source": [
    "<hr>"
   ]
  },
  {
   "cell_type": "markdown",
   "id": "23531d1d-266a-4c77-8968-85035734e674",
   "metadata": {
    "slideshow": {
     "slide_type": ""
    },
    "tags": []
   },
   "source": [
    "## 1.6 Copy, paste, and select all"
   ]
  },
  {
   "attachments": {},
   "cell_type": "markdown",
   "id": "fd89af74-39c2-4e9f-bb32-3486d56dd602",
   "metadata": {
    "slideshow": {
     "slide_type": ""
    },
    "tags": []
   },
   "source": [
    "**Copy** and **Paste** are very useful functions. <br>\n",
    "To copy, highlight the text you want to copy. <br>\n",
    "Then, press and hold ```Ctrl```, and press ```C``` while doing so. <br>\n",
    "Copy the text below:\n",
    "```python\n",
    "print(\"Bring me back to the cell!\")\n",
    "print(\"Run the cell after pasting me!\")\n",
    "```\n",
    "\n",
    "To paste, press and hold ```Ctrl```, and press ```V``` while doing so. <br>\n",
    "Copied text will be pasted at the position of your text cursor (the flashing | ).<br>\n",
    "Paste the text in the cell below and try to run it!"
   ]
  },
  {
   "cell_type": "code",
   "execution_count": null,
   "id": "461e93e3-599e-4621-911c-8f72f119ee1e",
   "metadata": {
    "editable": true,
    "slideshow": {
     "slide_type": ""
    },
    "tags": []
   },
   "outputs": [],
   "source": [
    "# Paste the copied text below\n"
   ]
  },
  {
   "attachments": {},
   "cell_type": "markdown",
   "id": "d3f7716d-fa38-4943-a579-be0d4985d63a",
   "metadata": {
    "slideshow": {
     "slide_type": ""
    },
    "tags": []
   },
   "source": [
    "<hr>\n",
    "Copy the following code:\n",
    "\n",
    "```python\n",
    "bmi = weight / height / height * 10000\n",
    "print(f\"BMI: {round(bmi, 2)}\")\n",
    "```\n",
    "\n",
    "The following program (BMI Calculator) is missing some lines of code.<br>\n",
    "Try to fix it by pasting some code back!<br>\n",
    "Run the code afterwards, and try to calculate your BMI. (Body Mass Index)"
   ]
  },
  {
   "cell_type": "code",
   "execution_count": null,
   "id": "b0760e1a-ccf8-47d8-bc9a-824d916a5f54",
   "metadata": {
    "editable": true,
    "slideshow": {
     "slide_type": ""
    },
    "tags": []
   },
   "outputs": [],
   "source": [
    "height = float(input(\"Input your height in cm: \"))\n",
    "weight = float(input(\"Input your weight in kg: \"))\n",
    "# Some code is missing here vvv\n",
    "\n",
    "# Some code is missing here ^^^"
   ]
  },
  {
   "cell_type": "markdown",
   "id": "80731c41-605f-49d0-8cae-e166dc337ef9",
   "metadata": {
    "slideshow": {
     "slide_type": ""
    },
    "tags": []
   },
   "source": [
    "<hr>\n",
    "\n",
    "Try to copy specifics lines (lines 2 & 3) from the code below:<br>\n",
    "```python\n",
    "print('Don't copy me!')\n",
    "print('Copy me!')\n",
    "print('Copy me too!')\n",
    "print('Don't copy me!')\n",
    "```\n",
    "Paste them in the cell below:"
   ]
  },
  {
   "cell_type": "code",
   "execution_count": null,
   "id": "364ee148-2b00-408e-9698-478d7a015592",
   "metadata": {
    "editable": true,
    "slideshow": {
     "slide_type": ""
    },
    "tags": []
   },
   "outputs": [],
   "source": [
    "# Paste them here and run\n"
   ]
  },
  {
   "attachments": {},
   "cell_type": "markdown",
   "id": "98d5cf92-96e6-4cc0-8aaa-f65679e33077",
   "metadata": {
    "editable": true,
    "slideshow": {
     "slide_type": ""
    },
    "tags": []
   },
   "source": [
    "<hr>\n",
    "\n",
    "To select all contents in a field, click on the field first.<br>\n",
    "Then, press ```Ctrl``` + ```A```.<br>\n",
    "All contents will be highlighted after that.<br>\n",
    "Try to copy all the content of the cell below, and paste it for as many times as you like!\n"
   ]
  },
  {
   "cell_type": "code",
   "execution_count": null,
   "id": "be01427c-80a1-4a4a-80d3-0b43258151fe",
   "metadata": {
    "editable": true,
    "slideshow": {
     "slide_type": ""
    },
    "tags": []
   },
   "outputs": [],
   "source": [
    "print(\"Hi!\")\n",
    "print(\"How are you?\")\n",
    "print(\"Bye!\")\n"
   ]
  },
  {
   "attachments": {},
   "cell_type": "markdown",
   "id": "938ef2cd-b861-4d03-b85c-d62bbb4c56ed",
   "metadata": {
    "slideshow": {
     "slide_type": ""
    },
    "tags": []
   },
   "source": [
    "<hr>\n",
    "\n",
    "Select all is very useful when you want to copy everything from a file.<br>\n",
    "Try to copy the entire program from the file ```copy-me.py``` and paste it in the cell below.<br>\n",
    "Run the cell after that.<br>\n",
    "_Tip: To open a file, **double click** it. Come back by double clicking on ```chapter-1.ipynb```_"
   ]
  },
  {
   "cell_type": "code",
   "execution_count": null,
   "id": "1c12e689-0d3c-4d35-9cfc-1c421fbb3711",
   "metadata": {
    "editable": true,
    "slideshow": {
     "slide_type": ""
    },
    "tags": []
   },
   "outputs": [],
   "source": [
    "# Paste the program here\n"
   ]
  },
  {
   "cell_type": "markdown",
   "id": "5d1ea7dd-0e38-4c2c-be5f-47ccd5d7dcde",
   "metadata": {
    "editable": true,
    "slideshow": {
     "slide_type": ""
    },
    "tags": []
   },
   "source": [
    "<hr>"
   ]
  },
  {
   "cell_type": "markdown",
   "id": "a37de11d-576e-4143-a824-5a9c6cf53b56",
   "metadata": {
    "slideshow": {
     "slide_type": ""
    },
    "tags": []
   },
   "source": [
    "## 1.7 Undo and redo"
   ]
  },
  {
   "attachments": {},
   "cell_type": "markdown",
   "id": "01ca8c58-66bd-41f5-a9eb-68ed637e0bf8",
   "metadata": {
    "editable": false,
    "slideshow": {
     "slide_type": ""
    },
    "tags": []
   },
   "source": [
    "If you accidentally mess the codes up, undo the changes by pressing ```Ctrl``` + ```Z```.<br>\n",
    "If you want to redo (undo your undo), press ```Ctrl``` + ```Shift``` + ```Z```.<br>\n",
    "Try to modify anything in the cell below, and undo/redo after that:"
   ]
  },
  {
   "cell_type": "code",
   "execution_count": null,
   "id": "8a13a6d5-4748-447c-91b8-1f821b2e5bd9",
   "metadata": {
    "editable": true,
    "slideshow": {
     "slide_type": ""
    },
    "tags": []
   },
   "outputs": [],
   "source": [
    "# Change me!\n",
    "x = int(input(\"x = \"))\n",
    "if x > 0:\n",
    "    print(\"x is positive\")\n",
    "elif x < 0:\n",
    "    print(\"x is negative\")\n",
    "else:\n",
    "    print(\"x is zero\")"
   ]
  },
  {
   "cell_type": "markdown",
   "id": "85324172-f627-4ce5-9963-73c1cec22090",
   "metadata": {
    "editable": true,
    "slideshow": {
     "slide_type": ""
    },
    "tags": []
   },
   "source": [
    "<hr>"
   ]
  }
 ],
 "metadata": {
  "kernelspec": {
   "display_name": "Python 3 (ipykernel)",
   "language": "python",
   "name": "python3"
  },
  "language_info": {
   "codemirror_mode": {
    "name": "ipython",
    "version": 3
   },
   "file_extension": ".py",
   "mimetype": "text/x-python",
   "name": "python",
   "nbconvert_exporter": "python",
   "pygments_lexer": "ipython3",
   "version": "3.11.4"
  }
 },
 "nbformat": 4,
 "nbformat_minor": 5
}
