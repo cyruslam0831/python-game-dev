{
 "cells": [
  {
   "cell_type": "markdown",
   "id": "aa3bef36-6091-4ff2-8bc5-07410dd0376b",
   "metadata": {},
   "source": [
    "# Chapter 2 - Introduction to Python"
   ]
  },
  {
   "cell_type": "markdown",
   "id": "399d94eb-56cc-4c96-82b7-ee52e8fabb5c",
   "metadata": {
    "editable": true,
    "slideshow": {
     "slide_type": ""
    },
    "tags": []
   },
   "source": [
    "## 2.1 ```print()```"
   ]
  },
  {
   "cell_type": "markdown",
   "id": "6a51aa0a-267a-4a39-97d4-e6ad4c0463f7",
   "metadata": {
    "editable": true,
    "slideshow": {
     "slide_type": ""
    },
    "tags": []
   },
   "source": [
    "```print()``` is used to output things in Python<br>\n",
    "Things to be outputted is placed within the brackets<br>\n",
    "A new line is created for each `print()`.<br>\n",
    "Try it out below:"
   ]
  },
  {
   "cell_type": "code",
   "execution_count": null,
   "id": "9cd4b9d6-ace3-42aa-8ecf-81efc5f3144a",
   "metadata": {
    "editable": true,
    "slideshow": {
     "slide_type": ""
    },
    "tags": []
   },
   "outputs": [],
   "source": [
    "print(\"Hello World!\")"
   ]
  },
  {
   "cell_type": "markdown",
   "id": "05141bec-c907-46b7-9aaa-a3f0881c5b99",
   "metadata": {},
   "source": [
    "<hr>"
   ]
  },
  {
   "cell_type": "code",
   "execution_count": null,
   "id": "6ff5214a-87e4-4bf5-910f-ed6897d9aa4a",
   "metadata": {},
   "outputs": [],
   "source": [
    "print(10)\n",
    "print(False)"
   ]
  },
  {
   "cell_type": "markdown",
   "id": "e93b3320-7b93-4999-8b93-c9af69484380",
   "metadata": {},
   "source": [
    "<hr>\n",
    "\n",
    "Note: Python is *case-sensitive*, i.e. `PRINT()` and `print()` are 2 different functions.<br>\n",
    "Therefore, `PRINT()` results in an error.<br>\n",
    "Try it out!"
   ]
  },
  {
   "cell_type": "code",
   "execution_count": null,
   "id": "254cd048-1dfc-4d79-80e4-c6548e7e72b8",
   "metadata": {},
   "outputs": [],
   "source": [
    "print(\"It works!\")"
   ]
  },
  {
   "cell_type": "markdown",
   "id": "ea6b5eff-bca7-4957-8dc4-378ae399c79b",
   "metadata": {},
   "source": [
    "<hr>"
   ]
  },
  {
   "cell_type": "code",
   "execution_count": null,
   "id": "6ba76401-4570-4681-b182-2022f90b3e08",
   "metadata": {},
   "outputs": [],
   "source": [
    "PRINT(\"It doesn't work...\")"
   ]
  },
  {
   "cell_type": "markdown",
   "id": "5a900c12-0701-4112-af98-75a97ec37ca7",
   "metadata": {},
   "source": [
    "<hr>\n",
    "\n",
    "Other expressions can also be printed using ```print()```.<br>\n",
    "Here are some more examples:"
   ]
  },
  {
   "cell_type": "code",
   "execution_count": null,
   "id": "daf6042a-742d-4559-add7-91939b95b7b7",
   "metadata": {},
   "outputs": [],
   "source": [
    "print(\"Hello, \" + \"Peter, \" + \"how are you?\")"
   ]
  },
  {
   "cell_type": "markdown",
   "id": "f8ea140d-9989-40fc-9c46-206f5521a152",
   "metadata": {},
   "source": [
    "<hr>"
   ]
  },
  {
   "cell_type": "code",
   "execution_count": null,
   "id": "e48d295a-cf18-43f0-849e-bd2011d009cc",
   "metadata": {},
   "outputs": [],
   "source": [
    "print(3.14 * 5 + 5 * 8)"
   ]
  },
  {
   "cell_type": "markdown",
   "id": "4e781690-3413-4734-8394-8183e03648dc",
   "metadata": {},
   "source": [
    "<hr>\n",
    "So far so good, but the following command causes an error, why?"
   ]
  },
  {
   "cell_type": "code",
   "execution_count": null,
   "id": "b4fe817d-fee6-4839-9f6a-73036fef130e",
   "metadata": {},
   "outputs": [],
   "source": [
    "print(\"I am \" + 15 + \" years old.\")"
   ]
  },
  {
   "cell_type": "markdown",
   "id": "e62edc96-fe3d-4e04-9e87-67413c2664b0",
   "metadata": {},
   "source": [
    "<hr>"
   ]
  },
  {
   "cell_type": "markdown",
   "id": "c99b667d-f288-439d-8a1f-a0eaf62d8ec4",
   "metadata": {},
   "source": [
    "What are `str` and `int`?<br>\n",
    "To understand what is happening, we have to dive into **data types** and **operators**, which we will cover soon."
   ]
  },
  {
   "cell_type": "markdown",
   "id": "04dd1218-71f7-4fa7-bf2d-b94ce4548bc8",
   "metadata": {},
   "source": [
    "## 2.2 Variables"
   ]
  },
  {
   "cell_type": "markdown",
   "id": "9eaabebf-be90-448e-8b31-2d80714fd8dc",
   "metadata": {},
   "source": [
    "\n",
    "#### Assigning a variable\n",
    "Variables are containers for storing data values.<br>\n",
    "To assign a variable, simply type:\n",
    "`variable_name` = `value`<br>\n",
    "After that, the value assigned can be fetched easily using the variable name.<br>\n",
    "Try it out!"
   ]
  },
  {
   "cell_type": "code",
   "execution_count": 1,
   "id": "0b746e8f-f1fa-4226-9f0a-31d19b5bd4cc",
   "metadata": {},
   "outputs": [],
   "source": [
    "x = \"Hello\""
   ]
  },
  {
   "cell_type": "markdown",
   "id": "d7d4a737-76f6-4fa7-82f0-5f2896280d4f",
   "metadata": {},
   "source": [
    "<hr>"
   ]
  },
  {
   "cell_type": "code",
   "execution_count": 2,
   "id": "c9a632da-df16-4b38-82a8-53bbad17d1e9",
   "metadata": {},
   "outputs": [
    {
     "name": "stdout",
     "output_type": "stream",
     "text": [
      "Hello\n"
     ]
    }
   ],
   "source": [
    "print(x)"
   ]
  },
  {
   "cell_type": "markdown",
   "id": "6dd0b777-67f5-408b-8a9d-07b73f1abdc5",
   "metadata": {},
   "source": [
    "<hr>\n",
    "In Jupyter Lab, variables defined can be used across cells.<br>\n",
    "You can even view their values by enabing the \"Debugger\" function.<br>\n",
    "\n",
    "![img6](img6.png)"
   ]
  },
  {
   "cell_type": "markdown",
   "id": "2270a2fd-5dc7-440b-9a5f-b0a143292bf1",
   "metadata": {},
   "source": [
    "<hr>"
   ]
  },
  {
   "cell_type": "code",
   "execution_count": null,
   "id": "543ba6da-8cff-4398-81ef-1902aa2c2cec",
   "metadata": {},
   "outputs": [],
   "source": [
    "a = 5\n",
    "b = 20\n",
    "print(a + b)"
   ]
  },
  {
   "cell_type": "markdown",
   "id": "2271c956-8c11-4b7f-947d-a20f0cd169ef",
   "metadata": {},
   "source": [
    "<hr>\n",
    "\n",
    "Assigning a new value to a existing variable overwrites the original value.<br>\n",
    "For example:"
   ]
  },
  {
   "cell_type": "code",
   "execution_count": null,
   "id": "b7add045-0c37-47ed-af25-f275bfff2b58",
   "metadata": {},
   "outputs": [],
   "source": [
    "x = 10\n",
    "x = 20\n",
    "print(x)\n",
    "x = 15\n",
    "print(x)"
   ]
  },
  {
   "cell_type": "markdown",
   "id": "7c686356-a3cd-47ae-b6b8-a3489508d5a9",
   "metadata": {},
   "source": [
    "<hr>\n",
    "\n",
    "#### Naming a variable\n",
    "There several rules in creating variable names: <br>\n",
    "1.  Only characters `0`-`9`, `a`-`z`, `A`-`Z`, and `_` can be used\n",
    "2.  The 1st character cannot be numbers\n",
    "3.  Reserved words (e.g. `print`, `int`, other function names) cannot be used<br>\n",
    "\n",
    "Note: Python is *case-sensitive*, i.e. `apple` and `Apple` are 2 different variables"
   ]
  },
  {
   "cell_type": "markdown",
   "id": "48576a55-d711-4cdd-b0fa-78786735dd32",
   "metadata": {},
   "source": [
    "## 2.3 Data types"
   ]
  },
  {
   "cell_type": "markdown",
   "id": "6806bb9d-42d6-438f-92db-48c04078f294",
   "metadata": {
    "editable": true,
    "jp-MarkdownHeadingCollapsed": true,
    "slideshow": {
     "slide_type": ""
    },
    "tags": []
   },
   "source": [
    "\n",
    "Data stored in Python are of different data types.<br>\n",
    "Here are the most common data types:\n",
    "<body>\n",
    "    <table>\n",
    "        <tr style=\"text-align:left;\">\n",
    "            <th style=\"width:10%\">Code</th>\n",
    "            <th style=\"width:15%\">Full Name</th>\n",
    "            <th style=\"width:30%\">Description</th>\n",
    "            <th style=\"width:35%\">Examples</th>\n",
    "        </tr>\n",
    "        <tr>\n",
    "            <td>int</td>\n",
    "            <td>Integer</td>\n",
    "            <td>Integral numbers</td>\n",
    "            <td>3, 5, -7</td>\n",
    "        </tr>\n",
    "        <tr>\n",
    "            <td>float</td>\n",
    "            <td>Float</td>\n",
    "            <td>Floating point numbers (with decimals)</td>\n",
    "            <td>3.14, -2.718, 2.0</td>\n",
    "        </tr>\n",
    "        <tr>\n",
    "            <td>str</td>\n",
    "            <td>String</td>\n",
    "            <td>A series of characters</td>\n",
    "            <td>\"Hello World!\", 'What is your name?', \"123\"</td>\n",
    "        </tr>\n",
    "        <tr>\n",
    "            <td>bool</td>\n",
    "            <td>Boolean</td>\n",
    "            <td>True / False, stored as 1 and 0 respectively</td>\n",
    "            <td>True, False</td>\n",
    "        </tr>\n",
    "    </table>\n",
    "</body>\n",
    "\n",
    "Everything quoted by `\"` or `'` are strings.<br>\n",
    "Therefore, `123` is an integer while `\"123\"` is a string;<br>\n",
    "`Apple` is a variable while `\"Apple\"` is a string.<br>\n",
    "However, the quotation marks are not printed when using `print()`.\n",
    "<hr>\n",
    "\n",
    "The function ```type()``` returns the type of the data.<br>\n",
    "By putting it in a `print()` function, the type will be displayed.<br>\n",
    "Try to run the following codes:"
   ]
  },
  {
   "cell_type": "code",
   "execution_count": null,
   "id": "00969270-f191-40c0-95d6-4039f56ae1f6",
   "metadata": {},
   "outputs": [],
   "source": [
    "print(type(3))"
   ]
  },
  {
   "cell_type": "markdown",
   "id": "3174f00e-adcd-4e80-b71d-4f1256ab9b39",
   "metadata": {},
   "source": [
    "<hr>"
   ]
  },
  {
   "cell_type": "code",
   "execution_count": null,
   "id": "4197e909-3652-415d-896e-350499909f4b",
   "metadata": {},
   "outputs": [],
   "source": [
    "print(type(3.14))"
   ]
  },
  {
   "cell_type": "markdown",
   "id": "0ba53e82-704f-4747-9ecd-fa98e4d76f1e",
   "metadata": {},
   "source": [
    "<hr>"
   ]
  },
  {
   "cell_type": "code",
   "execution_count": null,
   "id": "262925ef-2586-46bc-878c-fc6fd364af15",
   "metadata": {},
   "outputs": [],
   "source": [
    "print(type(\"3.14\"))"
   ]
  },
  {
   "cell_type": "markdown",
   "id": "7ba30dd6-2a64-423f-a117-1865d6441b15",
   "metadata": {},
   "source": [
    "<hr>"
   ]
  },
  {
   "cell_type": "code",
   "execution_count": null,
   "id": "78a5dd20-8161-4748-9378-e891be1559a3",
   "metadata": {},
   "outputs": [],
   "source": [
    "print(type(True))"
   ]
  },
  {
   "cell_type": "markdown",
   "id": "31a8fe02-eb5d-4ce3-9034-f0e63cae22e1",
   "metadata": {},
   "source": [
    "<hr>"
   ]
  },
  {
   "cell_type": "markdown",
   "id": "ce24214f-3a99-47a0-8d6f-3419c81bddd5",
   "metadata": {},
   "source": [
    "To change one's data type, you can use the following functions:\n",
    "* ```int()```\n",
    "* ```float()```\n",
    "* ```str()```\n",
    "* ```bool()```\n",
    "Each function converts its inputted data to that corresponding data type,<br>\n",
    "e.g. `int()` to `int` (Integer), `str()` to `str` (String)<br>\n",
    "Try it by yourself!"
   ]
  },
  {
   "cell_type": "code",
   "execution_count": null,
   "id": "d0d86dce-f7c2-49bf-871e-0ccf4315380b",
   "metadata": {},
   "outputs": [],
   "source": [
    "print(int(6.9), type(int(6.9)))"
   ]
  },
  {
   "cell_type": "markdown",
   "id": "2c3fc610-7143-40fb-8e79-e5a032186d2a",
   "metadata": {},
   "source": [
    "<hr>"
   ]
  },
  {
   "cell_type": "code",
   "execution_count": null,
   "id": "3e90a8cf-abb7-4f3b-aa23-5c4b9c89d600",
   "metadata": {},
   "outputs": [],
   "source": [
    "print(float(\"4\"), type(float(\"4\")))"
   ]
  },
  {
   "cell_type": "markdown",
   "id": "d7bcadca-d9db-4cb5-9357-6133f523d61a",
   "metadata": {},
   "source": [
    "<hr>"
   ]
  },
  {
   "cell_type": "code",
   "execution_count": null,
   "id": "555c9e78-4895-42bc-b5aa-a15089cf1794",
   "metadata": {},
   "outputs": [],
   "source": [
    "print(str(4), type(str(4)))"
   ]
  },
  {
   "cell_type": "markdown",
   "id": "f595b9a4-fc95-473b-8972-acc0660484b0",
   "metadata": {},
   "source": [
    "<hr>"
   ]
  },
  {
   "cell_type": "code",
   "execution_count": null,
   "id": "e1f8427f-dd00-4266-8273-d7079f7b9676",
   "metadata": {},
   "outputs": [],
   "source": [
    "print(bool(0), type(bool(0)))"
   ]
  },
  {
   "cell_type": "markdown",
   "id": "22a27094-f8a2-452a-b412-97a1e289d0fa",
   "metadata": {},
   "source": [
    "<hr>"
   ]
  },
  {
   "cell_type": "markdown",
   "id": "5bb41119-8cfd-419a-b845-4914a78bffe2",
   "metadata": {},
   "source": [
    "Now let's review this command\n",
    "```python\n",
    "print(\"I am \" + 15 + \" years old.\")\n",
    "```\n",
    "Check the data types of `\"I am \"`, `15`, and `\" years old.\"` by using the function `type()`,<br>\n",
    "and print the result by `print()`! What can you observe?"
   ]
  },
  {
   "cell_type": "code",
   "execution_count": null,
   "id": "59eae3a7-db20-4559-9daa-b9ad3d1320d2",
   "metadata": {},
   "outputs": [],
   "source": [
    "print(type(\"I am \"))\n",
    "print(type(     )) # <<< Put 15 inside the brackets\n",
    "print(type(     )) # <<< Put \" years old.\" inside the brackets"
   ]
  },
  {
   "cell_type": "markdown",
   "id": "dc23dbba-16dd-4975-85d2-11452cb8a724",
   "metadata": {},
   "source": [
    "<hr>\n",
    "\n",
    "Just by knowing the data types of the above elements,<br>\n",
    "we can't explain the error yet.<br>\n",
    "Instead, let's learn about operators first!"
   ]
  },
  {
   "cell_type": "markdown",
   "id": "983528fd-1088-470e-a7b6-172eda1a79d7",
   "metadata": {},
   "source": [
    "## 2.4 Operators"
   ]
  },
  {
   "cell_type": "markdown",
   "id": "77e8bc80-b932-4ca8-9ef2-ccb8aed30814",
   "metadata": {},
   "source": [
    "\n",
    "There are several types of operators, for example: <br>\n",
    "* Arithemetic operators\n",
    "* Comparison operators\n",
    "* Logical operators\n",
    "\n",
    "#### Arithmetic operators\n",
    "For numbers:\n",
    "<body>\n",
    "    <table style=\"text-align:center;\">\n",
    "        <tr>\n",
    "            <th>Operator</th>\n",
    "            <th>Name</th>\n",
    "            <th>Expression</th>\n",
    "            <th>Result</th>\n",
    "        </tr>\n",
    "        <tr>\n",
    "            <td>+</td>\n",
    "            <td>Addition</td>\n",
    "            <td>9 + 2</td>\n",
    "            <td>11</td>\n",
    "        </tr>\n",
    "        <tr>\n",
    "            <td>-</td>\n",
    "            <td>Subtraction</td>\n",
    "            <td>9 - 2</td>\n",
    "            <td>7</td>\n",
    "        </tr>\n",
    "        <tr>\n",
    "            <td>*</td>\n",
    "            <td>Multiplication</td>\n",
    "            <td>9 * 2</td>\n",
    "            <td>18</td>\n",
    "        </tr>\n",
    "        <tr>\n",
    "            <td>/</td>\n",
    "            <td>Division</td>\n",
    "            <td>9 / 2</td>\n",
    "            <td>4.5</td>\n",
    "        </tr>\n",
    "    </table>\n",
    "</body>\n",
    "The order of operation (先乘除 後加減) is valid here.<br>\n",
    "Some arithemetic operators can also be used with strings:\n",
    "<body>\n",
    "    <table style=\"text-align:center;\">\n",
    "        <tr>\n",
    "            <th>Operator</th>\n",
    "            <th>Name</th>\n",
    "            <th>Expression</th>\n",
    "            <th>Result</th>\n",
    "            <th>Syntax</th>\n",
    "        </tr>\n",
    "        <tr>\n",
    "            <td>+</td>\n",
    "            <td><i>Concatenation</i></td>\n",
    "            <td>\"Hello \" + \"World!\"</td>\n",
    "            <td>\"Hello World!\"</td>\n",
    "            <td><b>str</b> + <b>str</b></td>\n",
    "        </tr>\n",
    "        <tr>\n",
    "            <td>*</td>\n",
    "            <td>Multiplication</td>\n",
    "            <td>\"Hi\" * 5</td>\n",
    "            <td>\"HiHiHiHiHi\"</td>\n",
    "            <td><b>str</b> * <b>int</b></td>\n",
    "        </tr>\n",
    "    </table>\n",
    "</body>\n",
    "Give it a try!"
   ]
  },
  {
   "cell_type": "code",
   "execution_count": null,
   "id": "c8985dd1-f45c-480b-88af-7374ee7eb4a9",
   "metadata": {},
   "outputs": [],
   "source": [
    "print(1 * 2 + 2 * 3 + 3 * 5)\n",
    "print(1 * 2 / 3 * 4 / 5 * 6)\n",
    "print(\"Hello \" * 10)"
   ]
  },
  {
   "cell_type": "markdown",
   "id": "f14b7e52-5dd9-40d2-ab09-bb8e6b853562",
   "metadata": {},
   "source": [
    "<hr>\n",
    "\n",
    "```python\n",
    "print(\"I am \" + 15 + \" years old.\")\n",
    "```\n",
    "Back to this command.<br>\n",
    "As we can only **add** integers together and **concatenate** strings together,<br>\n",
    "attempting to add an integer to a string results in an error.<br><br>\n",
    "To fix it, we just need to use `str()` to change `15` (Integer) into `\"15\"` (String), or directly use `\"15\"`.<br>\n",
    "Try to modify the command by adding a `str()` function to fix it:"
   ]
  },
  {
   "cell_type": "code",
   "execution_count": null,
   "id": "5bde03fd-7f60-427d-a693-228450fc7a47",
   "metadata": {},
   "outputs": [],
   "source": [
    "print(\"I am \" + 15 + \" years old.\")"
   ]
  },
  {
   "cell_type": "markdown",
   "id": "a60c940f-081e-43b6-8ed2-a447e60c89b5",
   "metadata": {
    "jp-MarkdownHeadingCollapsed": true
   },
   "source": [
    "#### Answer"
   ]
  },
  {
   "cell_type": "code",
   "execution_count": 5,
   "id": "5294b00d-93a0-4aa8-ac51-6e161b60cf67",
   "metadata": {},
   "outputs": [
    {
     "name": "stdout",
     "output_type": "stream",
     "text": [
      "I am 15 years old.\n"
     ]
    }
   ],
   "source": [
    "print(\"I am \" + str(15) + \" years old.\")"
   ]
  },
  {
   "cell_type": "markdown",
   "id": "5bffd370-27ed-48a3-835f-fb3259759dbb",
   "metadata": {},
   "source": [
    "<hr>"
   ]
  },
  {
   "cell_type": "code",
   "execution_count": 6,
   "id": "70a84028-5abf-4d1b-8c82-008a6f37a9fd",
   "metadata": {},
   "outputs": [
    {
     "name": "stdout",
     "output_type": "stream",
     "text": [
      "I am 15 years old.\n"
     ]
    }
   ],
   "source": [
    "print(\"I am \" + \"15\" + \" years old.\")"
   ]
  },
  {
   "cell_type": "markdown",
   "id": "6503b7c3-dd1b-4ebe-9ab3-1bdf2b772bb3",
   "metadata": {},
   "source": [
    "<hr>"
   ]
  },
  {
   "cell_type": "markdown",
   "id": "bda83865-0946-4566-a3ef-51c9d3841873",
   "metadata": {},
   "source": [
    "#### Comparison operators\n",
    "Outputs of comparison operators are always boolean values (`True` / `False`)\n",
    "<body>\n",
    "    <table style=\"text-align:center;\">\n",
    "        <tr>\n",
    "            <th>Operator</th>\n",
    "            <th>Name</th>\n",
    "            <th>Expression</th>\n",
    "            <th>Result</th>\n",
    "        </tr>\n",
    "        <tr>\n",
    "            <td>==</td>\n",
    "            <td>Equal to</td>\n",
    "            <td>9 == 2</td>\n",
    "            <td>False</td>\n",
    "        </tr>\n",
    "        <tr>\n",
    "            <td>!=</td>\n",
    "            <td>Not equal to</td>\n",
    "            <td>9 != 2</td>\n",
    "            <td>True</td>\n",
    "        </tr>\n",
    "        <tr>\n",
    "            <td>></td>\n",
    "            <td>Greater than</td>\n",
    "            <td>9 > 2</td>\n",
    "            <td>True</td>\n",
    "        </tr>\n",
    "        <tr>\n",
    "            <td>>=</td>\n",
    "            <td>Greater than or equal to</td>\n",
    "            <td>9 >= 2</td>\n",
    "            <td>True</td>\n",
    "        </tr>\n",
    "        <tr>\n",
    "            <td><</td>\n",
    "            <td>Smaller than</td>\n",
    "            <td>9 < 2</td>\n",
    "            <td>False</td>\n",
    "        </tr>\n",
    "        <tr>\n",
    "            <td><=</td>\n",
    "            <td>Smaller than or equal to</td></td>\n",
    "            <td>9 <= 2</td>\n",
    "            <td>False</td>\n",
    "        </tr>\n",
    "    </table>\n",
    "</body>\n",
    "String and boolean values can also be compared using comparison operators, give it a try!"
   ]
  },
  {
   "cell_type": "code",
   "execution_count": null,
   "id": "a943b593-9cc6-4041-ac80-9d4d98ded008",
   "metadata": {},
   "outputs": [],
   "source": [
    "print(\"Hello\" == \"Hello\")"
   ]
  },
  {
   "cell_type": "markdown",
   "id": "f49e736c-5dcd-4f8e-918b-ca4c9119a91d",
   "metadata": {},
   "source": [
    "<hr>"
   ]
  },
  {
   "cell_type": "code",
   "execution_count": null,
   "id": "1cb2fa76-d26c-4155-bb95-a15d292da1b8",
   "metadata": {},
   "outputs": [],
   "source": [
    "print(2 != 0)"
   ]
  },
  {
   "cell_type": "markdown",
   "id": "d194bf2a-d950-45d8-a6e3-6de5e960b941",
   "metadata": {},
   "source": [
    "<hr>"
   ]
  },
  {
   "cell_type": "code",
   "execution_count": null,
   "id": "d71edfd5-1f2a-49c2-ae80-c8f8f106b829",
   "metadata": {},
   "outputs": [],
   "source": [
    "print(True >= False)"
   ]
  },
  {
   "cell_type": "markdown",
   "id": "0e680aa3-3ee4-4db3-894f-4c0443cb53e0",
   "metadata": {},
   "source": [
    "<hr>"
   ]
  },
  {
   "cell_type": "code",
   "execution_count": null,
   "id": "1e149cd7-d1e0-4c08-8b2c-6b0fadefb5b5",
   "metadata": {},
   "outputs": [],
   "source": [
    "print(-9 < 3)"
   ]
  },
  {
   "cell_type": "markdown",
   "id": "dd2adb86-c717-4e43-aa86-c84bd99b8fc1",
   "metadata": {},
   "source": [
    "<hr>"
   ]
  },
  {
   "cell_type": "markdown",
   "id": "bd952f05-35db-451d-a284-80db1a0ce32f",
   "metadata": {},
   "source": [
    "#### Logical operators\n",
    "Logical operators require 1 / 2 boolean values as input, and output 1 boolean value.<br>\n",
    "Their respective outputs can be represented by tables (Truth tables).<br>\n",
    "![img1](img1.png)<br>\n",
    "Give it a try!"
   ]
  },
  {
   "cell_type": "code",
   "execution_count": 22,
   "id": "950b334a-dd96-4aea-b197-a1c4056b2a5d",
   "metadata": {},
   "outputs": [
    {
     "name": "stdout",
     "output_type": "stream",
     "text": [
      "False\n"
     ]
    }
   ],
   "source": [
    "A = True\n",
    "B = False\n",
    "print(A and B)"
   ]
  },
  {
   "cell_type": "code",
   "execution_count": 23,
   "id": "be0e4e6a-301d-471a-a816-249e98a0ffc9",
   "metadata": {},
   "outputs": [
    {
     "name": "stdout",
     "output_type": "stream",
     "text": [
      "True\n"
     ]
    }
   ],
   "source": [
    "A = True\n",
    "B = False\n",
    "print(A or B)"
   ]
  },
  {
   "cell_type": "code",
   "execution_count": 24,
   "id": "9ea020d1-60fc-4d6d-b440-345eb01ff8e7",
   "metadata": {},
   "outputs": [
    {
     "name": "stdout",
     "output_type": "stream",
     "text": [
      "False\n"
     ]
    }
   ],
   "source": [
    "A = True\n",
    "print(not A)"
   ]
  },
  {
   "cell_type": "markdown",
   "id": "838cda93-440a-4d76-89cd-5f3fb3eaf241",
   "metadata": {},
   "source": [
    "<hr>\n",
    "\n",
    "Logical operators and comparison operators are commonly used in conditional statements. <br>\n",
    "It will be discussed in the following section."
   ]
  },
  {
   "cell_type": "markdown",
   "id": "0d6802d6-5a5d-4bec-8d9d-8f9d89dc688a",
   "metadata": {},
   "source": [
    "## 2.5 Conditional Statements (If... Else...)"
   ]
  },
  {
   "cell_type": "markdown",
   "id": "d2c4cb6d-d19c-45bb-a57f-b3a834c8d71d",
   "metadata": {},
   "source": [
    "\n",
    "Syntax of a basic If... Statement: <br>\n",
    "```python\n",
    "if condition:\n",
    "    statement_A\n",
    "```\n",
    "You can use comparison operators to create the conditions:<br>\n",
    "```python\n",
    "A = 10\n",
    "B = 20\n",
    "if A <= B:\n",
    "    print(\"A is smaller than or equal to B.\")\n",
    "```\n",
    "Only when the given condition is `True`, statement A will be executed.<br>\n",
    "Below is a flow chart for illustrating this operation.\n",
    "![img3](img3.png) <br>\n",
    "Note that `statement_A` is indented (with white spaces in front of it).<br>\n",
    "This is because Python relies on indentation to define scope in the code.<br>\n",
    "If the conditional statement contains more than one line, all of them has to be indented:<br>\n",
    "```python\n",
    "if condition:\n",
    "    statement_A1 # Executed only when the condition is satisfied\n",
    "    statement_A2 # Executed only when the condition is satisfied\n",
    "    statement_A3 # Executed only when the condition is satisfied\n",
    "statement_X      # Outside the If... statement, always executed\n",
    "```\n",
    "You can create an indentation easily by pressing `Tab`, instead of pressing `Space` for a few times.<br>\n",
    "Without the indentation, an error will occur:\n"
   ]
  },
  {
   "cell_type": "code",
   "execution_count": null,
   "id": "34f8ea1e-8e00-4270-a26f-c024b1b75feb",
   "metadata": {},
   "outputs": [],
   "source": [
    "if True:\n",
    "print(\"It is true!\") # Not indented => Error"
   ]
  },
  {
   "cell_type": "markdown",
   "id": "cda3a803-fdc7-4b05-8ac6-535092f27bfc",
   "metadata": {},
   "source": [
    "<hr>"
   ]
  },
  {
   "cell_type": "code",
   "execution_count": null,
   "id": "b91ce2cd-1060-449f-91c9-9bb1f44a1e36",
   "metadata": {},
   "outputs": [],
   "source": [
    "if True:\n",
    "    print(\"It is true!\") # Indented => Good!"
   ]
  },
  {
   "cell_type": "markdown",
   "id": "55fe790f-274d-41e9-a3fa-b999a0565ad6",
   "metadata": {},
   "source": [
    "<hr>"
   ]
  },
  {
   "cell_type": "markdown",
   "id": "b9c47910-c3e2-49a6-a8cf-61a2369fb64e",
   "metadata": {},
   "source": [
    "\n",
    "\n",
    "If you want to execute another statement when the given condition is `False`, use an If... Else... statement:\n",
    "```python\n",
    "if condition:\n",
    "    statement_A\n",
    "else:\n",
    "    statement_B\n",
    "```\n",
    "![img2](img2.png) <br>\n",
    "If there is more than one condition, you may use the If... Else If... Else... statement.<br>\n",
    "In Python, Else If is shortened as `elif`:\n",
    "```python\n",
    "if condition_1:\n",
    "    statement_A\n",
    "    \n",
    "elif condition_2:\n",
    "    statement_B\n",
    "    \n",
    "else:\n",
    "    statement_C\n",
    "```\n",
    "![img4](img4.png)<br>\n",
    "Note that the `elif` statement is only executed when the first condition is `False`.<br>\n",
    "The number of conditions is not limited.<br>\n",
    "You may use as many `elif condition_n:` as you like, for example:"
   ]
  },
  {
   "cell_type": "code",
   "execution_count": null,
   "id": "74f8a423-885a-42d7-8b8f-f65caf8163b0",
   "metadata": {},
   "outputs": [],
   "source": [
    "### Grade Calculator\n",
    "score = int(input(\"Input your score: \"))\n",
    "\n",
    "if score >= 80:\n",
    "    print(\"A\")\n",
    "    print(\"Excellent! ^w^\")\n",
    "    \n",
    "elif score >= 70:\n",
    "    print(\"B\")\n",
    "    print(\"Very good! :D\")\n",
    "    \n",
    "elif score >= 60:\n",
    "    print(\"C\")\n",
    "    print(\"Good! :)\")\n",
    "    \n",
    "elif score >= 50:\n",
    "    print(\"D\")\n",
    "    print(\"Fairly Good. :/\")\n",
    "    \n",
    "elif score >= 40:\n",
    "    print(\"E\")\n",
    "    print(\"Work harder. :(\")\n",
    "    \n",
    "else:\n",
    "    print(\"F\")\n",
    "    print(\"Failed! >:(\")"
   ]
  },
  {
   "cell_type": "markdown",
   "id": "162f9d8b-8632-4eb9-b375-136c256d2917",
   "metadata": {},
   "source": [
    "## 2.6 For loop"
   ]
  },
  {
   "cell_type": "markdown",
   "id": "0ad66cb3-c2d9-440e-9295-2260a82a1c3c",
   "metadata": {},
   "source": [
    "\n",
    "A for loop is used for iterating over a sequence of things, usually numbers or characters.<br>\n",
    "A variable is used store the elements of the sequence.<br>\n",
    "Syntax:\n",
    "```python\n",
    "for variable in sequence:\n",
    "    statement_A\n",
    "    statement_B\n",
    "    ...\n",
    "```\n",
    "The `range()` function creates a sequence of numbers, and is usually used with for loop.<br>\n",
    "For example:"
   ]
  },
  {
   "cell_type": "code",
   "execution_count": null,
   "id": "401e7834-6980-4493-bab9-4f71a8255c1d",
   "metadata": {},
   "outputs": [],
   "source": [
    "for x in range(10):\n",
    "    print(x)"
   ]
  },
  {
   "cell_type": "markdown",
   "id": "e60e1a79-8cc0-458e-b4df-ee24954eeea9",
   "metadata": {},
   "source": [
    "<hr>\n",
    "\n",
    "Note that the indexes of Python starts from **0**, not 1,<br>\n",
    "Therefore, `range(10)` represents a series of numbers from **0** to **9**, excluding 10.<br>\n",
    "Similar to conditional statements, for loop requires proper indentation.<br>\n",
    "Compare the following programs:"
   ]
  },
  {
   "cell_type": "code",
   "execution_count": null,
   "id": "5bb55e4b-10b0-4de5-b329-a7e350a13e75",
   "metadata": {},
   "outputs": [],
   "source": [
    "for x in range(5):\n",
    "    print(x)\n",
    "print(\"End\")"
   ]
  },
  {
   "cell_type": "markdown",
   "id": "0636d0ad-f637-41ad-90da-281a0c5c19eb",
   "metadata": {},
   "source": [
    "<hr>"
   ]
  },
  {
   "cell_type": "code",
   "execution_count": null,
   "id": "aca3c202-4125-41d8-800a-a734b4ae8511",
   "metadata": {},
   "outputs": [],
   "source": [
    "for x in range(5):\n",
    "    print(x)\n",
    "    print(\"End\")"
   ]
  },
  {
   "cell_type": "markdown",
   "id": "45e4c34a-fcd1-4f54-922a-951a459c064e",
   "metadata": {},
   "source": [
    "<hr>\n",
    "\n",
    "By combining for loop with `range()`, we can repeat a series of actions for a sepcific amount of times.<br>\n",
    "Try to print `\"Hi\"` for 20 times using for loop:"
   ]
  },
  {
   "cell_type": "code",
   "execution_count": null,
   "id": "537ef43a-ccb2-4c80-8f91-e8f8a9f57fb7",
   "metadata": {},
   "outputs": [],
   "source": [
    "\n",
    "\n"
   ]
  },
  {
   "cell_type": "markdown",
   "id": "b07ca222-bf4a-498f-a75f-a3c423683b3e",
   "metadata": {},
   "source": [
    "#### Answer"
   ]
  },
  {
   "cell_type": "code",
   "execution_count": 7,
   "id": "86d13dcd-1243-4580-88e5-4ced910f0f21",
   "metadata": {
    "jp-MarkdownHeadingCollapsed": true
   },
   "outputs": [
    {
     "name": "stdout",
     "output_type": "stream",
     "text": [
      "Hi\n",
      "Hi\n",
      "Hi\n",
      "Hi\n",
      "Hi\n",
      "Hi\n",
      "Hi\n",
      "Hi\n",
      "Hi\n",
      "Hi\n",
      "Hi\n",
      "Hi\n",
      "Hi\n",
      "Hi\n",
      "Hi\n",
      "Hi\n",
      "Hi\n",
      "Hi\n",
      "Hi\n",
      "Hi\n"
     ]
    }
   ],
   "source": [
    "for x in range(20):\n",
    "    print(\"Hi\")"
   ]
  },
  {
   "cell_type": "markdown",
   "id": "e6046fc8-1f38-464f-827e-b6e9d0fc80fe",
   "metadata": {},
   "source": [
    "## 2.7 While loop"
   ]
  },
  {
   "cell_type": "markdown",
   "id": "d07c1c26-5324-4585-a1ee-461218e45527",
   "metadata": {},
   "source": [
    "\n",
    "While loop repeats a series of statements until the condition given is satisfied.<br>\n",
    "```python\n",
    "while condition:\n",
    "    statement_A\n",
    "    statement_B\n",
    "    ...\n",
    "```\n",
    "\n",
    "![img5](img5.png)<br>\n",
    "You can replicate a for loop by using while loop:"
   ]
  },
  {
   "cell_type": "code",
   "execution_count": null,
   "id": "414eea40-dba4-4624-b148-d5ed74ae0a2d",
   "metadata": {},
   "outputs": [],
   "source": [
    "x = 0\n",
    "while x < 5:\n",
    "    print(x)\n",
    "    x = x + 1"
   ]
  },
  {
   "cell_type": "markdown",
   "id": "1d3ce0af-20b2-470f-b727-9bc26c805cb5",
   "metadata": {},
   "source": [
    "While loops can also be used to validate data input:"
   ]
  },
  {
   "cell_type": "code",
   "execution_count": null,
   "id": "27dfc5f2-bc26-4656-94e5-2b0b5c254b39",
   "metadata": {},
   "outputs": [],
   "source": [
    "age = -1\n",
    "while not(age >= 0 and age <= 150):\n",
    "    age = int(input(\"Input your age (0 - 150): \"))\n",
    "print(\"You are \" + str(age) + \" year(s) old.\")"
   ]
  },
  {
   "cell_type": "markdown",
   "id": "c6a34f85-5199-4859-bbcb-3d2c60d3d8c5",
   "metadata": {},
   "source": [
    "## 2.8 Functions"
   ]
  },
  {
   "cell_type": "markdown",
   "id": "f7f73b02-e222-48a4-a2bf-4a83a396d57f",
   "metadata": {},
   "source": [
    "`print()`, `input()` and `range()` are built-in functions of Python.<br>\n",
    "Apart from them, we can define our own functions, just like this.\n",
    "```python\n",
    "def my_function():\n",
    "    print('Hello')\n",
    "    print('Bye')\n",
    "```"
   ]
  },
  {
   "cell_type": "code",
   "execution_count": 14,
   "id": "cd5e02d8-8613-430b-8b40-522d40e20185",
   "metadata": {},
   "outputs": [],
   "source": [
    "def my_function():\n",
    "    print(\"Hello\")\n",
    "    print(\"Bye\")"
   ]
  },
  {
   "cell_type": "markdown",
   "id": "fa17b2e1-3139-4cc1-b423-546ed8999047",
   "metadata": {},
   "source": [
    "To use the function, simply use:\n",
    "```python\n",
    "my_function()\n",
    "```\n",
    "All the steps in the function will be executed one by one."
   ]
  },
  {
   "cell_type": "code",
   "execution_count": 15,
   "id": "cf373046-f237-48a0-b537-c6665802caf2",
   "metadata": {},
   "outputs": [
    {
     "name": "stdout",
     "output_type": "stream",
     "text": [
      "Hello\n",
      "Bye\n",
      "Hello\n",
      "Bye\n"
     ]
    }
   ],
   "source": [
    "my_function()\n",
    "my_function()"
   ]
  },
  {
   "cell_type": "markdown",
   "id": "396a0c64-51d9-48fd-b3d0-b899d809a89d",
   "metadata": {},
   "source": [
    "#### Functions with parameters\n",
    "You can define functions that requires input everytime it is called.\n",
    "```python\n",
    "def function_name(parameter1, parameter2, ...)\n",
    "    statement_A\n",
    "    statement_B\n",
    "    ...\n",
    "    \n",
    "function_name(input1, input2, ...)\n",
    "```\n",
    "\n",
    "The parameters are used as normal variables inside the function"
   ]
  },
  {
   "cell_type": "code",
   "execution_count": 16,
   "id": "4971de0e-15e0-4e93-ad9d-9ae982651de2",
   "metadata": {},
   "outputs": [],
   "source": [
    "# Run me first!\n",
    "def add(num1, num2):\n",
    "    print(num1 + num2)"
   ]
  },
  {
   "cell_type": "code",
   "execution_count": 17,
   "id": "42129e2b-8936-4bcd-a09d-80a4301d850c",
   "metadata": {},
   "outputs": [
    {
     "name": "stdout",
     "output_type": "stream",
     "text": [
      "9\n",
      "Hello World!\n"
     ]
    }
   ],
   "source": [
    "add(4, 5)\n",
    "add(\"Hello \", \"World!\")"
   ]
  },
  {
   "cell_type": "markdown",
   "id": "5fe3cbb3-4e4f-4e53-a1fb-c773776d55fc",
   "metadata": {},
   "source": [
    "### Functions with return values\n",
    "You can use `return` to define return values of a function.<br>\n",
    "The function is quitted immediately after a value is returned."
   ]
  },
  {
   "cell_type": "code",
   "execution_count": 18,
   "id": "3e922e68-656c-4c37-a843-452d8b6d6aac",
   "metadata": {},
   "outputs": [],
   "source": [
    "# Run me first!\n",
    "def returnSum(num1, num2):\n",
    "    return num1 + num2\n",
    "    print(\"I am not printed\") # Function quitted as a value is returned"
   ]
  },
  {
   "cell_type": "markdown",
   "id": "bd4886a6-7dd1-48d7-bb96-1ca972e2ce24",
   "metadata": {},
   "source": [
    "<hr>\n",
    "\n",
    "You can store the return value in a variable."
   ]
  },
  {
   "cell_type": "code",
   "execution_count": 19,
   "id": "61ad8d94-2f37-42fe-b306-d16c4f646a8b",
   "metadata": {},
   "outputs": [
    {
     "name": "stdout",
     "output_type": "stream",
     "text": [
      "9\n"
     ]
    }
   ],
   "source": [
    "result = returnSum(3, 6)      # Result is returned and stored\n",
    "print(result)                 # Result is printed"
   ]
  },
  {
   "cell_type": "markdown",
   "id": "d6055151-11bf-4e1f-a81c-a1dd002433d6",
   "metadata": {},
   "source": [
    "<hr>\n",
    "\n",
    "You can also print it directly."
   ]
  },
  {
   "cell_type": "code",
   "execution_count": 20,
   "id": "2ad0d571-ccb9-4f60-ba3a-47085261638a",
   "metadata": {},
   "outputs": [
    {
     "name": "stdout",
     "output_type": "stream",
     "text": [
      "48\n"
     ]
    }
   ],
   "source": [
    "print(returnSum(14, 34))      # Result is returned and printed"
   ]
  },
  {
   "cell_type": "markdown",
   "id": "6fadaf93-be06-4861-80ba-afd6b168376b",
   "metadata": {},
   "source": [
    "#### Global and private variables\n",
    "Variables defined in the main function (not inside any user-defined functions) are **global** variables,<br>\n",
    "they can be accessed anywhere in the program.<br>\n",
    "On the other hand, those defined within a user-defined functions are **private** variables,<br>\n",
    "they can't be accessed outside the function, or else, an error occurs:"
   ]
  },
  {
   "cell_type": "code",
   "execution_count": 21,
   "id": "756509cd-b0c8-4084-8385-138f314d499f",
   "metadata": {
    "editable": true,
    "slideshow": {
     "slide_type": ""
    },
    "tags": []
   },
   "outputs": [
    {
     "name": "stdout",
     "output_type": "stream",
     "text": [
      "Hello Peter\n"
     ]
    },
    {
     "ename": "NameError",
     "evalue": "name 'name' is not defined",
     "output_type": "error",
     "traceback": [
      "\u001b[1;31m---------------------------------------------------------------------------\u001b[0m",
      "\u001b[1;31mNameError\u001b[0m                                 Traceback (most recent call last)",
      "Cell \u001b[1;32mIn[21], line 6\u001b[0m\n\u001b[0;32m      3\u001b[0m     \u001b[38;5;28mprint\u001b[39m(\u001b[38;5;124m\"\u001b[39m\u001b[38;5;124mHello \u001b[39m\u001b[38;5;124m\"\u001b[39m \u001b[38;5;241m+\u001b[39m name)\n\u001b[0;32m      5\u001b[0m hello()\n\u001b[1;32m----> 6\u001b[0m \u001b[38;5;28mprint\u001b[39m(\u001b[43mname\u001b[49m)\n",
      "\u001b[1;31mNameError\u001b[0m: name 'name' is not defined"
     ]
    }
   ],
   "source": [
    "def hello():\n",
    "    name = \"Peter\"\n",
    "    print(\"Hello \" + name)\n",
    "\n",
    "hello()\n",
    "print(name)"
   ]
  },
  {
   "cell_type": "markdown",
   "id": "aa33b24b-5d7b-4e41-8ddc-ea3bac690f12",
   "metadata": {},
   "source": [
    "<hr>\n",
    "\n",
    "However, they can be made global by adding this line in the function:\n",
    "```python\n",
    "global name\n",
    "```\n",
    "Try it out!"
   ]
  },
  {
   "cell_type": "code",
   "execution_count": null,
   "id": "dabcdfbc-6fcd-4885-a611-050964fe15c9",
   "metadata": {},
   "outputs": [],
   "source": [
    "def hello():\n",
    "    global name\n",
    "    name = \"Peter\"\n",
    "    print(\"Hello \" + name)\n",
    "\n",
    "hello()\n",
    "print(name)"
   ]
  },
  {
   "cell_type": "markdown",
   "id": "9d6f1659-7385-442d-83c0-f319b83474ba",
   "metadata": {},
   "source": [
    "<hr>\n",
    "\n",
    "Moreover, global variables and private variables can have the same variable name while storing different values.<br>\n",
    "In a function, private variables have higher priorities than global variables:"
   ]
  },
  {
   "cell_type": "code",
   "execution_count": null,
   "id": "591c0b8d-2ccf-4056-a27e-ed7b10b55d83",
   "metadata": {},
   "outputs": [],
   "source": [
    "def hello():\n",
    "    name = \"Peter\"              # Private: Does not overwrite Ben\n",
    "    print(\"Private: \" + name)   # Private (Peter) > Global (Ben)\n",
    "    \n",
    "name = \"Ben\"                    # Global\n",
    "hello()\n",
    "print(\"Global: \" + name)        # Ben is still here"
   ]
  },
  {
   "cell_type": "markdown",
   "id": "649f932d-225e-440f-8944-5cce5ac3ef6f",
   "metadata": {
    "editable": true,
    "slideshow": {
     "slide_type": ""
    },
    "tags": []
   },
   "source": [
    "#### Benefits of using functions\n",
    "By using functions, we can break down a large task into smaller tasks.<br>\n",
    "In this way, we can conquer the smaller and easier tasks one by one.<br>\n",
    "Moreover, the program becomes more readable, and have a better structure.<br>\n",
    "In later chapters, you will be asked to complete functions for different game actions as well."
   ]
  }
 ],
 "metadata": {
  "kernelspec": {
   "display_name": "Python 3 (ipykernel)",
   "language": "python",
   "name": "python3"
  },
  "language_info": {
   "codemirror_mode": {
    "name": "ipython",
    "version": 3
   },
   "file_extension": ".py",
   "mimetype": "text/x-python",
   "name": "python",
   "nbconvert_exporter": "python",
   "pygments_lexer": "ipython3",
   "version": "3.11.4"
  },
  "toc": {
   "base_numbering": 1
  }
 },
 "nbformat": 4,
 "nbformat_minor": 5
}
