{
 "cells": [
  {
   "cell_type": "markdown",
   "id": "c80b0059-b23a-400c-9b78-6917465ea68a",
   "metadata": {},
   "source": [
    "# Chapter 9 - Glide Feature (Bonus IV)"
   ]
  },
  {
   "cell_type": "code",
   "execution_count": null,
   "id": "33388ef7-adf5-41f2-af49-d92993fd226a",
   "metadata": {},
   "outputs": [],
   "source": []
  }
 ],
 "metadata": {
  "kernelspec": {
   "display_name": "Python 3 (ipykernel)",
   "language": "python",
   "name": "python3"
  },
  "language_info": {
   "codemirror_mode": {
    "name": "ipython",
    "version": 3
   },
   "file_extension": ".py",
   "mimetype": "text/x-python",
   "name": "python",
   "nbconvert_exporter": "python",
   "pygments_lexer": "ipython3",
   "version": "3.11.4"
  }
 },
 "nbformat": 4,
 "nbformat_minor": 5
}
