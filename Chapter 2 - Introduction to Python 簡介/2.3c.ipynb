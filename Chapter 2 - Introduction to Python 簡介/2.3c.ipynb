{
 "cells": [
  {
   "cell_type": "markdown",
   "id": "8b4beb04-d4b4-43a1-b84d-bfb6d5b832df",
   "metadata": {},
   "source": [
    "# 2.3c 用戶輸入：`input()`指令\n",
    "[示範] `input()` 指令可以接收用戶輸入，括號內可加上提示信息，如："
   ]
  },
  {
   "cell_type": "code",
   "execution_count": null,
   "id": "0731ec67-1265-42ce-91d2-3599100b914d",
   "metadata": {},
   "outputs": [],
   "source": [
    "name = input(\"What's your name?\")\n",
    "print(\"Hello,\", name)"
   ]
  },
  {
   "cell_type": "code",
   "execution_count": null,
   "id": "879aeb5a-609b-4197-943c-c23aab6a21d2",
   "metadata": {},
   "outputs": [],
   "source": [
    "age = input(\"How old are you this year?\")\n",
    "print(\"You are\", age, \"years old this year!\")"
   ]
  },
  {
   "cell_type": "markdown",
   "id": "05437425-b46f-41ff-9130-d56297729ba9",
   "metadata": {},
   "source": [
    "<font color='orange'>**[練習]**</font> 但有一個間題，試用 `type()` 指令檢查 `name` 和 `age` 的資料類型："
   ]
  },
  {
   "cell_type": "code",
   "execution_count": null,
   "id": "194e7b2e-54a7-4213-8f64-3ed158c95dfd",
   "metadata": {},
   "outputs": [],
   "source": [
    "# 檢查 name 的資料類型：\n",
    "print()\n",
    "# 檢查 age 的資料類型：\n",
    "print()"
   ]
  },
  {
   "cell_type": "markdown",
   "id": "0a24873a-d491-4069-bd65-4330b8e3f684",
   "metadata": {},
   "source": [
    "<hr>\n",
    "\n",
    "留意它們都是 `str` 字串，因此，當我們希望得到數值輸入時，便需要使用類型轉換函式，如 `int()` 、 `float()`。\n",
    "\n",
    "[示範] 否則，使用 `str` 進行計算則會出現錯誤：(出生年份 = 現在年份 - 歲數)"
   ]
  },
  {
   "cell_type": "code",
   "execution_count": null,
   "id": "4a3cdecc-f192-4d56-b2a8-ec0ad47d68d8",
   "metadata": {
    "scrolled": true
   },
   "outputs": [],
   "source": [
    "from datetime import datetime\n",
    "current_year = datetime.now().year\n",
    "birth_year = current_year - age # 錯誤！ str 不可進行計算！\n",
    "print(\"You were born in\", birth_year)"
   ]
  },
  {
   "cell_type": "markdown",
   "id": "cd8b719f-57fe-4b57-9790-3ee7038d9081",
   "metadata": {},
   "source": [
    "<hr>\n",
    "\n",
    "[示範] 我們以 `int()` 指令將 `age` 轉成 `int` 類型，並儲存在變量 `int_age` 中，方可進行計算："
   ]
  },
  {
   "cell_type": "code",
   "execution_count": null,
   "id": "3393f7ff-391a-4e07-a3b1-e61df764c1a1",
   "metadata": {},
   "outputs": [],
   "source": [
    "int_age = int(age) # 將 age 轉換成 int 類型\n",
    "\n",
    "from datetime import datetime\n",
    "current_year = datetime.now().year\n",
    "birth_year = current_year - int_age # int 可進行計算\n",
    "print(\"You were born in\", birth_year)"
   ]
  }
 ],
 "metadata": {
  "kernelspec": {
   "display_name": "Python 3 (ipykernel)",
   "language": "python",
   "name": "python3"
  },
  "language_info": {
   "codemirror_mode": {
    "name": "ipython",
    "version": 3
   },
   "file_extension": ".py",
   "mimetype": "text/x-python",
   "name": "python",
   "nbconvert_exporter": "python",
   "pygments_lexer": "ipython3",
   "version": "3.11.5"
  }
 },
 "nbformat": 4,
 "nbformat_minor": 5
}
