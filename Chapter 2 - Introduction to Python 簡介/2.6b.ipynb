{
 "cells": [
  {
   "cell_type": "markdown",
   "id": "68c1f3e5-a17b-4e58-94ca-48ee44079f9e",
   "metadata": {},
   "source": [
    "# 2.6b 除錯無限循環\n",
    "\n",
    "<b><font color='orange'>[練習]</font></b> 以下程式包含一個有問題的 While 循環，會導致無限循環。請找出問題並修復它：\n",
    "\n",
    "註：\n",
    "\n",
    "程式原意計算 1 至 10 的總和，輸出應為 55\n",
    "\n",
    "要退出無限循環，按上方工作列中的 `◼` Interrupt the Kernel 按鈕。"
   ]
  },
  {
   "cell_type": "code",
   "execution_count": null,
   "id": "7a64e0cf-4fce-45e8-b16a-acec273eb11d",
   "metadata": {},
   "outputs": [],
   "source": [
    "# 計算 1 到 10 的總和 (無限循環)\n",
    "total = 0\n",
    "i = 1\n",
    "\n",
    "while i <= 10:\n",
    "    total = total + i\n",
    "    \n",
    "print(\"1到10的總和是:\", total)"
   ]
  },
  {
   "cell_type": "markdown",
   "id": "05060269-cabf-4d54-9a8a-6432bb9c0b5d",
   "metadata": {
    "editable": true,
    "jp-MarkdownHeadingCollapsed": true,
    "slideshow": {
     "slide_type": ""
    },
    "tags": []
   },
   "source": [
    "### Answers 答案"
   ]
  },
  {
   "cell_type": "code",
   "execution_count": null,
   "id": "5e3ffa82-56a5-4d8f-adbe-3ee9e7977ff9",
   "metadata": {},
   "outputs": [],
   "source": [
    "# 計算 1 到 10 的總和\n",
    "total = 0\n",
    "i = 1\n",
    "while i <= 10:\n",
    "    total = total + i\n",
    "    i = i + 1\n",
    "print(\"1到10的總和是:\", total)"
   ]
  }
 ],
 "metadata": {
  "kernelspec": {
   "display_name": "Python 3 (ipykernel)",
   "language": "python",
   "name": "python3"
  },
  "language_info": {
   "codemirror_mode": {
    "name": "ipython",
    "version": 3
   },
   "file_extension": ".py",
   "mimetype": "text/x-python",
   "name": "python",
   "nbconvert_exporter": "python",
   "pygments_lexer": "ipython3",
   "version": "3.11.5"
  }
 },
 "nbformat": 4,
 "nbformat_minor": 5
}
