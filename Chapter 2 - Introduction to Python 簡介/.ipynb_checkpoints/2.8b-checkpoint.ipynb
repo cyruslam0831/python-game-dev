{
 "cells": [
  {
   "cell_type": "markdown",
   "id": "55dc008a-4798-4b69-b5f3-80d858ed6efe",
   "metadata": {},
   "source": [
    "# 2.8b 自定義函式 II"
   ]
  },
  {
   "cell_type": "markdown",
   "id": "ffc6917a-adec-41b6-9d87-a2b25368e292",
   "metadata": {},
   "source": [
    "## 函式參數\n",
    "\n",
    "<b><font color='orange'>[練習]</font></b> 試更改  `hello()` 函式，每次執行時輸出一句 `Hello <name>!`，而 `name` 是一個預設為 `World` 的參數：\n",
    "\n",
    "例子：\n",
    "\n",
    "`hello()` 應輸出 `Hello World!`\n",
    "\n",
    "`hello(\"Peter\")` 應輸出 `Hello Peter!`"
   ]
  },
  {
   "cell_type": "code",
   "execution_count": null,
   "id": "34302cdf-9cdc-4f3c-a563-29e43c98fdea",
   "metadata": {
    "scrolled": true
   },
   "outputs": [],
   "source": [
    "def hello():\n",
    "    print(\"Hello \" + (   ) + \"!\")\n",
    "\n",
    "hello() # Hello World!\n",
    "hello(\"Peter\") # Hello Peter!"
   ]
  },
  {
   "cell_type": "markdown",
   "id": "02756895-73d5-4ad3-b0a1-ae19f593342b",
   "metadata": {},
   "source": [
    "<hr>\n",
    "\n",
    "## 函式傳回值\n",
    "以下是一個會傳回輸入值是否單數的函式 `isOdd(x)` (已完成，毋須更改)："
   ]
  },
  {
   "cell_type": "code",
   "execution_count": null,
   "id": "bedff6ef-7d2d-404b-945f-c712a27d6f35",
   "metadata": {},
   "outputs": [],
   "source": [
    "def isOdd(x):\n",
    "    return x % 2 == 1\n",
    "\n",
    "print(isOdd(3)) # True\n",
    "print(isOdd(6)) # False"
   ]
  },
  {
   "cell_type": "markdown",
   "id": "a3951981-3308-4bbd-bd58-6e15c3cea559",
   "metadata": {},
   "source": [
    "<hr><b><font color='orange'>[練習]</font></b> 試通過使用 `isOdd(x)` 函式，完成 `isEven(x)` 函式，以完成傳回輸入值是否雙數的函式："
   ]
  },
  {
   "cell_type": "code",
   "execution_count": null,
   "id": "7a5884c8-ea7c-4d60-8d98-4298a906b3be",
   "metadata": {},
   "outputs": [],
   "source": [
    "def isEven(x):\n",
    "    return \n",
    "    # ^^^ 完成此行\n",
    "\n",
    "print(isEven(3)) # False\n",
    "print(isEven(6)) # True"
   ]
  },
  {
   "cell_type": "markdown",
   "id": "6e8cf2a9-4e2c-440e-b286-67aa0674c0c6",
   "metadata": {
    "jp-MarkdownHeadingCollapsed": true
   },
   "source": [
    "### Answers 答案"
   ]
  },
  {
   "cell_type": "code",
   "execution_count": null,
   "id": "b5586564-a888-4009-bdb4-0735aa6347f7",
   "metadata": {},
   "outputs": [],
   "source": [
    "def hello(name = \"World\"):\n",
    "    print(\"Hello \" + name + \"!\")\n",
    "\n",
    "hello()\n",
    "hello(\"Peter\")"
   ]
  },
  {
   "cell_type": "code",
   "execution_count": null,
   "id": "5b9b25d4-8483-4bc0-8be5-a3f691133fe0",
   "metadata": {},
   "outputs": [],
   "source": [
    "def isEven(x):\n",
    "    return not isOdd(x)\n",
    "\n",
    "print(isEven(3))\n",
    "print(isEven(6))"
   ]
  }
 ],
 "metadata": {
  "kernelspec": {
   "display_name": "Python 3 (ipykernel)",
   "language": "python",
   "name": "python3"
  },
  "language_info": {
   "codemirror_mode": {
    "name": "ipython",
    "version": 3
   },
   "file_extension": ".py",
   "mimetype": "text/x-python",
   "name": "python",
   "nbconvert_exporter": "python",
   "pygments_lexer": "ipython3",
   "version": "3.11.5"
  }
 },
 "nbformat": 4,
 "nbformat_minor": 5
}
