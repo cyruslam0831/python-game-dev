{
 "cells": [
  {
   "cell_type": "markdown",
   "id": "3f79330a-914f-490d-a6e2-58e362e4cd32",
   "metadata": {},
   "source": [
    "# 2.7a For 循環"
   ]
  },
  {
   "cell_type": "markdown",
   "id": "87d4ebe2-e599-4547-9aea-6420923f18e2",
   "metadata": {
    "editable": true,
    "slideshow": {
     "slide_type": ""
    },
    "tags": []
   },
   "source": [
    "和條件運算式相似，For 循環要求適當的縮排。<br>\n",
    "[示範] 比較以下兩個程式："
   ]
  },
  {
   "cell_type": "code",
   "execution_count": null,
   "id": "72d5aa7f-c99b-4894-a202-b324b4f51c28",
   "metadata": {
    "editable": true,
    "slideshow": {
     "slide_type": ""
    },
    "tags": []
   },
   "outputs": [],
   "source": [
    "for x in range(5):\n",
    "    print(x)\n",
    "print(\"End\")"
   ]
  },
  {
   "cell_type": "code",
   "execution_count": null,
   "id": "2c4e7a44-240c-4242-ad77-e05d3fdbf124",
   "metadata": {},
   "outputs": [],
   "source": [
    "for x in range(5):\n",
    "    print(x)\n",
    "    print(\"End\")"
   ]
  },
  {
   "cell_type": "markdown",
   "id": "ebacd2e2-02aa-4e8c-a355-a1a3b2334ec3",
   "metadata": {},
   "source": [
    "<hr>"
   ]
  },
  {
   "cell_type": "markdown",
   "id": "b4c91479-fe73-4b4a-9cf3-28a2e96f7788",
   "metadata": {
    "editable": true,
    "jp-MarkdownHeadingCollapsed": true,
    "slideshow": {
     "slide_type": ""
    },
    "tags": []
   },
   "source": [
    "通過組合 For 循環 及 `range()`，我們可以有特定次數地重複一些指令。<br>\n",
    "<b><font color='orange'>[練習]</font></b> 試用 For 循環顯示 `\"Hi\"` 10 次："
   ]
  },
  {
   "cell_type": "code",
   "execution_count": null,
   "id": "578bee49-007f-4e77-a9e5-be6919e872fa",
   "metadata": {
    "editable": true,
    "slideshow": {
     "slide_type": ""
    },
    "tags": []
   },
   "outputs": [],
   "source": [
    "# Write your code here 在此編程\n",
    "\n"
   ]
  },
  {
   "cell_type": "markdown",
   "id": "dc948c9c-40b3-4682-b63d-8ac88d66482b",
   "metadata": {
    "editable": true,
    "slideshow": {
     "slide_type": ""
    },
    "tags": []
   },
   "source": [
    "#### Answer 答案"
   ]
  },
  {
   "cell_type": "code",
   "execution_count": null,
   "id": "04f51b1b-fde0-4af6-ad49-5de6739cdb07",
   "metadata": {
    "editable": true,
    "jp-MarkdownHeadingCollapsed": true,
    "slideshow": {
     "slide_type": ""
    },
    "tags": []
   },
   "outputs": [],
   "source": [
    "for x in range(10):\n",
    "    print(\"Hi\")"
   ]
  },
  {
   "cell_type": "markdown",
   "id": "e14a249f-15a4-4b96-8a6e-e25b1d32668d",
   "metadata": {},
   "source": [
    "<hr>\n",
    "<b><font color='orange'>[練習]</font></b> 完成以下程式碼以顯示首20個3的倍數：(3, 6, ..., 57, 60)"
   ]
  },
  {
   "cell_type": "code",
   "execution_count": null,
   "id": "09d492ec-be05-4c63-82b7-eaab25cbe6e4",
   "metadata": {
    "editable": true,
    "slideshow": {
     "slide_type": ""
    },
    "tags": []
   },
   "outputs": [],
   "source": [
    "for x in range(     ):\n",
    "    print(     )"
   ]
  },
  {
   "cell_type": "markdown",
   "id": "e105d679-5244-4e03-9c59-c3cb67685c78",
   "metadata": {},
   "source": [
    "### <hr>\n",
    "\n",
    "<b><font color='orange'>[練習]</font></b> 完成以下程式碼以1至10的總和："
   ]
  },
  {
   "cell_type": "code",
   "execution_count": null,
   "id": "dcc6f2db-a1fa-4f90-ae31-f0ce54ffd415",
   "metadata": {},
   "outputs": [],
   "source": []
  }
 ],
 "metadata": {
  "kernelspec": {
   "display_name": "Python 3 (ipykernel)",
   "language": "python",
   "name": "python3"
  },
  "language_info": {
   "codemirror_mode": {
    "name": "ipython",
    "version": 3
   },
   "file_extension": ".py",
   "mimetype": "text/x-python",
   "name": "python",
   "nbconvert_exporter": "python",
   "pygments_lexer": "ipython3",
   "version": "3.11.5"
  }
 },
 "nbformat": 4,
 "nbformat_minor": 5
}
