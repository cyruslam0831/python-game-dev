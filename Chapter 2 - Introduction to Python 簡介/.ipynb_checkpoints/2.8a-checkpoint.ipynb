{
 "cells": [
  {
   "cell_type": "markdown",
   "id": "4e4cfc21-81b8-4142-8819-5f0ca5a0cbc0",
   "metadata": {},
   "source": [
    "# 2.8a 自定義函式 I"
   ]
  },
  {
   "cell_type": "markdown",
   "id": "bfe66795-366c-4e77-9f6b-461c7232611f",
   "metadata": {},
   "source": [
    "<b><font color='orange'>[練習]</font></b> 試定義一個名為 `hello()` 的函式，每次執行時輸出一句 `Hello World!`："
   ]
  },
  {
   "cell_type": "code",
   "execution_count": null,
   "id": "5639043c-5e8a-4fc2-9bf3-4646e28c4f76",
   "metadata": {},
   "outputs": [],
   "source": [
    "# 在此編寫函式\n",
    "\n"
   ]
  },
  {
   "cell_type": "markdown",
   "id": "09dc3008-b814-429d-9197-0026e283d717",
   "metadata": {},
   "source": [
    "<hr>\n",
    "當函式被定義後，則可不斷執行："
   ]
  },
  {
   "cell_type": "code",
   "execution_count": null,
   "id": "5bcade89-3bfe-44f9-b5c9-2ae784620e38",
   "metadata": {},
   "outputs": [],
   "source": [
    "hello()\n",
    "hello()\n",
    "hello()"
   ]
  },
  {
   "cell_type": "markdown",
   "id": "b1e82226-cd53-45d4-8335-ad13b64c0869",
   "metadata": {},
   "source": [
    "<hr>\n",
    "亦可混合循環使用："
   ]
  },
  {
   "cell_type": "code",
   "execution_count": null,
   "id": "99f81ad2-f880-4f54-82fc-293e54db8c2c",
   "metadata": {},
   "outputs": [],
   "source": [
    "for x in range(10):\n",
    "    hello()"
   ]
  },
  {
   "cell_type": "markdown",
   "id": "731f6d66-9693-4777-8efc-4852d373b075",
   "metadata": {
    "jp-MarkdownHeadingCollapsed": true
   },
   "source": [
    "### Answers 答案"
   ]
  },
  {
   "cell_type": "code",
   "execution_count": null,
   "id": "1069103d-7c92-4075-a79e-23f73ba2e151",
   "metadata": {},
   "outputs": [],
   "source": [
    "def hello():\n",
    "    print(\"Hello World!\")\n",
    "hello()"
   ]
  }
 ],
 "metadata": {
  "kernelspec": {
   "display_name": "Python 3 (ipykernel)",
   "language": "python",
   "name": "python3"
  },
  "language_info": {
   "codemirror_mode": {
    "name": "ipython",
    "version": 3
   },
   "file_extension": ".py",
   "mimetype": "text/x-python",
   "name": "python",
   "nbconvert_exporter": "python",
   "pygments_lexer": "ipython3",
   "version": "3.11.5"
  }
 },
 "nbformat": 4,
 "nbformat_minor": 5
}
