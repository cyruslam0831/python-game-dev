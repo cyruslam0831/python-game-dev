{
 "cells": [
  {
   "cell_type": "markdown",
   "id": "bcc5f621-6756-4363-b86c-3d725a04beed",
   "metadata": {},
   "source": [
    "# 2.2a 變量\n",
    "<font color='orange'>**[練習]**</font> 試將 `\"Peter\"` ，或你的名字儲存在一個名為 `name` 的變量："
   ]
  },
  {
   "cell_type": "code",
   "execution_count": null,
   "id": "4ac10581-b8f3-4bfd-aca9-254ea0331326",
   "metadata": {},
   "outputs": [],
   "source": []
  },
  {
   "cell_type": "markdown",
   "id": "83e3f2c7-3fca-4d58-9566-8141ce43604e",
   "metadata": {},
   "source": [
    "[示範] 完成後按 `Ctrl` + `Enter` 執行，再嘗試執行下方儲存格："
   ]
  },
  {
   "cell_type": "code",
   "execution_count": null,
   "id": "4f7939fe-0803-4a34-a186-b1f6c833c925",
   "metadata": {},
   "outputs": [],
   "source": [
    "print(name)"
   ]
  },
  {
   "cell_type": "markdown",
   "id": "dee0cee5-0b38-4edd-9a7d-ba5906a4060d",
   "metadata": {},
   "source": [
    "如成功，應看到變量的內容被輸出。"
   ]
  },
  {
   "cell_type": "markdown",
   "id": "0494adb9-9b65-44ca-82d6-405fe32916d5",
   "metadata": {},
   "source": [
    "<hr>\n",
    "[示範] 當我們嘗試在定義變量前便使用它，便會出現錯誤："
   ]
  },
  {
   "cell_type": "code",
   "execution_count": 4,
   "id": "5e71efe8-fc67-4c07-9914-c97b150faa33",
   "metadata": {
    "scrolled": true
   },
   "outputs": [
    {
     "ename": "NameError",
     "evalue": "name 'x' is not defined",
     "output_type": "error",
     "traceback": [
      "\u001b[1;31m---------------------------------------------------------------------------\u001b[0m",
      "\u001b[1;31mNameError\u001b[0m                                 Traceback (most recent call last)",
      "Cell \u001b[1;32mIn[4], line 1\u001b[0m\n\u001b[1;32m----> 1\u001b[0m \u001b[43mx\u001b[49m\n",
      "\u001b[1;31mNameError\u001b[0m: name 'x' is not defined"
     ]
    }
   ],
   "source": [
    "x"
   ]
  },
  {
   "cell_type": "markdown",
   "id": "9fdc273c-25db-4360-b96d-598a11bca7c3",
   "metadata": {},
   "source": [
    "<hr>\n",
    "我們可以重新定義變量，而重新定義的值為在打後的程式碼生效。<br>\n",
    "[示範] 留意以下程式碼的輸出："
   ]
  },
  {
   "cell_type": "code",
   "execution_count": null,
   "id": "b2ff8513-36b8-4dc4-97db-bc5b5c20d518",
   "metadata": {},
   "outputs": [],
   "source": [
    "x = 10\n",
    "print(x) # 現在 x 為 10\n",
    "x = 20\n",
    "print(x) # 現在 x 為 10"
   ]
  }
 ],
 "metadata": {
  "kernelspec": {
   "display_name": "Python 3 (ipykernel)",
   "language": "python",
   "name": "python3"
  },
  "language_info": {
   "codemirror_mode": {
    "name": "ipython",
    "version": 3
   },
   "file_extension": ".py",
   "mimetype": "text/x-python",
   "name": "python",
   "nbconvert_exporter": "python",
   "pygments_lexer": "ipython3",
   "version": "3.11.5"
  }
 },
 "nbformat": 4,
 "nbformat_minor": 5
}
