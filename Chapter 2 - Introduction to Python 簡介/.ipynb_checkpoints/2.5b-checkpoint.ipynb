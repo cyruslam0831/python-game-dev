{
 "cells": [
  {
   "cell_type": "markdown",
   "id": "5647ea06-0201-4093-9a3a-2c579cfeebae",
   "metadata": {},
   "source": [
    "# 2.5b 進階條件運算式\n",
    "\n",
    "根據以下評級標準，判定分數的評級：\n",
    "\n",
    "| 分數範圍       | 評級 |\n",
    "|---------------|------|\n",
    "| 90 分及以上    | A    |\n",
    "| 80-89 分       | B    |\n",
    "| 70-79 分       | C    |\n",
    "| 60-69 分       | D    |\n",
    "| 50-59 分       | E    |\n",
    "| 50 分以下      | F    |\n",
    "\n",
    "<b><font color='orange'>[練習]</font></b> 將括號內的條件式填上，完成以下程式碼："
   ]
  },
  {
   "cell_type": "code",
   "execution_count": null,
   "id": "a0a7fac8-dd9f-48dd-9a7b-df428a7a0fee",
   "metadata": {},
   "outputs": [],
   "source": [
    "### Grade Calculator 評級計算機\n",
    "score = int(input(\"Input your score: \"))\n",
    "\n",
    "if (   ):\n",
    "    print(\"A\")\n",
    "    print(\"Excellent! ^w^\")\n",
    "    \n",
    "elif (   ):\n",
    "    print(\"B\")\n",
    "    print(\"Very good! :D\")\n",
    "    \n",
    "elif (   ):\n",
    "    print(\"C\")\n",
    "    print(\"Good! :)\")\n",
    "    \n",
    "elif (   ):\n",
    "    print(\"D\")\n",
    "    print(\"Fairly Good. :/\")\n",
    "    \n",
    "elif (   ):\n",
    "    print(\"E\")\n",
    "    print(\"Work harder. :(\")\n",
    "    \n",
    "else:\n",
    "    print(\"F\")\n",
    "    print(\"Failed! >:(\")"
   ]
  },
  {
   "cell_type": "markdown",
   "id": "6844bb1e-8d3c-4dd0-b881-eed58da98b0b",
   "metadata": {
    "editable": true,
    "jp-MarkdownHeadingCollapsed": true,
    "slideshow": {
     "slide_type": ""
    },
    "tags": []
   },
   "source": [
    "### Answers 答案"
   ]
  },
  {
   "cell_type": "code",
   "execution_count": null,
   "id": "f15c40c4-b4ba-41d2-bcfc-25bc0bd889d2",
   "metadata": {},
   "outputs": [],
   "source": [
    "### Grade Calculator 評級計算機\n",
    "score = int(input(\"Input your score: \"))\n",
    "\n",
    "if (score >= 90):\n",
    "    print(\"A\")\n",
    "    print(\"Excellent! ^w^\")\n",
    "    \n",
    "elif (score >= 80):\n",
    "    print(\"B\")\n",
    "    print(\"Very good! :D\")\n",
    "    \n",
    "elif (score >= 70):\n",
    "    print(\"C\")\n",
    "    print(\"Good! :)\")\n",
    "    \n",
    "elif (score >= 60):\n",
    "    print(\"D\")\n",
    "    print(\"Fairly Good. :/\")\n",
    "    \n",
    "elif (score >= 50):\n",
    "    print(\"E\")\n",
    "    print(\"Work harder. :(\")\n",
    "    \n",
    "else:\n",
    "    print(\"F\")\n",
    "    print(\"Failed! >:(\")"
   ]
  }
 ],
 "metadata": {
  "kernelspec": {
   "display_name": "Python 3 (ipykernel)",
   "language": "python",
   "name": "python3"
  },
  "language_info": {
   "codemirror_mode": {
    "name": "ipython",
    "version": 3
   },
   "file_extension": ".py",
   "mimetype": "text/x-python",
   "name": "python",
   "nbconvert_exporter": "python",
   "pygments_lexer": "ipython3",
   "version": "3.11.5"
  }
 },
 "nbformat": 4,
 "nbformat_minor": 5
}
