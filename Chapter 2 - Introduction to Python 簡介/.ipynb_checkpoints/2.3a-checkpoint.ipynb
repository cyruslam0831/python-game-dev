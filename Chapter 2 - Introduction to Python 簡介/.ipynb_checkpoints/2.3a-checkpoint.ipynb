{
 "cells": [
  {
   "cell_type": "markdown",
   "id": "9f501b17-7f08-4f29-b18c-9b02ddccd6c1",
   "metadata": {},
   "source": [
    "# 2.3a `type()` 指令"
   ]
  },
  {
   "cell_type": "markdown",
   "id": "60f05d01-7225-448f-8824-dc6024ca1a6c",
   "metadata": {},
   "source": [
    "函式 `type()` 會傳回資料的類型，將其放在 `print()` 函數中則會顯示該類型。\n",
    "\n",
    "[示範] 執行以下程式碼，並將得出的資料類型填在筆記的適當位置："
   ]
  },
  {
   "cell_type": "code",
   "execution_count": null,
   "id": "86db656f-4a42-493d-9c0c-1b9c77538ebb",
   "metadata": {},
   "outputs": [],
   "source": [
    "print(type(3.14))\n",
    "print(type(\"Hello!\"))"
   ]
  },
  {
   "cell_type": "markdown",
   "id": "93963d68-1a82-4e5d-aa4d-db9868075cab",
   "metadata": {},
   "source": [
    "<hr>\n",
    "我們學了 4 種不同的資料類型，試各舉一個例子，並執行儲存格核對答案："
   ]
  },
  {
   "cell_type": "code",
   "execution_count": null,
   "id": "9d33800b-d771-407a-bc2d-e5e49d494cf8",
   "metadata": {},
   "outputs": [],
   "source": [
    "# 在等號後加上一個 int\n",
    "int_example   = \n",
    "\n",
    "# 在等號後加上一個 float\n",
    "float_example = \n",
    "\n",
    "# 在等號後加上一個 str\n",
    "str_example   = \n",
    "\n",
    "# 在等號後加上一個 bool\n",
    "bool_example  = \n",
    "\n",
    "# 核對答案\n",
    "%run ./code/check_2.3a.ipynb"
   ]
  }
 ],
 "metadata": {
  "kernelspec": {
   "display_name": "Python 3 (ipykernel)",
   "language": "python",
   "name": "python3"
  },
  "language_info": {
   "codemirror_mode": {
    "name": "ipython",
    "version": 3
   },
   "file_extension": ".py",
   "mimetype": "text/x-python",
   "name": "python",
   "nbconvert_exporter": "python",
   "pygments_lexer": "ipython3",
   "version": "3.11.5"
  }
 },
 "nbformat": 4,
 "nbformat_minor": 5
}
