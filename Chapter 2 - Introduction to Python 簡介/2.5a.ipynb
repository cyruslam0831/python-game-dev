{
 "cells": [
  {
   "cell_type": "markdown",
   "id": "d9f9e785-2965-43b7-a306-783f20fbcf62",
   "metadata": {},
   "source": [
    "# 2.5a 基本條件運算式\n"
   ]
  },
  {
   "cell_type": "markdown",
   "id": "4b491baf-21d8-4557-90ca-f2ea54840b41",
   "metadata": {},
   "source": [
    "留意縮排 Indentation 是十分重要的，當我們無故加上縮排 (按 `Tab`)，則會出現錯誤。\n",
    "\n",
    "<b><font color='orange'>[練習]</font></b> 加上適當的縮排，使輸出合理：\n",
    "\n",
    "說明：\n",
    "\n",
    "首三行令變量 `sunny` (晴天) 在每次程式執行時有 50% 機率為 `True`， 50% 機率為 `False` (不用理會)\n",
    "\n",
    "晴天: `Wear sunglasses!`\n",
    "\n",
    "不是晴天: `Bring umbrella!` & `Wear rain boots!`\n",
    "\n",
    "不論是否晴天: `Go to school!`"
   ]
  },
  {
   "cell_type": "code",
   "execution_count": null,
   "id": "eaa29c31-32bc-4bbf-bf4d-9f0ecc976d06",
   "metadata": {},
   "outputs": [],
   "source": [
    "import random\n",
    "sunny = random.random() < 0.5\n",
    "print(\"Sunny:\", sunny)\n",
    "\n",
    "if sunny:\n",
    "print(\"Wear sunglasses!\")\n",
    "else:\n",
    "print(\"Bring umbrella!\")\n",
    "print(\"Wear rain boots!\")\n",
    "print(\"Go to school!\")"
   ]
  },
  {
   "cell_type": "markdown",
   "id": "5181ce4f-e6e0-4d9c-9729-eb2cae77accc",
   "metadata": {},
   "source": [
    "<hr>\n",
    "<b><font color='orange'>[練習]</font></b> 加上條件運算式，完成以下判斷單雙數的程式：\n",
    "\n",
    "說明：\n",
    "\n",
    "如 x 是雙數: 輸出 `Even`\n",
    "\n",
    "如 x 是單數: 輸出 `Odd`\n",
    "\n",
    "提示：於條件式中使用餘數"
   ]
  },
  {
   "cell_type": "code",
   "execution_count": null,
   "id": "bc4f32a9-c009-45b7-9d65-d7ca50da47f6",
   "metadata": {},
   "outputs": [],
   "source": [
    "x = int(input(\"Input an integer: \"))\n",
    "\n",
    "# 完成以下程式\n",
    "\n",
    "\n",
    "\n"
   ]
  },
  {
   "cell_type": "markdown",
   "id": "dea0ce4a-6c81-439e-83b1-17b684160e56",
   "metadata": {
    "editable": true,
    "jp-MarkdownHeadingCollapsed": true,
    "slideshow": {
     "slide_type": ""
    },
    "tags": []
   },
   "source": [
    "### Answers 答案"
   ]
  },
  {
   "cell_type": "code",
   "execution_count": null,
   "id": "bccddee8-e165-4642-b644-fe109e1ab7be",
   "metadata": {},
   "outputs": [],
   "source": [
    "import random\n",
    "sunny = random.random() < 0.5\n",
    "print(\"Sunny:\", sunny)\n",
    "\n",
    "if sunny:\n",
    "    print(\"Wear sunglasses!\")\n",
    "else:\n",
    "    print(\"Bring umbrella!\")\n",
    "    print(\"Wear rain boots!\")\n",
    "print(\"Go to school!\")"
   ]
  },
  {
   "cell_type": "code",
   "execution_count": null,
   "id": "61d82097-2606-4eeb-a9e5-2b940d177efa",
   "metadata": {},
   "outputs": [],
   "source": [
    "x = int(input(\"Input an integer: \"))\n",
    "\n",
    "if x % 2 == 0:\n",
    "    print(\"Even\")\n",
    "else:\n",
    "    print(\"Odd\")"
   ]
  }
 ],
 "metadata": {
  "kernelspec": {
   "display_name": "Python 3 (ipykernel)",
   "language": "python",
   "name": "python3"
  },
  "language_info": {
   "codemirror_mode": {
    "name": "ipython",
    "version": 3
   },
   "file_extension": ".py",
   "mimetype": "text/x-python",
   "name": "python",
   "nbconvert_exporter": "python",
   "pygments_lexer": "ipython3",
   "version": "3.11.5"
  }
 },
 "nbformat": 4,
 "nbformat_minor": 5
}
