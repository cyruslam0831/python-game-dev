{
 "cells": [
  {
   "cell_type": "markdown",
   "id": "c94cbeb3-2acf-43d0-a711-e500619f546c",
   "metadata": {},
   "source": [
    "# 2.6a While 循環\n",
    "While 循環的常用於輸入校驗，當用戶輸入不合理，則重複要求輸入，直接接受輸入。\n",
    "\n",
    "<b><font color='orange'>[練習]</font></b> 假如年齡輸入的合理範圍是 0 至 150，試完成以下程式，以進行輸入校驗：\n",
    "\n",
    "註：留意我們將 `age` 在校驗前是定義為一個不被接受的輸入，好讓程式進入 While 循環中。"
   ]
  },
  {
   "cell_type": "code",
   "execution_count": 1,
   "id": "af026398-8e9e-4db0-88d0-068744d90ca2",
   "metadata": {},
   "outputs": [
    {
     "name": "stdout",
     "output_type": "stream",
     "text": [
      "You are -1 year(s) old.\n"
     ]
    }
   ],
   "source": [
    "age = -1\n",
    "\n",
    "while (): # 加上條件式\n",
    "    age = int(input(\"Input your age (0 - 150): \"))\n",
    "    \n",
    "print(\"You are \" + str(age) + \" year(s) old.\")"
   ]
  },
  {
   "cell_type": "markdown",
   "id": "bf8dfdd9-bbe0-4550-ab59-b55458ff0ffa",
   "metadata": {
    "editable": true,
    "jp-MarkdownHeadingCollapsed": true,
    "slideshow": {
     "slide_type": ""
    },
    "tags": []
   },
   "source": [
    "### Answers 答案"
   ]
  },
  {
   "cell_type": "code",
   "execution_count": null,
   "id": "5d44a36d-a559-4543-8128-e36774bb1e1e",
   "metadata": {},
   "outputs": [],
   "source": [
    "age = -1\n",
    "\n",
    "while (age < 0 or age > 150): # 加上條件式\n",
    "    age = int(input(\"Input your age (0 - 150): \"))\n",
    "    \n",
    "print(\"You are \" + str(age) + \" year(s) old.\")"
   ]
  },
  {
   "cell_type": "code",
   "execution_count": null,
   "id": "ccabe77d-2423-4791-84ba-03fae237d7b4",
   "metadata": {},
   "outputs": [],
   "source": [
    "age = -1\n",
    "\n",
    "while not(age >= 0 and age <= 150): # 加上條件式\n",
    "    age = int(input(\"Input your age (0 - 150): \"))\n",
    "    \n",
    "print(\"You are \" + str(age) + \" year(s) old.\")"
   ]
  }
 ],
 "metadata": {
  "kernelspec": {
   "display_name": "Python 3 (ipykernel)",
   "language": "python",
   "name": "python3"
  },
  "language_info": {
   "codemirror_mode": {
    "name": "ipython",
    "version": 3
   },
   "file_extension": ".py",
   "mimetype": "text/x-python",
   "name": "python",
   "nbconvert_exporter": "python",
   "pygments_lexer": "ipython3",
   "version": "3.11.5"
  }
 },
 "nbformat": 4,
 "nbformat_minor": 5
}
