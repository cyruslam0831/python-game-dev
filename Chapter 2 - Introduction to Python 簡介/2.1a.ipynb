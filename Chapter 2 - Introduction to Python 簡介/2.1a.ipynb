{
 "cells": [
  {
   "cell_type": "markdown",
   "id": "8608761b-9b3c-4933-a1ba-b84d162c0f9e",
   "metadata": {},
   "source": [
    "# 2.1a 第一個 Python 程式\n",
    "<b><font color='orange'>[練習]</font></b> 試利用 `print()` 指令，編寫 Hello World! 程式："
   ]
  },
  {
   "cell_type": "code",
   "execution_count": null,
   "id": "44c26524-3753-4997-9e1a-cf811dc24b17",
   "metadata": {},
   "outputs": [],
   "source": []
  },
  {
   "cell_type": "markdown",
   "id": "d766d97a-4686-4303-be9e-8c33d73e4b3a",
   "metadata": {},
   "source": [
    "完成後，試更改成 Hello <你的名字>!"
   ]
  },
  {
   "cell_type": "markdown",
   "id": "0b162e27-cfff-4141-a528-ca27cec7058f",
   "metadata": {
    "editable": true,
    "jp-MarkdownHeadingCollapsed": true,
    "slideshow": {
     "slide_type": ""
    },
    "tags": []
   },
   "source": [
    "### Answers 答案"
   ]
  },
  {
   "cell_type": "code",
   "execution_count": 1,
   "id": "dc41fbb3-a245-43fe-a553-9e0590141782",
   "metadata": {},
   "outputs": [
    {
     "name": "stdout",
     "output_type": "stream",
     "text": [
      "Hello World!\n"
     ]
    }
   ],
   "source": [
    "print(\"Hello World!\")"
   ]
  }
 ],
 "metadata": {
  "kernelspec": {
   "display_name": "Python 3 (ipykernel)",
   "language": "python",
   "name": "python3"
  },
  "language_info": {
   "codemirror_mode": {
    "name": "ipython",
    "version": 3
   },
   "file_extension": ".py",
   "mimetype": "text/x-python",
   "name": "python",
   "nbconvert_exporter": "python",
   "pygments_lexer": "ipython3",
   "version": "3.11.5"
  }
 },
 "nbformat": 4,
 "nbformat_minor": 5
}
