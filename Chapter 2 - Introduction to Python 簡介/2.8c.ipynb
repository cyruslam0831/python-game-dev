{
 "cells": [
  {
   "cell_type": "markdown",
   "id": "82100661-92da-4624-81cc-a8dc9a715a1d",
   "metadata": {},
   "source": [
    "# 2.8c 作用域"
   ]
  },
  {
   "cell_type": "markdown",
   "id": "48039c99-8b8a-49db-9a04-d42669b6c3f0",
   "metadata": {},
   "source": [
    "[示範] 在函式外嘗試存取函式中的局部變量會引致錯誤："
   ]
  },
  {
   "cell_type": "code",
   "execution_count": 1,
   "id": "9b8cfc36-07d9-4ce9-bd43-73fb5eebb8e2",
   "metadata": {},
   "outputs": [
    {
     "name": "stdout",
     "output_type": "stream",
     "text": [
      "Local: Peter\n"
     ]
    },
    {
     "ename": "NameError",
     "evalue": "name 'name' is not defined",
     "output_type": "error",
     "traceback": [
      "\u001b[1;31m---------------------------------------------------------------------------\u001b[0m",
      "\u001b[1;31mNameError\u001b[0m                                 Traceback (most recent call last)",
      "Cell \u001b[1;32mIn[1], line 6\u001b[0m\n\u001b[0;32m      3\u001b[0m     \u001b[38;5;28mprint\u001b[39m(\u001b[38;5;124m\"\u001b[39m\u001b[38;5;124mLocal: \u001b[39m\u001b[38;5;124m\"\u001b[39m \u001b[38;5;241m+\u001b[39m name)\n\u001b[0;32m      5\u001b[0m hello()\n\u001b[1;32m----> 6\u001b[0m \u001b[38;5;28mprint\u001b[39m(\u001b[43mname\u001b[49m) \u001b[38;5;66;03m# 錯誤！\u001b[39;00m\n",
      "\u001b[1;31mNameError\u001b[0m: name 'name' is not defined"
     ]
    }
   ],
   "source": [
    "def hello():\n",
    "    name = \"Peter\"             # 局部變量: Peter\n",
    "    print(\"Local: \" + name)\n",
    "\n",
    "hello()\n",
    "print(name) # 錯誤！"
   ]
  },
  {
   "cell_type": "markdown",
   "id": "db1744d6-b3a8-4277-b788-8e73d6ab0e21",
   "metadata": {},
   "source": [
    "<hr>\n",
    "\n",
    "[示範] 使用 `global` 字眼可強行使函式中定義的變量成為全局變量，可從函式外存取："
   ]
  },
  {
   "cell_type": "code",
   "execution_count": 7,
   "id": "f492cfdd-da34-4fcd-b818-3f55bf184e41",
   "metadata": {},
   "outputs": [
    {
     "name": "stdout",
     "output_type": "stream",
     "text": [
      "Peter\n",
      "Local: Peter\n"
     ]
    }
   ],
   "source": [
    "def hello():\n",
    "    global name \n",
    "    name = \"Peter\"      # 強制全域變量: Peter\n",
    "    print(\"Local: \" + name)\n",
    "\n",
    "print(name) # 成功存取 name\n",
    "hello()"
   ]
  },
  {
   "cell_type": "markdown",
   "id": "ea52680a-b750-44c9-b672-fc2b57d88def",
   "metadata": {},
   "source": [
    "<hr>\n",
    "[示範] 當出現同一名稱的全局及局部變量時，函式內的局部變量優先："
   ]
  },
  {
   "cell_type": "code",
   "execution_count": 2,
   "id": "0a2c8a77-3c0b-45d5-a3e6-8589d13dee46",
   "metadata": {},
   "outputs": [
    {
     "name": "stdout",
     "output_type": "stream",
     "text": [
      "Local: Peter\n",
      "Global: Ben\n"
     ]
    }
   ],
   "source": [
    "name = \"Ben\"                   # 全域變量: Ben\n",
    "\n",
    "def hello():\n",
    "    name = \"Peter\"             # 局部變量: Peter\n",
    "    print(\"Local: \" + name)    # 局部 (Peter) > 全域 (Ben)\n",
    "    \n",
    "hello()\n",
    "print(\"Global: \" + name)       # 存取全域變量: Ben"
   ]
  }
 ],
 "metadata": {
  "kernelspec": {
   "display_name": "Python 3 (ipykernel)",
   "language": "python",
   "name": "python3"
  },
  "language_info": {
   "codemirror_mode": {
    "name": "ipython",
    "version": 3
   },
   "file_extension": ".py",
   "mimetype": "text/x-python",
   "name": "python",
   "nbconvert_exporter": "python",
   "pygments_lexer": "ipython3",
   "version": "3.11.5"
  }
 },
 "nbformat": 4,
 "nbformat_minor": 5
}
