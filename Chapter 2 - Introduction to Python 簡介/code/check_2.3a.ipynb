{
 "cells": [
  {
   "cell_type": "code",
   "execution_count": null,
   "id": "cceb116d-813f-4809-b71f-d3e50c86c5a6",
   "metadata": {},
   "outputs": [],
   "source": [
    "score = 0\n",
    "if isinstance(int_example, int):\n",
    "    print(\"[int]   正確！\")\n",
    "    score += 1\n",
    "else:\n",
    "    print(\"[int]   錯誤，再試一次！\")\n",
    "if isinstance(float_example, float):\n",
    "    print(\"[float] 正確！\")\n",
    "    score += 1\n",
    "else:\n",
    "    print(\"[float] 錯誤，再試一次！\")\n",
    "if isinstance(str_example, str):\n",
    "    print(\"[str]   正確！\")\n",
    "    score += 1\n",
    "else:\n",
    "    print(\"[str]   錯誤，再試一次！\")\n",
    "if isinstance(bool_example, bool):\n",
    "    print(\"[bool]  正確！\")\n",
    "    score += 1\n",
    "else:\n",
    "    print(\"[bool]  錯誤，再試一次！\")\n",
    "print(f\"=====\\n得分：{score}/4\")"
   ]
  }
 ],
 "metadata": {
  "kernelspec": {
   "display_name": "Python 3 (ipykernel)",
   "language": "python",
   "name": "python3"
  },
  "language_info": {
   "codemirror_mode": {
    "name": "ipython",
    "version": 3
   },
   "file_extension": ".py",
   "mimetype": "text/x-python",
   "name": "python",
   "nbconvert_exporter": "python",
   "pygments_lexer": "ipython3",
   "version": "3.11.5"
  }
 },
 "nbformat": 4,
 "nbformat_minor": 5
}
