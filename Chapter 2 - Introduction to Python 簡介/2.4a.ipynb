{
 "cells": [
  {
   "cell_type": "markdown",
   "id": "b96407fc-716e-42f6-9954-3bc011ac175d",
   "metadata": {},
   "source": [
    "# 2.4a 運算子"
   ]
  },
  {
   "cell_type": "markdown",
   "id": "d77b8977-dc99-4a43-96d5-6bdc38f71f98",
   "metadata": {},
   "source": [
    "## 算術運算子 Arithmetic Operators\n",
    "\n",
    "<b><font color='orange'>[練習]</font></b> 試完成以下程式碼，梯型面積：\n",
    "`(上底 + 下底) * 高 / 2`"
   ]
  },
  {
   "cell_type": "code",
   "execution_count": null,
   "id": "33373956-022d-426c-a5b1-74433bab997b",
   "metadata": {},
   "outputs": [],
   "source": [
    "upper_base = 5\n",
    "lower_base = 10\n",
    "height = 8\n",
    "\n",
    "area = \n",
    "# ^^^ 完成表達式\n",
    "\n",
    "print(area)"
   ]
  },
  {
   "cell_type": "markdown",
   "id": "d3bd40e8-6c6a-4f31-ae4a-e0bd9dcf8dfa",
   "metadata": {},
   "source": [
    "<hr>\n",
    "\n",
    "<b><font color='orange'>[練習]</font></b> (可選，中二級或以上) 試完成以下程式碼，計算一元二次方程 Quadratic Equation 的根：\n",
    "\n",
    "(提示：開方即 0.5 次方)\n",
    "\n",
    "$$ ax^2 + bx + c = 0\n",
    "$$\n",
    "\n",
    "$$x_1 = \\frac{-b+\\sqrt{b^2-4ac}}{2a}\n",
    "$$\n",
    "\n",
    "$$x_2 = \\frac{-b-\\sqrt{b^2-4ac}}{2a}\n",
    "$$"
   ]
  },
  {
   "cell_type": "code",
   "execution_count": null,
   "id": "855cc645-8528-4ab7-bc83-4224f2e1cb00",
   "metadata": {},
   "outputs": [],
   "source": [
    "print(\"ax^2 + bx + c = 0\")\n",
    "a = float(input(\"a = \"))\n",
    "b = float(input(\"b = \"))\n",
    "c = float(input(\"c = \"))\n",
    "\n",
    "root_1 = \n",
    "\n",
    "root_2 = \n",
    "\n",
    "print(\"x =\", root_1, \"or\", root_2)"
   ]
  },
  {
   "cell_type": "markdown",
   "id": "45142f58-3938-4d1a-bdbb-c3944a3a6b03",
   "metadata": {
    "editable": true,
    "jp-MarkdownHeadingCollapsed": true,
    "slideshow": {
     "slide_type": ""
    },
    "tags": []
   },
   "source": [
    "### Answers 答案"
   ]
  },
  {
   "cell_type": "code",
   "execution_count": null,
   "id": "92343547-79df-4938-8b16-cbe266630e2c",
   "metadata": {},
   "outputs": [],
   "source": [
    "upper_base = 5\n",
    "lower_base = 10\n",
    "height = 8\n",
    "\n",
    "area = (upper_base + lower_base) * height / 2\n",
    "\n",
    "print(area)"
   ]
  },
  {
   "cell_type": "code",
   "execution_count": null,
   "id": "11dc0867-63fb-4ecc-ae6d-c1e756b83bb9",
   "metadata": {},
   "outputs": [],
   "source": [
    "print(\"ax^2 + bx + c = 0\")\n",
    "a = float(input(\"a = \"))\n",
    "b = float(input(\"b = \"))\n",
    "c = float(input(\"c = \"))\n",
    "\n",
    "root_1 = (- b + (b ** 2 - 4 * a * c) ** 0.5) / (2 * a)\n",
    "\n",
    "root_2 = (- b - (b ** 2 - 4 * a * c) ** 0.5) / (2 * a)\n",
    "\n",
    "print(\"x =\", root_1, \"or\", root_2)"
   ]
  },
  {
   "cell_type": "markdown",
   "id": "219c2fc2-069c-46eb-a54b-d5788ef3302f",
   "metadata": {},
   "source": [
    "## 比較及邏輯運算子 Comparison and Logical Operators\n",
    "\n",
    "<b><font color='orange'>[練習]</font></b> 編寫一個程式，以達成以下目標：\n",
    "\n",
    "用戶先後會輸入兩個整數，而你需要將該兩個整數進行分析，並給出分析結果 (True / False)：\n",
    "\n",
    "條件如下：\n",
    "\r",
    "1. 兩個數字不相等\r",
    "2. 數字 1 在 1-100 之間\n",
    "4. 數字 2 是 5 的倍數\n",
    "\n",
    "程式輸出應為一個布爾值，代表是否所有條件成立 3 的倍數或都是 5 的倍數\n",
    "\n",
    "<hr>\n",
    "\n",
    "先取得用戶輸入 (已完成)："
   ]
  },
  {
   "cell_type": "code",
   "execution_count": 4,
   "id": "f789e10b-b52b-45c9-bf01-c123ef38cacf",
   "metadata": {},
   "outputs": [
    {
     "name": "stdin",
     "output_type": "stream",
     "text": [
      "Number 1:  9\n",
      "Number 2:  20\n"
     ]
    }
   ],
   "source": [
    "a = int(input(\"Number 1: \"))\n",
    "b = int(input(\"Number 2: \"))"
   ]
  },
  {
   "cell_type": "markdown",
   "id": "57e8786c-8a80-4b5a-8c90-7dbe14937d4c",
   "metadata": {},
   "source": [
    "<br>\n",
    "第一步：兩個數字不相等"
   ]
  },
  {
   "cell_type": "code",
   "execution_count": null,
   "id": "c8818341-96ee-4abb-8cfa-43d8e7875533",
   "metadata": {},
   "outputs": [],
   "source": [
    "rule1 = "
   ]
  },
  {
   "cell_type": "markdown",
   "id": "a3fb1465-0d8c-4549-8754-7ff9fa510829",
   "metadata": {},
   "source": [
    "<br>第二步：數字 1 在 1-100 之間"
   ]
  },
  {
   "cell_type": "code",
   "execution_count": null,
   "id": "380454d7-210f-4b67-a695-62ef5f2e6b20",
   "metadata": {},
   "outputs": [],
   "source": [
    "rule2 = "
   ]
  },
  {
   "cell_type": "markdown",
   "id": "0e08ca1b-c8f5-465a-a6aa-4fe26226ee52",
   "metadata": {},
   "source": [
    "<br>第三步：數字 2 是 5 的倍數 (提示：使用餘數)"
   ]
  },
  {
   "cell_type": "code",
   "execution_count": null,
   "id": "18e42c62-321b-4ef9-91ad-2f746e49af9e",
   "metadata": {},
   "outputs": [],
   "source": [
    "rule3 = "
   ]
  },
  {
   "cell_type": "markdown",
   "id": "66ee3950-f635-4737-aa39-dc65c88794a4",
   "metadata": {},
   "source": [
    "<br>最後一步：以上所有條件均符合"
   ]
  },
  {
   "cell_type": "code",
   "execution_count": null,
   "id": "2470a706-bf45-466b-baef-bfca03230cac",
   "metadata": {},
   "outputs": [],
   "source": [
    "result = \n",
    "print(result)"
   ]
  },
  {
   "cell_type": "markdown",
   "id": "006ff1a7-6d36-4a5e-a5b8-c32df07c94a7",
   "metadata": {
    "editable": true,
    "jp-MarkdownHeadingCollapsed": true,
    "slideshow": {
     "slide_type": ""
    },
    "tags": []
   },
   "source": [
    "### Answers 答案"
   ]
  },
  {
   "cell_type": "code",
   "execution_count": null,
   "id": "5ff314db-badf-4a8d-97a9-b59c3f0f6bfa",
   "metadata": {},
   "outputs": [],
   "source": [
    "a = int(input(\"Number 1: \"))\n",
    "b = int(input(\"Number 2: \"))\n",
    "\n",
    "#第一步\n",
    "rule1 = a != b\n",
    "\n",
    "#第二步\n",
    "rule2 =  a >= 1 and a <= 100\n",
    "\n",
    "#第三步\n",
    "rule3 = b % 5 == 0\n",
    "\n",
    "#最後一步\n",
    "result = rule1 and rule2 and rule3\n",
    "print(result)"
   ]
  }
 ],
 "metadata": {
  "kernelspec": {
   "display_name": "Python 3 (ipykernel)",
   "language": "python",
   "name": "python3"
  },
  "language_info": {
   "codemirror_mode": {
    "name": "ipython",
    "version": 3
   },
   "file_extension": ".py",
   "mimetype": "text/x-python",
   "name": "python",
   "nbconvert_exporter": "python",
   "pygments_lexer": "ipython3",
   "version": "3.11.5"
  }
 },
 "nbformat": 4,
 "nbformat_minor": 5
}
