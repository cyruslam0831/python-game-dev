{
 "cells": [
  {
   "cell_type": "markdown",
   "id": "8b3d6a22-cacd-4615-a399-45aa0a15426f",
   "metadata": {},
   "source": [
    "# 2.3b 資料類型轉換"
   ]
  },
  {
   "cell_type": "markdown",
   "id": "92d6e8a2-8e74-49cc-af9e-2e6b5346183e",
   "metadata": {},
   "source": [
    "[示範] 各種資料類型之間可以互相轉換，但只限於合理的情況："
   ]
  },
  {
   "cell_type": "markdown",
   "id": "11e4b877-aac7-49c6-a647-e18f88f83859",
   "metadata": {},
   "source": [
    "`int(float)` 浮點數轉換成整數，無視小數點後的數字："
   ]
  },
  {
   "cell_type": "code",
   "execution_count": null,
   "id": "b24c1b4b-8951-4476-b210-a9e14c6b158a",
   "metadata": {},
   "outputs": [],
   "source": [
    "int(3.14)"
   ]
  },
  {
   "cell_type": "markdown",
   "id": "a7c1a7b6-b65d-4b40-8130-787a6cc4e8dd",
   "metadata": {},
   "source": [
    "<hr>\n",
    "\n",
    "`int(str)` 只包含數字的字串轉換成整數："
   ]
  },
  {
   "cell_type": "code",
   "execution_count": null,
   "id": "8b935522-76d1-49b8-94d8-1539dc013306",
   "metadata": {},
   "outputs": [],
   "source": [
    "int(\"100\")"
   ]
  },
  {
   "cell_type": "markdown",
   "id": "d33f205d-b5da-487e-8203-7a2362fde638",
   "metadata": {},
   "source": [
    "但不可直接轉換有小數點的數字字串："
   ]
  },
  {
   "cell_type": "code",
   "execution_count": null,
   "id": "be8d5888-5b9e-401d-998f-7f555a37535d",
   "metadata": {},
   "outputs": [],
   "source": [
    "int(\"3.14\")"
   ]
  },
  {
   "cell_type": "markdown",
   "id": "22072e8d-91c3-4661-a977-4db8b3c65954",
   "metadata": {},
   "source": [
    "<hr>\n",
    "\n",
    "`float(int)` 將整數轉換成浮點數，即加上 `.0`："
   ]
  },
  {
   "cell_type": "code",
   "execution_count": null,
   "id": "55d4b0a3-b2f3-4268-9072-3b21e6b2db28",
   "metadata": {},
   "outputs": [],
   "source": [
    "float(-3)"
   ]
  },
  {
   "cell_type": "markdown",
   "id": "6bcfd07d-47e2-4e6a-9a20-2f528ab68353",
   "metadata": {},
   "source": [
    "\n",
    "`float(str)` 包含數字的字串轉換成浮點數："
   ]
  },
  {
   "cell_type": "code",
   "execution_count": null,
   "id": "f63c57ea-ba25-49c0-b3ca-165152f86e8e",
   "metadata": {},
   "outputs": [],
   "source": [
    "float(\"2.72\")"
   ]
  },
  {
   "cell_type": "markdown",
   "id": "74395974-88ad-492c-8a21-da0516ebed4d",
   "metadata": {},
   "source": [
    "<hr>\n",
    "\n",
    "`bool()` 將不同的資料類型以 **非0即True** 的規則轉換成布爾值："
   ]
  },
  {
   "cell_type": "code",
   "execution_count": null,
   "id": "a4b964d1-9712-4e7b-b43f-11466da04a53",
   "metadata": {},
   "outputs": [],
   "source": [
    "bool(3.14)"
   ]
  },
  {
   "cell_type": "code",
   "execution_count": null,
   "id": "01ae706a-20a9-4185-9a88-be0da8870188",
   "metadata": {},
   "outputs": [],
   "source": [
    "bool(\"\") # 空白字串才是字串的 0 "
   ]
  },
  {
   "cell_type": "code",
   "execution_count": null,
   "id": "edaf46f0-e5b5-42b2-9adc-4f15fd2d96bc",
   "metadata": {},
   "outputs": [],
   "source": [
    "bool(\"False\") # 空白字串才是字串的 0 "
   ]
  },
  {
   "cell_type": "code",
   "execution_count": null,
   "id": "1a8b76b4-09ea-4d51-a2a1-50a3f8d21bb8",
   "metadata": {},
   "outputs": [],
   "source": [
    "bool(0.0)"
   ]
  },
  {
   "cell_type": "markdown",
   "id": "cce986d2-f113-4c25-878b-d64bf5fea49f",
   "metadata": {},
   "source": [
    "<hr>\n",
    "\n",
    "其他情況都較不常用，可在下方儲存格自行嘗試："
   ]
  },
  {
   "cell_type": "code",
   "execution_count": null,
   "id": "9e60ed5e-a51c-4a03-ab97-b62b7d2b594d",
   "metadata": {},
   "outputs": [],
   "source": []
  }
 ],
 "metadata": {
  "kernelspec": {
   "display_name": "Python 3 (ipykernel)",
   "language": "python",
   "name": "python3"
  },
  "language_info": {
   "codemirror_mode": {
    "name": "ipython",
    "version": 3
   },
   "file_extension": ".py",
   "mimetype": "text/x-python",
   "name": "python",
   "nbconvert_exporter": "python",
   "pygments_lexer": "ipython3",
   "version": "3.11.5"
  }
 },
 "nbformat": 4,
 "nbformat_minor": 5
}
