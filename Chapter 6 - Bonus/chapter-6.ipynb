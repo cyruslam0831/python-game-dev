{
 "cells": [
  {
   "cell_type": "markdown",
   "id": "a03884f7-1b36-45e1-bc87-4fdab5f77be7",
   "metadata": {},
   "source": [
    "# Chapter 6 - Bonus"
   ]
  },
  {
   "cell_type": "markdown",
   "id": "570f3084-5764-4e93-baff-c50df52d3b80",
   "metadata": {},
   "source": [
    "In this chapter, we are going to modify our code to make changes to the game.<br>\n",
    "First, let's load all functions again first."
   ]
  },
  {
   "cell_type": "markdown",
   "id": "9411da26-a7be-4348-8c68-a96afe50fa9f",
   "metadata": {},
   "source": [
    "### Importing Pygame"
   ]
  },
  {
   "cell_type": "code",
   "execution_count": 2,
   "id": "e9a363c9-67b4-4030-a46e-28fe996a4980",
   "metadata": {},
   "outputs": [
    {
     "name": "stdout",
     "output_type": "stream",
     "text": [
      "Pygame imported!\n"
     ]
    }
   ],
   "source": [
    "import pygame\n",
    "pygame.init()\n",
    "print(\"Pygame imported!\")"
   ]
  },
  {
   "cell_type": "markdown",
   "id": "87353ce8-29fb-4746-ad76-16d3cacdc261",
   "metadata": {},
   "source": [
    "### `jump()`"
   ]
  },
  {
   "cell_type": "code",
   "execution_count": 3,
   "id": "649d51e1-6da6-46db-9e70-243a7bd6d54e",
   "metadata": {
    "editable": true,
    "slideshow": {
     "slide_type": ""
    },
    "tags": []
   },
   "outputs": [
    {
     "name": "stdout",
     "output_type": "stream",
     "text": [
      "jump() loaded!\n"
     ]
    }
   ],
   "source": [
    "def jump():\n",
    "    global bird_vel\n",
    "    bird_vel = -10   \n",
    "print(\"jump() loaded!\")"
   ]
  },
  {
   "cell_type": "markdown",
   "id": "e81de5f2-0bd1-4689-9a99-9b777212b87d",
   "metadata": {},
   "source": [
    "### `randomGap()`"
   ]
  },
  {
   "cell_type": "code",
   "execution_count": 4,
   "id": "42109df3-e975-4dc5-bfba-9f0ef59a9f3b",
   "metadata": {},
   "outputs": [
    {
     "name": "stdout",
     "output_type": "stream",
     "text": [
      "randomGap() loaded!\n"
     ]
    }
   ],
   "source": [
    "from random import *\n",
    "def randomGap():\n",
    "    return random() * 300 + 150   \n",
    "print(\"randomGap() loaded!\")"
   ]
  },
  {
   "cell_type": "markdown",
   "id": "77ebb654-cb6a-4186-a03e-11b6eb224538",
   "metadata": {},
   "source": [
    "### `gameReset()`"
   ]
  },
  {
   "cell_type": "code",
   "execution_count": 5,
   "id": "e4cc0bc2-32fb-4916-8b0f-5422d3adda45",
   "metadata": {
    "editable": true,
    "slideshow": {
     "slide_type": ""
    },
    "tags": []
   },
   "outputs": [
    {
     "name": "stdout",
     "output_type": "stream",
     "text": [
      "gameReset() loaded!\n"
     ]
    }
   ],
   "source": [
    "def gameReset():\n",
    "    global gameActive, isGameOver, bird_posy, bird_vel, score, distance, bird_surf, bg_surf, pipes, lastPipe, bird_rect, speed, bird_acc, score_surf, score_rect, score_text, pipeDistance, gap_width, normal_text, start_surf, start_rect\n",
    "    gameActive = isGameOver = False\n",
    "    bird_posy = 300\n",
    "    bird_vel = -10   \n",
    "    pipeDistance = 300   \n",
    "    gap_width = 250   \n",
    "    speed = 3  \n",
    "    bird_acc = 0.5   \n",
    "    score = distance = lastPipe = 0\n",
    "    score_text = pygame.font.Font(None, 100)\n",
    "    score_surf = score_text.render(str(score), True, \"Black\")\n",
    "    score_rect = score_surf.get_rect(center = (400, 50))\n",
    "    pipes = []\n",
    "    bird_surf = pygame.image.load('../graphics/bird.png')\n",
    "    bird_rect = bird_surf.get_rect(center = (60, 300))\n",
    "    bg_surf = pygame.image.load(\"../graphics/bg.png\")\n",
    "    normal_text = pygame.font.Font(None, 50) \n",
    "    start_surf = normal_text.render(\"Press [Space] to Start!\", True, \"Blue\")\n",
    "    start_rect = start_surf.get_rect(center = (400, 250))\n",
    "print(\"gameReset() loaded!\")"
   ]
  },
  {
   "cell_type": "markdown",
   "id": "5211b814-8dcf-4077-baa2-86d206603e43",
   "metadata": {},
   "source": [
    "### `gameOver()`"
   ]
  },
  {
   "cell_type": "code",
   "execution_count": 6,
   "id": "8b2c3dfd-4f68-47c1-aff8-ae7d78f0ff2f",
   "metadata": {
    "editable": true,
    "slideshow": {
     "slide_type": ""
    },
    "tags": []
   },
   "outputs": [
    {
     "name": "stdout",
     "output_type": "stream",
     "text": [
      "gameOver() loaded!\n"
     ]
    }
   ],
   "source": [
    "def gameOver():\n",
    "    global bird_vel, isGameOver, normal_text, lost_rect, lost_surf, scoreShow_rect, scoreShow_surf, glide, bird_surf, restart_rect, restart_surf\n",
    "    bird_vel = -10\n",
    "    isGameOver = True   \n",
    "    lost_surf = normal_text.render(\"Game Over...\", True, \"Red\")\n",
    "    lost_rect = lost_surf.get_rect(center = (400, 280))\n",
    "    scoreShow_surf = normal_text.render(f\"Your Score: {score}\", True, \"Red\")\n",
    "    scoreShow_rect = scoreShow_surf.get_rect(center = (400, 320))\n",
    "    bird_surf = pygame.image.load('../graphics/bird_dead.png')\n",
    "    restart_surf = normal_text.render(\"Press [R] to Play Again\", True, \"Blue\")\n",
    "    restart_rect = restart_surf.get_rect(center = (400, 400))\n",
    "print(\"gameOver() loaded!\")"
   ]
  },
  {
   "cell_type": "markdown",
   "id": "15937a3a-adad-425e-a942-3bd536db3aec",
   "metadata": {},
   "source": [
    "### CLass - `pipe_data()`"
   ]
  },
  {
   "cell_type": "code",
   "execution_count": 7,
   "id": "7f69272b-5a3a-4f9b-8be0-dbbfa744f870",
   "metadata": {},
   "outputs": [
    {
     "name": "stdout",
     "output_type": "stream",
     "text": [
      "pipe_data() loaded!\n"
     ]
    }
   ],
   "source": [
    "class pipe_data():\n",
    "    posx = 800\n",
    "    scored = False\n",
    "    \n",
    "    def __init__(self):\n",
    "        self.gap = randomGap()\n",
    "        self.lower_surf = pygame.image.load('../graphics/pipe.png')\n",
    "        self.upper_surf = pygame.transform.flip(pygame.image.load('../graphics/pipe.png'), False, True)\n",
    "        self.upper_rect = self.upper_surf.get_rect(bottomleft = (800, self.gap - gap_width / 2))\n",
    "        self.lower_rect = self.lower_surf.get_rect(topleft = (800, self.gap + gap_width / 2))\n",
    "        \n",
    "    def draw(self):\n",
    "        screen.blit(self.upper_surf, self.upper_rect)\n",
    "        screen.blit(self.lower_surf, self.lower_rect)\n",
    "\n",
    "print(\"pipe_data() loaded!\")"
   ]
  },
  {
   "cell_type": "markdown",
   "id": "caad65f2-79ea-4c82-8d99-a36b5c41a2e4",
   "metadata": {},
   "source": [
    "### Final Game"
   ]
  },
  {
   "cell_type": "code",
   "execution_count": 10,
   "id": "fd7d42bb-fc68-4ad8-b354-5eeba27da474",
   "metadata": {
    "editable": true,
    "scrolled": true,
    "slideshow": {
     "slide_type": ""
    },
    "tags": []
   },
   "outputs": [],
   "source": [
    "import pygame\n",
    "pygame.init()\n",
    "\n",
    "screen = pygame.display.set_mode((800, 600))\n",
    "running = True\n",
    "clock = pygame.time.Clock()\n",
    "\n",
    "gameReset()\n",
    "\n",
    "screen.blit(bird_surf, bird_rect)\n",
    "\n",
    "while running:\n",
    "    screen.blit(bg_surf, (0, 0))    \n",
    "    screen.blit(bird_surf, bird_rect)\n",
    "    \n",
    "    for event in pygame.event.get():\n",
    "        if event.type == pygame.QUIT:\n",
    "            running = False\n",
    "            \n",
    "        if event.type == pygame.KEYDOWN and event.key == pygame.K_SPACE and not isGameOver:\n",
    "            jump()\n",
    "                \n",
    "        if event.type == pygame.KEYDOWN and event.key == pygame.K_r:\n",
    "            gameReset()\n",
    "        else:\n",
    "            if event.type == pygame.KEYDOWN and event.key == pygame.K_SPACE:\n",
    "                gameActive = True\n",
    "\n",
    "    if gameActive:\n",
    "        \n",
    "        bird_vel += bird_acc\n",
    "        bird_posy += bird_vel\n",
    "        if bird_posy < 0:\n",
    "            bird_vel = bird_posy = 0\n",
    "        bird_rect.y = bird_posy\n",
    "\n",
    "        for current in pipes:\n",
    "            current.draw()\n",
    "        if not isGameOver:\n",
    "            for current in pipes:\n",
    "                current.posx -= speed\n",
    "                current.upper_rect.x = current.lower_rect.x = current.posx\n",
    "                if not current.scored and current.posx < 0:\n",
    "                    score += 1\n",
    "                    current.scored = True\n",
    "                \n",
    "                if current.posx < -60:\n",
    "                    pipes.remove(current)\n",
    "                    \n",
    "                if current.upper_rect.colliderect(bird_rect) or current.lower_rect.colliderect(bird_rect):\n",
    "                    gameOver()\n",
    "                    \n",
    "            if distance - lastPipe >= pipeDistance:\n",
    "                lastPipe = distance\n",
    "                pipes.append(pipe_data())\n",
    "                \n",
    "            distance += speed\n",
    "    \n",
    "            if bird_posy > 550:\n",
    "                gameOver()\n",
    "        else:\n",
    "            screen.blit(lost_surf, lost_rect)\n",
    "            screen.blit(scoreShow_surf, scoreShow_rect)\n",
    "            screen.blit(restart_surf, restart_rect)\n",
    "            speed = 0\n",
    "    else: \n",
    "        screen.blit(start_surf, start_rect)\n",
    "        \n",
    "    score_surf = score_text.render(str(score), 100, \"Black\")\n",
    "    score_rect = score_surf.get_rect(center = (400, 50))\n",
    "    screen.blit(score_surf, score_rect)\n",
    "    pygame.display.update()                 \n",
    "    clock.tick(60)                       \n",
    "    \n",
    "pygame.quit()"
   ]
  },
  {
   "cell_type": "markdown",
   "id": "bfc252c9-f459-4997-bd83-e03edfb259f0",
   "metadata": {},
   "source": [
    "## 6.1 Bonus I - Increasing Difficulty\n",
    "For now, the game is a little bit too easy.<br>\n",
    "Let's make it more challenging by making it progressionally faster!<br>\n",
    "In order words, the player moves faster everytime he/she scores.\n",
    "<hr>\n",
    "\n",
    "How fast the player moves is defined by the variable `speed`.<br>\n",
    "By increasing it, we can make it move faster!<br>\n",
    "Copy the following line and paste it at a suitable space in the final game to implement this feature:<br>\n",
    "```python\n",
    "speed += 0.1\n",
    "```\n",
    "If you want, you can also change how much the speed is increased every time the player scores.<br>\n",
    "Try again with larger values if you think the change is not significant!<br>\n",
    "```python\n",
    "speed += 1\n",
    "```\n",
    "To make it even more challenging, we can change it from addition, to multiplication:<br>\n",
    "```python\n",
    "speed *= 1.2\n",
    "```\n",
    "_For your information, the initial speed value is `3`_.\n"
   ]
  },
  {
   "cell_type": "markdown",
   "id": "d2785c19-fd83-4a89-a54d-8f5532aad2cd",
   "metadata": {},
   "source": [
    "## 6.2 Bonus II - Speedometer"
   ]
  },
  {
   "cell_type": "markdown",
   "id": "601e4404-f0f4-4c07-8d3e-7adee68cab08",
   "metadata": {},
   "source": [
    "Now that we have varying speed, let's add a speedometer to let the player know how fast he/she is going.<br>\n",
    "The following code creates and displays a speedometer in km/h with 1 decimal place in black with anti-aliasing.<br>\n",
    "Copy it and paste it at a suitable place:\n",
    "```python\n",
    "    speed_surf = normal_text.render(f\"{speed:.1f} km/h\", True, \"Black\")\n",
    "    speed_rect = speed_surf.get_rect(bottomright = (775, 575))\n",
    "    screen.blit(speed_surf, speed_rect)\n",
    "```\n",
    "You can either change the decimal places, the unit, the colour, anti-aliasing, or the position of the speedometer.<br>\n",
    "For example:\n",
    "```python\n",
    "    speed_surf = normal_text.render(f\"{speed:.2f} m/s\", False, \"Red\")\n",
    "    speed_rect = speed_surf.get_rect(topleft = (25, 25))\n",
    "    screen.blit(speed_surf, speed_rect)\n",
    "```"
   ]
  }
 ],
 "metadata": {
  "kernelspec": {
   "display_name": "Python 3 (ipykernel)",
   "language": "python",
   "name": "python3"
  },
  "language_info": {
   "codemirror_mode": {
    "name": "ipython",
    "version": 3
   },
   "file_extension": ".py",
   "mimetype": "text/x-python",
   "name": "python",
   "nbconvert_exporter": "python",
   "pygments_lexer": "ipython3",
   "version": "3.11.4"
  }
 },
 "nbformat": 4,
 "nbformat_minor": 5
}
