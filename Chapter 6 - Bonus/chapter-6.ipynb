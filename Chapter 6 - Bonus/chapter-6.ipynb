{
 "cells": [
  {
   "cell_type": "markdown",
   "id": "a03884f7-1b36-45e1-bc87-4fdab5f77be7",
   "metadata": {},
   "source": [
    "# Chapter 6 - Bonus"
   ]
  },
  {
   "cell_type": "markdown",
   "id": "570f3084-5764-4e93-baff-c50df52d3b80",
   "metadata": {},
   "source": [
    "In this chapter, we are going to modify our code to make changes to the game.<br>\n",
    "First, let's load all functions again first."
   ]
  },
  {
   "cell_type": "markdown",
   "id": "9411da26-a7be-4348-8c68-a96afe50fa9f",
   "metadata": {},
   "source": [
    "### Importing Pygame"
   ]
  },
  {
   "cell_type": "code",
   "execution_count": 1,
   "id": "e9a363c9-67b4-4030-a46e-28fe996a4980",
   "metadata": {},
   "outputs": [
    {
     "name": "stdout",
     "output_type": "stream",
     "text": [
      "pygame 2.4.0 (SDL 2.26.4, Python 3.11.4)\n",
      "Hello from the pygame community. https://www.pygame.org/contribute.html\n",
      "Pygame imported!\n"
     ]
    }
   ],
   "source": [
    "import pygame\n",
    "pygame.init()\n",
    "print(\"Pygame imported!\")"
   ]
  },
  {
   "cell_type": "markdown",
   "id": "87353ce8-29fb-4746-ad76-16d3cacdc261",
   "metadata": {},
   "source": [
    "### `jump()`"
   ]
  },
  {
   "cell_type": "code",
   "execution_count": null,
   "id": "649d51e1-6da6-46db-9e70-243a7bd6d54e",
   "metadata": {
    "editable": true,
    "slideshow": {
     "slide_type": ""
    },
    "tags": []
   },
   "outputs": [],
   "source": [
    "def jump():\n",
    "    global bird_vel\n",
    "    bird_vel = -10   #\n",
    "print(\"jump() loaded!\")"
   ]
  },
  {
   "cell_type": "markdown",
   "id": "e81de5f2-0bd1-4689-9a99-9b777212b87d",
   "metadata": {},
   "source": [
    "### `randomGap()`"
   ]
  },
  {
   "cell_type": "code",
   "execution_count": null,
   "id": "42109df3-e975-4dc5-bfba-9f0ef59a9f3b",
   "metadata": {},
   "outputs": [],
   "source": [
    "from random import *\n",
    "def randomGap():\n",
    "    return random() * 300 + 150   #\n",
    "print(\"randomGap() loaded!\")"
   ]
  },
  {
   "cell_type": "markdown",
   "id": "77ebb654-cb6a-4186-a03e-11b6eb224538",
   "metadata": {},
   "source": [
    "### `gameReset()`"
   ]
  },
  {
   "cell_type": "code",
   "execution_count": null,
   "id": "e4cc0bc2-32fb-4916-8b0f-5422d3adda45",
   "metadata": {
    "editable": true,
    "slideshow": {
     "slide_type": ""
    },
    "tags": []
   },
   "outputs": [],
   "source": [
    "def gameReset():\n",
    "    global gameActive, isGameOver, bird_posy, bird_vel, score, distance, bird_surf, pipes, lastPipe, bird_rect, speed, bird_acc, score_surf, score_rect, score_text, pipeDistance, gap_width, normal_text, start_surf, start_rect\n",
    "    gameActive = isGameOver = False\n",
    "    bird_posy = 300\n",
    "    bird_vel = -10   #\n",
    "    pipeDistance = 300   #\n",
    "    gap_width = 250   #\n",
    "    speed = 3   #\n",
    "    bird_acc = 0.5   #\n",
    "    score = distance = lastPipe = 0\n",
    "    score_text = pygame.font.Font(None, 100)\n",
    "    score_surf = score_text.render(str(score), True, \"Black\")\n",
    "    score_rect = score_surf.get_rect(center = (400, 50))\n",
    "    pipes = []\n",
    "    bird_surf = pygame.image.load('../graphics/bird.png')\n",
    "    bird_rect = bird_surf.get_rect(center = (60, 300))\n",
    "    normal_text = pygame.font.Font(None, 50) \n",
    "    start_surf = normal_text.render(\"Press [Space] to Start!\", True, \"Blue\")\n",
    "    start_rect = start_surf.get_rect(center = (400, 250))\n",
    "print(\"gameReset() loaded!\")"
   ]
  },
  {
   "cell_type": "markdown",
   "id": "5211b814-8dcf-4077-baa2-86d206603e43",
   "metadata": {},
   "source": [
    "### `gameOver()`"
   ]
  },
  {
   "cell_type": "code",
   "execution_count": null,
   "id": "8b2c3dfd-4f68-47c1-aff8-ae7d78f0ff2f",
   "metadata": {
    "editable": true,
    "slideshow": {
     "slide_type": ""
    },
    "tags": []
   },
   "outputs": [],
   "source": [
    "def gameOver():\n",
    "    global bird_vel, isGameOver, normal_text, lost_rect, lost_surf, scoreShow_rect, scoreShow_surf, glide, bird_surf, restart_rect, restart_surf\n",
    "    bird_vel = -10   #\n",
    "    isGameOver = True   #\n",
    "    lost_surf = normal_text.render(\"Game Over...\", True, \"Red\")\n",
    "    lost_rect = lost_surf.get_rect(center = (400, 280))\n",
    "    scoreShow_surf = normal_text.render(f\"Your Score: {score}\", True, \"Red\")\n",
    "    scoreShow_rect = scoreShow_surf.get_rect(center = (400, 320))\n",
    "    bird_surf = pygame.image.load('../graphics/bird_dead.png')\n",
    "    restart_surf = normal_text.render(\"Press [R] to Play Again\", True, \"Blue\")\n",
    "    restart_rect = restart_surf.get_rect(center = (400, 400))\n",
    "print(\"gameOver() loaded!\")"
   ]
  },
  {
   "cell_type": "markdown",
   "id": "15937a3a-adad-425e-a942-3bd536db3aec",
   "metadata": {},
   "source": [
    "### CLass - `pipe_data()`"
   ]
  },
  {
   "cell_type": "code",
   "execution_count": null,
   "id": "7f69272b-5a3a-4f9b-8be0-dbbfa744f870",
   "metadata": {},
   "outputs": [],
   "source": [
    "class pipe_data():\n",
    "    posx = 800\n",
    "    scored = False\n",
    "    \n",
    "    def __init__(self):\n",
    "        self.gap = randomGap()\n",
    "        self.lower_surf = pygame.image.load('../graphics/pipe.png')\n",
    "        self.upper_surf = pygame.transform.flip(pygame.image.load('../graphics/pipe.png'), False, True)\n",
    "        self.upper_rect = self.upper_surf.get_rect(bottomleft = (800, self.gap - gap_width / 2))\n",
    "        self.lower_rect = self.lower_surf.get_rect(topleft = (800, self.gap + gap_width / 2))\n",
    "        \n",
    "    def draw(self):\n",
    "        screen.blit(self.upper_surf, self.upper_rect)\n",
    "        screen.blit(self.lower_surf, self.lower_rect)\n",
    "\n",
    "print(\"pipe_data() loaded!\")"
   ]
  },
  {
   "cell_type": "markdown",
   "id": "caad65f2-79ea-4c82-8d99-a36b5c41a2e4",
   "metadata": {},
   "source": [
    "### Final Game"
   ]
  },
  {
   "cell_type": "code",
   "execution_count": null,
   "id": "fd7d42bb-fc68-4ad8-b354-5eeba27da474",
   "metadata": {
    "editable": true,
    "scrolled": true,
    "slideshow": {
     "slide_type": ""
    },
    "tags": []
   },
   "outputs": [],
   "source": [
    "import pygame\n",
    "pygame.init()\n",
    "\n",
    "screen = pygame.display.set_mode((800, 600))\n",
    "running = True\n",
    "clock = pygame.time.Clock()\n",
    "\n",
    "gameReset()\n",
    "\n",
    "screen.blit(bird_surf, bird_rect)\n",
    "\n",
    "while running:\n",
    "    screen.fill((255, 255, 255))      \n",
    "    screen.blit(bird_surf, bird_rect)\n",
    "    \n",
    "    for event in pygame.event.get():\n",
    "        if event.type == pygame.QUIT:\n",
    "            running = False\n",
    "            \n",
    "        if event.type == pygame.KEYDOWN and not isGameOver:\n",
    "            if event.key == pygame.K_SPACE:\n",
    "                jump()\n",
    "                \n",
    "        if event.type == pygame.KEYDOWN and event.key == pygame.K_r:\n",
    "            gameReset()\n",
    "        else:\n",
    "            if event.type == pygame.KEYDOWN and event.key == pygame.K_SPACE:\n",
    "                gameActive = True\n",
    "\n",
    "    if gameActive:\n",
    "        \n",
    "        bird_vel += bird_acc\n",
    "        bird_posy += bird_vel\n",
    "        \n",
    "        if bird_posy < 0:\n",
    "            bird_vel = bird_posy = 0\n",
    "        bird_rect.y = bird_posy\n",
    "\n",
    "        for current in pipes:\n",
    "            current.draw()\n",
    "        if not isGameOver:\n",
    "            for current in pipes:\n",
    "                current.posx -= speed\n",
    "                current.upper_rect.x = current.lower_rect.x = current.posx\n",
    "                if not current.scored and current.posx < 0:\n",
    "                    score += 1   #\n",
    "                    current.scored = True\n",
    "                \n",
    "                if current.posx < -60:\n",
    "                    pipes.remove(current)\n",
    "                    \n",
    "                if current.upper_rect.colliderect(bird_rect) or current.lower_rect.colliderect(bird_rect):\n",
    "                    gameOver()\n",
    "                    \n",
    "            if distance - lastPipe >= pipeDistance:\n",
    "                lastPipe = distance\n",
    "                pipes.append(pipe_data())\n",
    "                \n",
    "            distance += speed\n",
    "    \n",
    "            if bird_posy > 550:\n",
    "                gameOver()\n",
    "        else:\n",
    "            screen.blit(lost_surf, lost_rect)\n",
    "            screen.blit(scoreShow_surf, scoreShow_rect)\n",
    "            screen.blit(restart_surf, restart_rect)\n",
    "            speed = 0\n",
    "    else: \n",
    "        screen.blit(start_surf, start_rect)\n",
    "        \n",
    "    score_surf = score_text.render(str(score), 100, \"Black\")\n",
    "    score_rect = score_surf.get_rect(center = (400, 50))\n",
    "    screen.blit(score_surf, score_rect)\n",
    "    pygame.display.update()                 \n",
    "    clock.tick(60)   #                       \n",
    "    \n",
    "pygame.quit() "
   ]
  }
 ],
 "metadata": {
  "kernelspec": {
   "display_name": "Python 3 (ipykernel)",
   "language": "python",
   "name": "python3"
  },
  "language_info": {
   "codemirror_mode": {
    "name": "ipython",
    "version": 3
   },
   "file_extension": ".py",
   "mimetype": "text/x-python",
   "name": "python",
   "nbconvert_exporter": "python",
   "pygments_lexer": "ipython3",
   "version": "3.11.4"
  }
 },
 "nbformat": 4,
 "nbformat_minor": 5
}
