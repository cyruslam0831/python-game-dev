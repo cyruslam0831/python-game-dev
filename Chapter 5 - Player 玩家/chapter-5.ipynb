{
 "cells": [
  {
   "cell_type": "markdown",
   "id": "885a3590-cac2-4d25-b51c-9c9ff4767b09",
   "metadata": {},
   "source": [
    "# Chapter 5 - Player 玩家"
   ]
  },
  {
   "cell_type": "markdown",
   "id": "f98d5c69-1204-428a-9398-e407f5cfded1",
   "metadata": {
    "editable": true,
    "slideshow": {
     "slide_type": ""
    },
    "tags": []
   },
   "source": [
    "Import Pygame and Initiate the variables used in this chapter first!<br>\n",
    "\n",
    "先匯入 Pygame 及初始化本單元用到的變量！"
   ]
  },
  {
   "cell_type": "code",
   "execution_count": 1,
   "id": "4dfc6457-43c4-48d7-a54f-6c74c764fc76",
   "metadata": {
    "editable": true,
    "slideshow": {
     "slide_type": ""
    },
    "tags": []
   },
   "outputs": [
    {
     "name": "stdout",
     "output_type": "stream",
     "text": [
      "pygame 2.4.0 (SDL 2.26.4, Python 3.11.4)\n",
      "Hello from the pygame community. https://www.pygame.org/contribute.html\n"
     ]
    }
   ],
   "source": [
    "import pygame\n",
    "def gameReset():\n",
    "    global gameActive, isGameOver, bird_posy, bird_vel, score, distance, bird_surf, bg_surf, pipes, lastPipe, bird_rect, speed, bird_acc, score_surf, score_rect, score_text, pipeDistance, gap_width, normal_text, start_surf, start_rect\n",
    "    bird_surf = pygame.transform.scale(pygame.image.load('../graphics/bird.png'), (64, 64))                    \n",
    "    bird_rect = bird_surf.get_rect(center = (60, 300))                         \n",
    "    bg_surf = pygame.transform.scale(pygame.image.load(\"../graphics/bg.png\"), (800, 600))                          \n",
    "    normal_text = pygame.font.Font(None, 50)                                   \n",
    "    bird_acc = 0.5                                                             # Used in 用於 5.1\n",
    "    bird_posy = 300                                                            # Used in 用於 5.1\n",
    "    bird_vel = -10                                                             # Used in 用於 5.1 "
   ]
  },
  {
   "cell_type": "markdown",
   "id": "de328d20-b4ab-4faf-9b89-123bb9735cc8",
   "metadata": {
    "editable": true,
    "slideshow": {
     "slide_type": ""
    },
    "tags": []
   },
   "source": [
    "## 5.1 Gravity 重力"
   ]
  },
  {
   "cell_type": "markdown",
   "id": "1249de21-3824-418c-8ec8-1ee81568bbf2",
   "metadata": {
    "editable": true,
    "slideshow": {
     "slide_type": ""
    },
    "tags": []
   },
   "source": [
    "\n",
    "In chapter 4, we learnt how to move an image with constant speed.<br>\n",
    "In real life, free falling objects fall with increasing speed, i.e. with acceleration.<br>\n",
    "Accleration is a constant, and it descibes the rate of change of velocity.<br>\n",
    "\n",
    "在單元4中，我們學到了如何以不變的速度移動圖片。在現實生活中，物體會以不斷上升的速度跌落，即是有加速度。<BR>\n",
    "當中，加速度為常數，並表達了速率改變的速度。<BR>\n",
    "\n",
    "### $a = {Δv \\over Δt}$<br>\n",
    "### $v = {Δs \\over Δt}$\n",
    "\n",
    "~~No this is not a Physics lesson. 這不是物理課。~~<br>\n",
    "\n",
    "To replicate gravity, we can store the acceleration and the velocity of the player as variables.<br>\n",
    "\n",
    "要模仿出重力，我們可以將玩家的加速度和速率在變量中儲存起來。\n",
    "<hr>\n",
    "\n",
    "Note that **downwards** is **positive y** but not negative y, therefore, the acceleration should be a **positive** value.<BR>\n",
    "\n",
    "留意**向下**為**正Y**而非負Y，因此，加速度應為一個**正數**。"
   ]
  },
  {
   "cell_type": "markdown",
   "id": "169d7ac9-d017-403b-89ea-39b66ce442bc",
   "metadata": {
    "editable": true,
    "slideshow": {
     "slide_type": ""
    },
    "tags": []
   },
   "source": [
    "<hr>\n",
    "Now run the following code:<BR>\n",
    "\n",
    "現在執行以下程式碼："
   ]
  },
  {
   "cell_type": "code",
   "execution_count": 8,
   "id": "b0939a50-b846-4543-95d0-480853a7ef68",
   "metadata": {
    "editable": true,
    "slideshow": {
     "slide_type": ""
    },
    "tags": []
   },
   "outputs": [],
   "source": [
    "import pygame\n",
    "pygame.init()\n",
    "\n",
    "screen = pygame.display.set_mode((800, 600))\n",
    "running = True\n",
    "clock = pygame.time.Clock()\n",
    "gameReset()\n",
    "\n",
    "### Change the acceleration here ###\n",
    "\n",
    "bird_acc = 0.5\n",
    "\n",
    "########### 在此編輯加速度 ###########\n",
    "\n",
    "while running:\n",
    "    screen.blit(bg_surf, (0, 0))   \n",
    "    screen.blit(bird_surf, bird_rect)   \n",
    "    for event in pygame.event.get():\n",
    "        if event.type == pygame.QUIT:\n",
    "            running = False\n",
    "\n",
    "    ####################### Bird Physics #######################\n",
    "    \n",
    "    bird_vel += bird_acc\n",
    "    bird_posy += bird_vel\n",
    "    bird_rect.y = bird_posy\n",
    "\n",
    "    ########################## 物理 ##############################\n",
    " \n",
    "    pygame.display.update()                 \n",
    "    clock.tick(60)                          \n",
    "    \n",
    "pygame.quit() "
   ]
  },
  {
   "cell_type": "markdown",
   "id": "77fca727-4307-421f-8746-368d8e537669",
   "metadata": {
    "editable": true,
    "slideshow": {
     "slide_type": ""
    },
    "tags": []
   },
   "source": [
    "<hr>\n",
    "\n",
    "Now try to change the value of the acceleration, then run the above code again, and see what happens! (Default: 0.5)<BR>\n",
    "\n",
    "現在試改變加速度的數值，再執行以上程式碼，觀察有什麼不同！(預設：0.5)"
   ]
  },
  {
   "cell_type": "markdown",
   "id": "834eb36f-2b1c-4028-a9da-7a0f2c2cf3b2",
   "metadata": {
    "editable": true,
    "slideshow": {
     "slide_type": ""
    },
    "tags": []
   },
   "source": [
    "## 5.2 Jumping 跳躍"
   ]
  },
  {
   "cell_type": "markdown",
   "id": "a497bd72-bdb9-47b5-aeb1-b43d9186c7af",
   "metadata": {
    "editable": true,
    "slideshow": {
     "slide_type": ""
    },
    "tags": []
   },
   "source": [
    "To jump, the velocity should be set upwards, i.e. **negative y**.<br>\n",
    "Try to use `bird_vel` to complete the `jump()` function, and test it with different velocity values: **(10 min.)**<BR>\n",
    "\n",
    "要跳躍，就應有一個向上的速率，即**負Y**<BR>\n",
    "試使用 `bird_vel` 完成以下函數，並用不同的數值進行測試： **(10分鐘)**"
   ]
  },
  {
   "cell_type": "code",
   "execution_count": 11,
   "id": "f09c2b2c-6a17-48b0-8afa-f355de3c3e94",
   "metadata": {
    "editable": true,
    "slideshow": {
     "slide_type": ""
    },
    "tags": []
   },
   "outputs": [],
   "source": [
    "def jump():\n",
    "    global bird_vel\n",
    "    # Write the jump() function here 在此編寫 jump() 函數\n",
    "    "
   ]
  },
  {
   "cell_type": "markdown",
   "id": "2d8e52ec-fb33-4dcd-97d7-2d0d5aa6da73",
   "metadata": {},
   "source": [
    "Note: Suggested value is -10<BR>\n",
    "注意：建議值為 -10"
   ]
  },
  {
   "cell_type": "markdown",
   "id": "7bdfef34-c6d8-4d75-9777-ee4c990d2504",
   "metadata": {
    "editable": true,
    "slideshow": {
     "slide_type": ""
    },
    "tags": []
   },
   "source": [
    "<hr>\n",
    "\n",
    "The following code runs the `jump()` function when the `Space` button is pressed.<br>\n",
    "You may also try to change the acceleration together with the jumping velocity.<BR>\n",
    "After completing the `jump()` function, run the following code to test it out:<BR>\n",
    "\n",
    "在以下程式碼中，每當 `Space` 被按下，就會執行 `jump()` 函數。<BR>\n",
    "你亦可以嘗試將加速度與跳躍速率一同編緝。<BR>\n",
    "在完成 `jump()` 函數後，執行以下程式碼以進行測試："
   ]
  },
  {
   "cell_type": "code",
   "execution_count": 12,
   "id": "8b2f442a-62d8-4a53-99d1-1e1717094322",
   "metadata": {
    "editable": true,
    "slideshow": {
     "slide_type": ""
    },
    "tags": []
   },
   "outputs": [],
   "source": [
    "import pygame\n",
    "pygame.init()\n",
    "\n",
    "screen = pygame.display.set_mode((800, 600))\n",
    "running = True\n",
    "clock = pygame.time.Clock()\n",
    "gameReset()\n",
    "\n",
    "### Change the acceleration here ###\n",
    "\n",
    "bird_acc = 0.5\n",
    "\n",
    "########### 在此編輯加速度 ###########\n",
    "\n",
    "while running:\n",
    "    screen.blit(bg_surf, (0, 0))      \n",
    "    screen.blit(bird_surf, bird_rect)\n",
    "    for event in pygame.event.get():\n",
    "        if event.type == pygame.QUIT:\n",
    "            running = False\n",
    "        if event.type == pygame.KEYDOWN:\n",
    "            if event.key == pygame.K_SPACE:\n",
    "                jump() # Calls the jump function\n",
    "    \n",
    "    bird_vel += bird_acc\n",
    "    bird_posy += bird_vel    \n",
    "    ############################################################\n",
    "    # Add a conditional statement here 在此加上條件運算式\n",
    "    \n",
    "\n",
    "    ############################################################                   \n",
    "    bird_rect.y = bird_posy\n",
    "    pygame.display.update()                 \n",
    "    clock.tick(60)                          \n",
    "    \n",
    "pygame.quit() "
   ]
  },
  {
   "cell_type": "markdown",
   "id": "5ba005b8-1ce3-432a-b9c2-ce6f468f12f2",
   "metadata": {
    "editable": true,
    "slideshow": {
     "slide_type": ""
    },
    "tags": []
   },
   "source": [
    "Note that the bird can now fly beyond the boundaries of the window, which is not ideal.<br>\n",
    "This can be fixed by setting both the velocity (`bird_vel`) and y position (`bird_posy`) of the bird to 0 (top of the screen), whenever the y position is negative (out of the screen).<br>\n",
    "\n",
    "留意現在玩家可以飛出視窗邊界，而這並不是太好。<BR>\n",
    "我們可以透過在玩家的 Y 位置為負數時 (在視窗以外)，將速率 (`bird_vel`) 及 Y 位置 (`bird_posy`) 設為 0 (視窗頂部) ，以進行修復。<BR>\n",
    "<BR>\n",
    "Add a **conditional statement** to the code above, to implement this feature!<BR>\n",
    "\n",
    "在以上的程式碼新增一個**條件運算式**，以新增此功能！"
   ]
  },
  {
   "cell_type": "markdown",
   "id": "972e373d-90e7-4969-90fd-2cbb0a8601b9",
   "metadata": {
    "jp-MarkdownHeadingCollapsed": true
   },
   "source": [
    "### Answer 答案"
   ]
  },
  {
   "cell_type": "code",
   "execution_count": 3,
   "id": "a0372d52-793a-4d89-b5e2-4ce2763e96f3",
   "metadata": {},
   "outputs": [],
   "source": [
    "import pygame\n",
    "pygame.init()\n",
    "\n",
    "def jump():\n",
    "    global bird_vel\n",
    "    bird_vel = -10\n",
    "    \n",
    "screen = pygame.display.set_mode((800, 600))\n",
    "running = True\n",
    "clock = pygame.time.Clock()\n",
    "gameReset()\n",
    "\n",
    "while running:\n",
    "    screen.blit(bg_surf, (0, 0))      \n",
    "    screen.blit(bird_surf, bird_rect)\n",
    "    for event in pygame.event.get():\n",
    "        if event.type == pygame.QUIT:\n",
    "            running = False\n",
    "        if event.type == pygame.KEYDOWN:\n",
    "            if event.key == pygame.K_SPACE:\n",
    "                jump() # Calls the jump function\n",
    "    \n",
    "    bird_vel += bird_acc\n",
    "    bird_posy += bird_vel    \n",
    "    ############################################################\n",
    "    if bird_posy < 0:\n",
    "        bird_posy = 0\n",
    "        bird_vel = 0\n",
    "    ############################################################                   \n",
    "    bird_rect.y = bird_posy\n",
    "    pygame.display.update()                 \n",
    "    clock.tick(60)                          \n",
    "    \n",
    "pygame.quit() "
   ]
  },
  {
   "cell_type": "markdown",
   "id": "772ecfd9-f7c8-4b56-9669-be048f9b2f6e",
   "metadata": {},
   "source": [
    "#### Think about it 試想想\n",
    "Why do we need to set `bird_vel` to 0 as well?<BR>\n",
    "為什麼我們要把 `bird_vel` 也設為 0？"
   ]
  },
  {
   "cell_type": "markdown",
   "id": "8e861082-a81a-422d-a142-7d7a84b1cb1c",
   "metadata": {},
   "source": [
    "### Answer 答案"
   ]
  },
  {
   "cell_type": "code",
   "execution_count": null,
   "id": "6d08aaba-4689-431c-b8ce-01dfb55ce901",
   "metadata": {},
   "outputs": [],
   "source": [
    "import pygame\n",
    "pygame.init()\n",
    "\n",
    "screen = pygame.display.set_mode((800, 600))\n",
    "running = True\n",
    "clock = pygame.time.Clock()\n",
    "\n",
    "gameReset()\n",
    "\n",
    "screen.blit(bird_surf, bird_rect)\n",
    "\n",
    "while running:\n",
    "    screen.blit(bg_surf, (0, 0))     \n",
    "    screen.blit(bird_surf, bird_rect)\n",
    "    \n",
    "    for event in pygame.event.get():\n",
    "        if event.type == pygame.QUIT:\n",
    "            running = False\n",
    "            \n",
    "        if event.type == pygame.KEYDOWN and event.key == pygame.K_SPACE and not isGameOver:\n",
    "            jump()\n",
    "\n",
    "    bird_vel += bird_acc\n",
    "    bird_posy += bird_vel\n",
    "    \n",
    "    if bird_posy < 0:\n",
    "        bird_vel = bird_posy = 0\n",
    "    bird_rect.y = bird_posy\n",
    "\n",
    "    for current in pipes:\n",
    "        current.draw()\n",
    "    if not isGameOver:\n",
    "        for current in pipes:\n",
    "            current.posx -= speed\n",
    "            current.upper_rect.x = current.lower_rect.x = current.posx\n",
    "            if not current.scored and current.posx < 0:\n",
    "                score += 1   \n",
    "                current.scored = True\n",
    "            \n",
    "            if current.posx < -60:\n",
    "                pipes.remove(current)\n",
    "                \n",
    "            if current.upper_rect.colliderect(bird_rect) or current.lower_rect.colliderect(bird_rect):\n",
    "                gameOver()\n",
    "                \n",
    "        if distance - lastPipe >= pipeDistance:\n",
    "            lastPipe = distance\n",
    "            pipes.append(pipe_data())\n",
    "            \n",
    "        distance += speed\n",
    "\n",
    "        if bird_posy > 550: # or any other reasonable answers 或其他合理答案\n",
    "            gameOver()\n",
    "    else:\n",
    "        screen.blit(lost_surf, lost_rect)\n",
    "        speed = 0\n",
    "        \n",
    "    score_surf = score_text.render(str(score), 100, \"Black\")\n",
    "    score_rect = score_surf.get_rect(center = (400, 50))\n",
    "    screen.blit(score_surf, score_rect)\n",
    "    pygame.display.update()                 \n",
    "    clock.tick(60)                       \n",
    "    \n",
    "pygame.quit() "
   ]
  },
  {
   "cell_type": "markdown",
   "id": "3e525bc8-ca4f-4a1d-886c-691750495be9",
   "metadata": {},
   "source": [
    "### Importing Pygame 匯入 Pygame"
   ]
  },
  {
   "cell_type": "code",
   "execution_count": null,
   "id": "27cb093b-f1d8-4355-875c-ae413461a342",
   "metadata": {},
   "outputs": [],
   "source": [
    "import pygame\n",
    "print(\"Pygame imported!\")"
   ]
  },
  {
   "cell_type": "markdown",
   "id": "4f01dffb-aeba-4edb-ad6f-864a26e13a48",
   "metadata": {},
   "source": [
    "<hr>\n",
    "\n",
    "### `jump()`\n",
    "#### What it does 功能\n",
    "Give the player an upward velocity<BR>\n",
    "為玩家提供上升速率\n",
    "\n",
    "#### When it is activated 觸發\n",
    "When `Space` is pressed<BR>\n",
    "當 `Space` 被按下\n",
    "\n",
    "#### Return value 傳回\n",
    "None 無\n",
    "\n",
    "#### Code 程式碼"
   ]
  },
  {
   "cell_type": "code",
   "execution_count": null,
   "id": "9aeebde0-809a-448c-9bb6-4907ae668a36",
   "metadata": {
    "editable": true,
    "slideshow": {
     "slide_type": ""
    },
    "tags": []
   },
   "outputs": [],
   "source": [
    "def jump():\n",
    "    global bird_vel\n",
    "    bird_vel = -10   #\n",
    "print(\"jump() loaded!\")"
   ]
  },
  {
   "cell_type": "markdown",
   "id": "97bf789b-a2e4-4a07-9d0d-7eebddfe5990",
   "metadata": {},
   "source": [
    "<hr>\n",
    "\n",
    "### `randomGap()`\n",
    "#### What it does 功能\n",
    "Generate a random number from 150 to 450<BR>\n",
    "產生一個150至450之間的隨機值\n",
    "\n",
    "#### When it is activated  觸發\n",
    "When a pipe is created<BR>\n",
    "當水管被生成時\n",
    "\n",
    "#### Return value 傳回\n",
    "The random number generated<BR>\n",
    "產生出來的隨機數\n",
    "\n",
    "#### Code 程式碼"
   ]
  },
  {
   "cell_type": "code",
   "execution_count": null,
   "id": "c53f81f2-65f4-448d-bfc9-cca7291c881a",
   "metadata": {},
   "outputs": [],
   "source": [
    "from random import *\n",
    "def randomGap():\n",
    "    return random() * 300 + 150   #\n",
    "print(\"randomGap() loaded!\")"
   ]
  },
  {
   "cell_type": "markdown",
   "id": "2778d38b-8a6f-4ba1-95f2-02ddb5ee4e2d",
   "metadata": {},
   "source": [
    "<hr>\n",
    "\n",
    "### `gameReset()`\n",
    "#### What it does 功能\n",
    "Initiate the variables and show \"Press \\[Space] to Start!\"<BR>\n",
    "初始化變量並顯示 \"Press \\[Space] to Start!\"\n",
    "\n",
    "#### When it is activated 觸發\n",
    "When a new game is started<BR>\n",
    "遊戲開始時\n",
    "\n",
    "#### Return value 傳回\n",
    "None 無\n",
    "\n",
    "#### Code 程式碼"
   ]
  },
  {
   "cell_type": "code",
   "execution_count": null,
   "id": "438705ce-7c70-4779-9484-3209f03b59a6",
   "metadata": {
    "editable": true,
    "slideshow": {
     "slide_type": ""
    },
    "tags": []
   },
   "outputs": [],
   "source": [
    "def gameReset():\n",
    "    global gameActive, isGameOver, bird_posy, bird_vel, score, distance, bird_surf, bg_surf, pipes, lastPipe, bird_rect, speed, bird_acc, score_surf, score_rect, score_text, pipeDistance, gap_width, normal_text, start_surf, start_rect\n",
    "    gameActive = isGameOver = False\n",
    "    bird_posy = 300\n",
    "    bird_vel = -10   #\n",
    "    pipeDistance = 300   #\n",
    "    gap_width = 250   #\n",
    "    speed = 3   #\n",
    "    bird_acc = 0.5   #\n",
    "    score = distance = lastPipe = 0\n",
    "    score_text = pygame.font.Font(None, 100)\n",
    "    score_surf = score_text.render(str(score), True, \"Black\")\n",
    "    score_rect = score_surf.get_rect(center = (400, 50))\n",
    "    pipes = []\n",
    "    bird_surf = pygame.image.load('../graphics/bird.png')\n",
    "    bird_rect = bird_surf.get_rect(center = (60, 300))\n",
    "    bg_surf = pygame.image.load(\"../graphics/bg.png\")\n",
    "    normal_text = pygame.font.Font(None, 50) \n",
    "    start_surf = normal_text.render(\"Press [Space] to Start!\", True, \"Blue\")\n",
    "    start_rect = start_surf.get_rect(center = (400, 250))\n",
    "print(\"gameReset() loaded!\")"
   ]
  },
  {
   "cell_type": "markdown",
   "id": "d0785e2f-5fb6-455c-8a51-306e5c9eb2fb",
   "metadata": {},
   "source": [
    "<hr>\n",
    "\n",
    "### `gameOver()`\n",
    "#### What it does 功能\n",
    "* Stop pipe movement 停止水管移動\n",
    "* Block player control 封鎖玩家控制\n",
    "* Bounce the player 將玩家彈起\n",
    "* Show the final score and \"Press \\[R] to Play Again\" 顯示最終成績及 \"Press \\[R] to Play Again\"\n",
    "\n",
    "#### When it is activated 觸發\n",
    "When the y-position of the player exceeds 550 or the player collides with the pipes<BR>\n",
    "當玩家的 Y 位置超過 550，或玩家與水管碰撞\n",
    "\n",
    "#### Return value 傳回\n",
    "None 無\n",
    "\n",
    "#### Code 程式碼"
   ]
  },
  {
   "cell_type": "code",
   "execution_count": null,
   "id": "3f922fa4-e299-4b02-bfac-b7fbc0a6e8e4",
   "metadata": {
    "editable": true,
    "slideshow": {
     "slide_type": ""
    },
    "tags": []
   },
   "outputs": [],
   "source": [
    "def gameOver():\n",
    "    global bird_vel, isGameOver, normal_text, lost_rect, lost_surf, scoreShow_rect, scoreShow_surf, glide, bird_surf, restart_rect, restart_surf\n",
    "    bird_vel = -10   #\n",
    "    isGameOver = True   #\n",
    "    lost_surf = normal_text.render(\"Game Over...\", True, \"Red\")\n",
    "    lost_rect = lost_surf.get_rect(center = (400, 280))\n",
    "    scoreShow_surf = normal_text.render(f\"Your Score: {score}\", True, \"Red\")\n",
    "    scoreShow_rect = scoreShow_surf.get_rect(center = (400, 320))\n",
    "    bird_surf = pygame.image.load('../graphics/bird_dead.png')\n",
    "    restart_surf = normal_text.render(\"Press [R] to Play Again\", True, \"Blue\")\n",
    "    restart_rect = restart_surf.get_rect(center = (400, 400))\n",
    "print(\"gameOver() loaded!\")"
   ]
  },
  {
   "cell_type": "markdown",
   "id": "38003efb-9bc2-47f5-a94f-c0e1a77988af",
   "metadata": {},
   "source": [
    "<hr>\n",
    "\n",
    "### `pipe_data()` (Class)\n",
    "#### What it does 功能\n",
    "* Generate a new pipe 生成新水管 (`__init__(self)`)\n",
    "* Draw the pipes 繪製所水管 (`draw(self)`)\n",
    "#### When it is activated 觸發\n",
    "* `__init(self)__`: When a new pipe has to be generated 當需生成新水管時\n",
    "* `draw(self)`: Always 永遠\n",
    "\n",
    "#### Return vlue 傳回\n",
    "None 無\n",
    "\n",
    "#### Code 程式碼"
   ]
  },
  {
   "cell_type": "code",
   "execution_count": null,
   "id": "7657a5c3-d172-48e0-abf6-ecd8bef20935",
   "metadata": {},
   "outputs": [],
   "source": [
    "class pipe_data():\n",
    "    scored = False\n",
    "    \n",
    "    def __init__(self, x = 800):\n",
    "        self.posx = x\n",
    "        self.gap = randomGap()\n",
    "        self.lower_surf = pygame.image.load('../graphics/pipe.png')\n",
    "        self.upper_surf = pygame.transform.flip(pygame.image.load('../graphics/pipe.png'), False, True)\n",
    "        self.upper_rect = self.upper_surf.get_rect(bottomleft = (800, self.gap - gap_width / 2))\n",
    "        self.lower_rect = self.lower_surf.get_rect(topleft = (800, self.gap + gap_width / 2))\n",
    "        \n",
    "    def draw(self):\n",
    "        screen.blit(self.upper_surf, self.upper_rect)\n",
    "        screen.blit(self.lower_surf, self.lower_rect)\n",
    "\n",
    "print(\"pipe_data() loaded!\")"
   ]
  },
  {
   "cell_type": "markdown",
   "id": "4182c31a-e541-4e0f-bcc2-c9b90a08b090",
   "metadata": {},
   "source": [
    "<hr>\n",
    "\n",
    "### Main Game 主遊戲"
   ]
  },
  {
   "cell_type": "code",
   "execution_count": null,
   "id": "a7a7ca60-ee55-4f48-b00b-93dcc09f4821",
   "metadata": {
    "editable": true,
    "scrolled": true,
    "slideshow": {
     "slide_type": ""
    },
    "tags": []
   },
   "outputs": [],
   "source": [
    "import pygame\n",
    "pygame.init()\n",
    "\n",
    "screen = pygame.display.set_mode((800, 600))\n",
    "running = True\n",
    "clock = pygame.time.Clock()\n",
    "\n",
    "gameReset()\n",
    "\n",
    "screen.blit(bird_surf, bird_rect)\n",
    "\n",
    "while running:\n",
    "    screen.blit(bg_surf, (0, 0))     \n",
    "    screen.blit(bird_surf, bird_rect)\n",
    "    \n",
    "    for event in pygame.event.get():\n",
    "        if event.type == pygame.QUIT:\n",
    "            running = False\n",
    "            \n",
    "        if event.type == pygame.KEYDOWN and event.key == pygame.K_SPACE and not isGameOver:\n",
    "            jump()\n",
    "                \n",
    "        if event.type == pygame.KEYDOWN and event.key == pygame.K_r:\n",
    "            gameReset()\n",
    "        else:\n",
    "            if event.type == pygame.KEYDOWN and event.key == pygame.K_SPACE:\n",
    "                gameActive = True\n",
    "\n",
    "    if gameActive:\n",
    "        \n",
    "        bird_vel += bird_acc\n",
    "        bird_posy += bird_vel\n",
    "        \n",
    "        if bird_posy < 0:\n",
    "            bird_vel = bird_posy = 0\n",
    "        bird_rect.y = bird_posy\n",
    "\n",
    "        for current in pipes:\n",
    "            current.draw()\n",
    "        if not isGameOver:\n",
    "            for current in pipes:\n",
    "                current.posx -= speed\n",
    "                current.upper_rect.x = current.lower_rect.x = current.posx\n",
    "                if not current.scored and current.posx < 0:\n",
    "                    score += 1   #\n",
    "                    current.scored = True\n",
    "                \n",
    "                if current.posx < -60:\n",
    "                    pipes.remove(current)\n",
    "                    \n",
    "                if current.upper_rect.colliderect(bird_rect) or current.lower_rect.colliderect(bird_rect):\n",
    "                    gameOver()\n",
    "                    \n",
    "            if distance - lastPipe >= pipeDistance:\n",
    "                lastPipe = distance\n",
    "                pipes.append(pipe_data())\n",
    "                \n",
    "            distance += speed\n",
    "    \n",
    "            if bird_posy > 550:\n",
    "                gameOver()\n",
    "        else:\n",
    "            screen.blit(lost_surf, lost_rect)\n",
    "            screen.blit(scoreShow_surf, scoreShow_rect)\n",
    "            screen.blit(restart_surf, restart_rect)\n",
    "            speed = 0\n",
    "    else: \n",
    "        screen.blit(start_surf, start_rect)\n",
    "        \n",
    "    score_surf = score_text.render(str(score), 100, \"Black\")\n",
    "    score_rect = score_surf.get_rect(center = (400, 50))\n",
    "    screen.blit(score_surf, score_rect)\n",
    "    pygame.display.update()                 \n",
    "    clock.tick(60)   #                       \n",
    "    \n",
    "pygame.quit() "
   ]
  }
 ],
 "metadata": {
  "kernelspec": {
   "display_name": "Python 3 (ipykernel)",
   "language": "python",
   "name": "python3"
  },
  "language_info": {
   "codemirror_mode": {
    "name": "ipython",
    "version": 3
   },
   "file_extension": ".py",
   "mimetype": "text/x-python",
   "name": "python",
   "nbconvert_exporter": "python",
   "pygments_lexer": "ipython3",
   "version": "3.11.4"
  }
 },
 "nbformat": 4,
 "nbformat_minor": 5
}
