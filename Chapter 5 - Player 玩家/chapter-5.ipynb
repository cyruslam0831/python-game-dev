{
 "cells": [
  {
   "cell_type": "markdown",
   "id": "885a3590-cac2-4d25-b51c-9c9ff4767b09",
   "metadata": {},
   "source": [
    "# Chapter 5 - Player 玩家"
   ]
  },
  {
   "cell_type": "markdown",
   "id": "f98d5c69-1204-428a-9398-e407f5cfded1",
   "metadata": {
    "editable": true,
    "slideshow": {
     "slide_type": ""
    },
    "tags": []
   },
   "source": [
    "Import Pygame and Initiate the variables used in this chapter first!<br>\n",
    "\n",
    "先匯入 Pygame 及初始化本單元用到的變量！"
   ]
  },
  {
   "cell_type": "code",
   "execution_count": 5,
   "id": "4dfc6457-43c4-48d7-a54f-6c74c764fc76",
   "metadata": {
    "editable": true,
    "slideshow": {
     "slide_type": ""
    },
    "tags": []
   },
   "outputs": [],
   "source": [
    "import pygame\n",
    "def gameReset():\n",
    "    global gameActive, isGameOver, bird_posy, bird_vel, score, distance, bird_surf, bg_surf, pipes, lastPipe, bird_rect, speed, bird_acc, score_surf, score_rect, score_text, pipeDistance, gap_width, normal_text, start_surf, start_rect\n",
    "    bird_surf = pygame.transform.scale(pygame.image.load('../graphics/bird.png'), (64, 64))                    \n",
    "    bird_rect = bird_surf.get_rect(center = (60, 300))                         \n",
    "    bg_surf = pygame.transform.scale(pygame.image.load(\"../graphics/bg.png\"), (800, 600))                          \n",
    "    normal_text = pygame.font.Font(None, 50)                                   \n",
    "    bird_acc = 0.5                                                             # Used in 用於 5.1\n",
    "    bird_posy = 300                                                            # Used in 用於 5.1\n",
    "    bird_vel = -10                                                             # Used in 用於 5.1 "
   ]
  },
  {
   "cell_type": "markdown",
   "id": "de328d20-b4ab-4faf-9b89-123bb9735cc8",
   "metadata": {
    "editable": true,
    "slideshow": {
     "slide_type": ""
    },
    "tags": []
   },
   "source": [
    "## 5.1 Gravity 重力"
   ]
  },
  {
   "cell_type": "markdown",
   "id": "1249de21-3824-418c-8ec8-1ee81568bbf2",
   "metadata": {
    "editable": true,
    "slideshow": {
     "slide_type": ""
    },
    "tags": []
   },
   "source": [
    "\n",
    "In chapter 4, we learnt how to move an image with constant speed.<br>\n",
    "In real life, free falling objects fall with increasing speed, i.e. with acceleration.<br>\n",
    "Accleration is a constant, and it descibes the rate of change of velocity.<br>\n",
    "\n",
    "在單元4中，我們學到了如何以不變的速度移動圖片。在現實生活中，物體會以不斷上升的速度跌落，即是有加速度。<BR>\n",
    "當中，加速度為常數，並表達了速率改變的速度。<BR>\n",
    "\n",
    "### $a = {Δv \\over Δt}$<br>\n",
    "### $v = {Δs \\over Δt}$\n",
    "\n",
    "~~No this is not a Physics lesson. 這不是物理課。~~<br>\n",
    "\n",
    "To replicate gravity, we can store the acceleration and the velocity of the player as variables.<br>\n",
    "\n",
    "要模仿出重力，我們可以將玩家的加速度和速率在變量中儲存起來。\n",
    "<hr>\n",
    "\n",
    "Note that **downwards** is **positive y** but not negative y, therefore, the acceleration should be a **positive** value.<BR>\n",
    "\n",
    "留意**向下**為**正Y**而非負Y，因此，加速度應為一個**正數**。"
   ]
  },
  {
   "cell_type": "markdown",
   "id": "169d7ac9-d017-403b-89ea-39b66ce442bc",
   "metadata": {
    "editable": true,
    "slideshow": {
     "slide_type": ""
    },
    "tags": []
   },
   "source": [
    "<hr>\n",
    "Now run the following code:<BR>\n",
    "\n",
    "現在執行以下程式碼："
   ]
  },
  {
   "cell_type": "code",
   "execution_count": 8,
   "id": "b0939a50-b846-4543-95d0-480853a7ef68",
   "metadata": {
    "editable": true,
    "slideshow": {
     "slide_type": ""
    },
    "tags": []
   },
   "outputs": [],
   "source": [
    "import pygame\n",
    "pygame.init()\n",
    "\n",
    "screen = pygame.display.set_mode((800, 600))\n",
    "running = True\n",
    "clock = pygame.time.Clock()\n",
    "gameReset()\n",
    "\n",
    "### Change the acceleration here ###\n",
    "\n",
    "bird_acc = 0.5\n",
    "\n",
    "########### 在此編輯加速度 ###########\n",
    "\n",
    "while running:\n",
    "    screen.blit(bg_surf, (0, 0))   \n",
    "    screen.blit(bird_surf, bird_rect)   \n",
    "    for event in pygame.event.get():\n",
    "        if event.type == pygame.QUIT:\n",
    "            running = False\n",
    "\n",
    "    ####################### Bird Physics #######################\n",
    "    \n",
    "    bird_vel += bird_acc\n",
    "    bird_posy += bird_vel\n",
    "    bird_rect.y = bird_posy\n",
    "\n",
    "    ########################## 物理 ##############################\n",
    " \n",
    "    pygame.display.update()                 \n",
    "    clock.tick(60)                          \n",
    "    \n",
    "pygame.quit() "
   ]
  },
  {
   "cell_type": "markdown",
   "id": "77fca727-4307-421f-8746-368d8e537669",
   "metadata": {
    "editable": true,
    "slideshow": {
     "slide_type": ""
    },
    "tags": []
   },
   "source": [
    "<hr>\n",
    "\n",
    "Now try to change the value of the acceleration, then run the above code again, and see what happens! (Default: 0.5)<BR>\n",
    "\n",
    "現在試改變加速度的數值，再執行以上程式碼，觀察有什麼不同！(預設：0.5)"
   ]
  },
  {
   "cell_type": "markdown",
   "id": "834eb36f-2b1c-4028-a9da-7a0f2c2cf3b2",
   "metadata": {
    "editable": true,
    "slideshow": {
     "slide_type": ""
    },
    "tags": []
   },
   "source": [
    "## 5.2 Jumping 跳躍"
   ]
  },
  {
   "cell_type": "markdown",
   "id": "a497bd72-bdb9-47b5-aeb1-b43d9186c7af",
   "metadata": {
    "editable": true,
    "slideshow": {
     "slide_type": ""
    },
    "tags": []
   },
   "source": [
    "To jump, the velocity should be set upwards, i.e. **negative y**.<br>\n",
    "Try to use `bird_vel` to complete the `jump()` function, and test it with different velocity values: **(10 min.)**<BR>\n",
    "\n",
    "要跳躍，就應有一個向上的速率，即**負Y**<BR>\n",
    "試使用 `bird_vel` 完成以下函數，並用不同的數值進行測試： **(10分鐘)**"
   ]
  },
  {
   "cell_type": "code",
   "execution_count": 11,
   "id": "f09c2b2c-6a17-48b0-8afa-f355de3c3e94",
   "metadata": {
    "editable": true,
    "slideshow": {
     "slide_type": ""
    },
    "tags": []
   },
   "outputs": [],
   "source": [
    "def jump():\n",
    "    global bird_vel\n",
    "    # Write the jump() function here 在此編寫 jump() 函數\n",
    "    "
   ]
  },
  {
   "cell_type": "markdown",
   "id": "2d8e52ec-fb33-4dcd-97d7-2d0d5aa6da73",
   "metadata": {},
   "source": [
    "Note: Suggested value is -10<BR>\n",
    "注意：建議值為 -10"
   ]
  },
  {
   "cell_type": "markdown",
   "id": "7bdfef34-c6d8-4d75-9777-ee4c990d2504",
   "metadata": {
    "editable": true,
    "slideshow": {
     "slide_type": ""
    },
    "tags": []
   },
   "source": [
    "<hr>\n",
    "\n",
    "The following code runs the `jump()` function when the `Space` button is pressed.<br>\n",
    "You may also try to change the acceleration together with the jumping velocity.<BR>\n",
    "After completing the `jump()` function, run the following code to test it out:<BR>\n",
    "\n",
    "在以下程式碼中，每當 `Space` 被按下，就會執行 `jump()` 函數。<BR>\n",
    "你亦可以嘗試將加速度與跳躍速率一同編緝。<BR>\n",
    "在完成 `jump()` 函數後，執行以下程式碼以進行測試："
   ]
  },
  {
   "cell_type": "code",
   "execution_count": 12,
   "id": "8b2f442a-62d8-4a53-99d1-1e1717094322",
   "metadata": {
    "editable": true,
    "slideshow": {
     "slide_type": ""
    },
    "tags": []
   },
   "outputs": [],
   "source": [
    "import pygame\n",
    "pygame.init()\n",
    "\n",
    "screen = pygame.display.set_mode((800, 600))\n",
    "running = True\n",
    "clock = pygame.time.Clock()\n",
    "gameReset()\n",
    "\n",
    "### Change the acceleration here ###\n",
    "\n",
    "bird_acc = 0.5\n",
    "\n",
    "########### 在此編輯加速度 ###########\n",
    "\n",
    "while running:\n",
    "    screen.blit(bg_surf, (0, 0))      \n",
    "    screen.blit(bird_surf, bird_rect)\n",
    "    for event in pygame.event.get():\n",
    "        if event.type == pygame.QUIT:\n",
    "            running = False\n",
    "        if event.type == pygame.KEYDOWN:\n",
    "            if event.key == pygame.K_SPACE:\n",
    "                jump() # Calls the jump function\n",
    "    \n",
    "    bird_vel += bird_acc\n",
    "    bird_posy += bird_vel    \n",
    "    ############################################################\n",
    "    # Add a conditional statement here 在此加上條件運算式\n",
    "    \n",
    "\n",
    "    ############################################################                   \n",
    "    bird_rect.y = bird_posy\n",
    "    pygame.display.update()                 \n",
    "    clock.tick(60)                          \n",
    "    \n",
    "pygame.quit() "
   ]
  },
  {
   "cell_type": "markdown",
   "id": "5ba005b8-1ce3-432a-b9c2-ce6f468f12f2",
   "metadata": {
    "editable": true,
    "slideshow": {
     "slide_type": ""
    },
    "tags": []
   },
   "source": [
    "Note that the bird can now fly beyond the boundaries of the window, which is not ideal.<br>\n",
    "This can be fixed by setting both the velocity (`bird_vel`) and y position (`bird_posy`) of the bird to 0 (top of the screen), whenever the y position is negative (out of the screen).<br>\n",
    "\n",
    "留意現在玩家可以飛出視窗邊界，而這並不是太好。<BR>\n",
    "我們可以透過在玩家的 Y 位置為負數時 (在視窗以外)，將速率 (`bird_vel`) 及 Y 位置 (`bird_posy`) 設為 0 (視窗頂部) ，以進行修復。<BR>\n",
    "<BR>\n",
    "Add a **conditional statement** to the code above, to implement this feature!<BR>\n",
    "\n",
    "在以上的程式碼新增一個**條件運算式**，以新增此功能！"
   ]
  },
  {
   "cell_type": "markdown",
   "id": "972e373d-90e7-4969-90fd-2cbb0a8601b9",
   "metadata": {},
   "source": [
    "### Answer 答案"
   ]
  },
  {
   "cell_type": "code",
   "execution_count": 15,
   "id": "a0372d52-793a-4d89-b5e2-4ce2763e96f3",
   "metadata": {},
   "outputs": [],
   "source": [
    "import pygame\n",
    "pygame.init()\n",
    "\n",
    "def jump():\n",
    "    global bird_vel\n",
    "    bird_vel = -10\n",
    "    \n",
    "screen = pygame.display.set_mode((800, 600))\n",
    "running = True\n",
    "clock = pygame.time.Clock()\n",
    "gameReset()\n",
    "\n",
    "while running:\n",
    "    screen.blit(bg_surf, (0, 0))      \n",
    "    screen.blit(bird_surf, bird_rect)\n",
    "    for event in pygame.event.get():\n",
    "        if event.type == pygame.QUIT:\n",
    "            running = False\n",
    "        if event.type == pygame.KEYDOWN:\n",
    "            if event.key == pygame.K_SPACE:\n",
    "                jump() # Calls the jump function\n",
    "    \n",
    "    bird_vel += bird_acc\n",
    "    bird_posy += bird_vel    \n",
    "    ############################################################\n",
    "    if bird_posy < 0:\n",
    "        bird_posy = 0\n",
    "        bird_vel = 0\n",
    "    ############################################################                   \n",
    "    bird_rect.y = bird_posy\n",
    "    pygame.display.update()                 \n",
    "    clock.tick(60)                          \n",
    "    \n",
    "pygame.quit() "
   ]
  },
  {
   "cell_type": "markdown",
   "id": "772ecfd9-f7c8-4b56-9669-be048f9b2f6e",
   "metadata": {},
   "source": [
    "#### Think about it 試想想\n",
    "Why do we need to set `bird_vel` to 0 as well?<BR>\n",
    "為什麼我們要把 `bird_vel` 也設為 0？"
   ]
  },
  {
   "cell_type": "markdown",
   "id": "079f8065-2814-4538-82d4-b6a36e3455f5",
   "metadata": {},
   "source": [
    "<HR>\n",
    "\n",
    "First, we initiate the class `pipe_data()`.<BR>\n",
    "\n",
    "首先，初始化 `pipe_data()` 類別。"
   ]
  },
  {
   "cell_type": "code",
   "execution_count": null,
   "id": "e2b4c2f8-42b7-480e-b820-0f7d0d83bf88",
   "metadata": {},
   "outputs": [],
   "source": [
    "class pipe_data():\n",
    "    global pipes\n",
    "    scored = False  \n",
    "    \n",
    "    def __init__(self, x = 800):\n",
    "        self.posx = x\n",
    "        self.gap = 300     # <<< Change me! 編輯我！ (Height of the gap 空隙的高度)\n",
    "        self.lower_surf = pygame.image.load('../graphics/pipe.png')\n",
    "        \n",
    "        self.upper_surf = pygame.transform.flip(pygame.image.load('../graphics/pipe.png'), False, True)\n",
    "        # Flip the image vertically 將圖片垂直反轉\n",
    "        \n",
    "        self.upper_rect = self.upper_surf.get_rect(bottomleft = (self.posx, self.gap - gap_width / 2))\n",
    "        self.lower_rect = self.lower_surf.get_rect(topleft = (self.posx, self.gap + gap_width / 2))\n",
    "        \n",
    "    def draw(self):\n",
    "        screen.blit(self.upper_surf, self.upper_rect)\n",
    "        screen.blit(self.lower_surf, self.lower_rect)"
   ]
  },
  {
   "cell_type": "markdown",
   "id": "27254633-e081-4676-8a42-0fe3ccd714c4",
   "metadata": {},
   "source": [
    "<hr>\n",
    "\n",
    "Run the following code to draw our first few pipe!<BR>\n",
    "\n",
    "執行以下程式碼來繪製我們的第一組水管！"
   ]
  },
  {
   "cell_type": "code",
   "execution_count": null,
   "id": "e80cc6a4-9e72-4a36-9e6d-bc0356bdcf52",
   "metadata": {},
   "outputs": [],
   "source": [
    "screen = pygame.display.set_mode((800, 600))\n",
    "running = True\n",
    "clock = pygame.time.Clock()\n",
    "gameReset()\n",
    "gap_width = 250   # <<< Change me! 編輯我! (Width of the gap 空隙的闊度)\n",
    "for x in range(7):\n",
    "    pipes.append(pipe_data(100 + 100 * x))  # Create a pipe object of the class pipe_data()\n",
    "                                            # 以 pipe_data() 類別建立一個物件\n",
    "\n",
    "while running:\n",
    "    screen.blit(bg_surf, (0, 0))     \n",
    "    screen.blit(bird_surf, bird_rect)\n",
    "    \n",
    "    for event in pygame.event.get():\n",
    "        if event.type == pygame.QUIT:\n",
    "            running = False\n",
    "            \n",
    "        if event.type == pygame.KEYDOWN and event.key == pygame.K_SPACE:\n",
    "            jump()\n",
    "    \n",
    "    bird_vel += bird_acc\n",
    "    bird_posy += bird_vel\n",
    "    \n",
    "    if bird_posy < 0:\n",
    "        bird_vel = bird_posy = 0\n",
    "    bird_rect.y = bird_posy\n",
    "\n",
    "    for current in pipes:     # Loop through all pipes 循環所有水管\n",
    "        current.draw()        # Draw the pipes 繪製水管\n",
    "        current.upper_rect.x = current.lower_rect.x = current.posx   # Update the pipe position 更新水管位置\n",
    "\n",
    "    pygame.display.update()                 \n",
    "    clock.tick(60)                        \n",
    "    \n",
    "pygame.quit() "
   ]
  },
  {
   "cell_type": "markdown",
   "id": "9856ee58-2b40-42d6-a738-4469c73b1019",
   "metadata": {},
   "source": [
    "<hr>\n",
    "\n",
    "Try to change the values in the codes above to see the result!<br>\n",
    "The values that you can change are marked for you already.<BR>\n",
    "\n",
    "試改變程式碼中的數值並觀察結果！你可改變的數值已為你標示好。"
   ]
  },
  {
   "cell_type": "markdown",
   "id": "33b99537-0675-46c6-90d6-f409f9ec37f5",
   "metadata": {},
   "source": [
    "Pipes in the game have random heights, but not same heights which we have now.<br>\n",
    "To recreate this, we need to use the function `random()`.<br>\n",
    "But before that, we need to import the library `random`<br>\n",
    "\n",
    "遊戲中的水管有隨機的高度，而不是像我們現在有的固定高度。<BR>\n",
    "要重製這部分，我們需要用到 `random()` 函數。但在此之前，我們要先匯入 `random` 程式集。<BR>\n",
    "\n",
    "```python\n",
    "from random import *\n",
    "```\n",
    "\n",
    "For the value generated by `random()`: $0 ≤ random() < 1$<br>\n",
    "Complete the following function to return a suitable gap height (150 ≤ Return value < 450) **[Challenging] (10 min.)** :<BR>\n",
    "\n",
    "`random()` 生成的數值為： `random()`: $0 ≤ random() < 1$<br>\n",
    "完成下方的程式碼，以傳回一個合適的空隙高度 (150 ≤ 傳回值 < 450)  **[挑戰性] (10分鐘)** :<BR>"
   ]
  },
  {
   "cell_type": "code",
   "execution_count": null,
   "id": "d29ab48e-16ea-4d7c-9574-343bb6f0872c",
   "metadata": {
    "editable": true,
    "slideshow": {
     "slide_type": ""
    },
    "tags": []
   },
   "outputs": [],
   "source": [
    "from random import *\n",
    "def randomGap():\n",
    "    return random() * 1 + 0    # <<< Modify the algorithm to return the gap height 編緝算式以傳回空隙高度"
   ]
  },
  {
   "cell_type": "markdown",
   "id": "74722182-5964-4f35-a024-bfce4a18a87a",
   "metadata": {
    "editable": true,
    "slideshow": {
     "slide_type": ""
    },
    "tags": []
   },
   "source": [
    "<hr>\n",
    "\n",
    "Test your function using the code below:<BR>\n",
    "\n",
    "使用以下儲存格測試程式碼："
   ]
  },
  {
   "cell_type": "code",
   "execution_count": null,
   "id": "edda7eac-779b-40ee-a233-0fd0f371587f",
   "metadata": {
    "editable": true,
    "slideshow": {
     "slide_type": ""
    },
    "tags": []
   },
   "outputs": [],
   "source": [
    "for x in range(10):\n",
    "    print(randomGap())"
   ]
  },
  {
   "cell_type": "markdown",
   "id": "c96d9e21-eafc-4b82-9d4d-71e92c60c109",
   "metadata": {},
   "source": [
    "<HR>\n",
    "\n",
    "The function `randomGap()` will be used in the following code to create the pipes:<BR>\n",
    "\n",
    "`randomGap()` 函數會在下方的程式碼使用，以創建水管："
   ]
  },
  {
   "cell_type": "code",
   "execution_count": null,
   "id": "f7e633fd-48b3-47de-b7a5-cff495fc8a57",
   "metadata": {},
   "outputs": [],
   "source": [
    "class pipe_data():\n",
    "    global pipes\n",
    "    scored = False  \n",
    "    \n",
    "    def __init__(self, x = 800):\n",
    "        self.posx = x\n",
    "        self.gap = randomGap()   # Call the randomGap() function\n",
    "        self.lower_surf = pygame.image.load('../graphics/pipe.png')\n",
    "        self.upper_surf = pygame.transform.flip(pygame.image.load('../graphics/pipe.png'), False, True) # Flip the image vertically\n",
    "        self.upper_rect = self.upper_surf.get_rect(bottomleft = (self.posx, self.gap - gap_width / 2))\n",
    "        self.lower_rect = self.lower_surf.get_rect(topleft = (self.posx, self.gap + gap_width / 2))\n",
    "        \n",
    "    def draw(self):\n",
    "        screen.blit(self.upper_surf, self.upper_rect)\n",
    "        screen.blit(self.lower_surf, self.lower_rect)\n",
    "\n",
    "pygame.init()\n",
    "screen = pygame.display.set_mode((800, 600))\n",
    "running = True\n",
    "pipes = []\n",
    "clock = pygame.time.Clock()\n",
    "for x in range(7):\n",
    "    pipes.append(pipe_data(100 + 100 * x))  # Create a pipe object of the class pipe_data()\n",
    "\n",
    "while running:\n",
    "    screen.blit(bg_surf, (0, 0))     \n",
    "    screen.blit(bird_surf, bird_rect)\n",
    "    \n",
    "    for event in pygame.event.get():\n",
    "        if event.type == pygame.QUIT:\n",
    "            running = False\n",
    "            \n",
    "        if event.type == pygame.KEYDOWN and event.key == pygame.K_SPACE:\n",
    "            jump()\n",
    "    \n",
    "    bird_vel += bird_acc\n",
    "    bird_posy += bird_vel\n",
    "    \n",
    "    if bird_posy < 0:\n",
    "        bird_vel = bird_posy = 0\n",
    "    bird_rect.y = bird_posy\n",
    "\n",
    "    for current in pipes:     # Loop through all pipes\n",
    "        current.draw()        # Draw the pipes\n",
    "        current.upper_rect.x = current.lower_rect.x = current.posx   # Update the pipe position\n",
    "\n",
    "    pygame.display.update()                 \n",
    "    clock.tick(60)                        \n",
    "    \n",
    "pygame.quit() "
   ]
  },
  {
   "cell_type": "markdown",
   "id": "d8d80a0a-046a-4d0a-ac63-c0dd4bef4349",
   "metadata": {},
   "source": [
    "Turns out what's moving is not the player, but the pipes.<BR>\n",
    "How we do this is similar to how we move the player downwards.<BR>\n",
    "\n",
    "原來在動的不是玩家本身，而是水管。我們移動水管的方法跟移動玩家的方法類似。<BR>\n",
    "<br>\n",
    "\n",
    "The horizontal speed of the pipes is stored by the variable `speed` in pixels per frame.<BR>\n",
    "Try to make use of `speed`, and `current.posx` to move the pipes. **(5 min.)**<BR>\n",
    "\n",
    "水管的水平速度是在 `speed` 變量中儲存的，單位為像素/秒。<BR>\n",
    "試用 `speed` 和 `current.posx` 去使水管移動。 **(5分鐘)**<BR>\n",
    "<BR>\n",
    "_Tip: Leftwards is negative x_<BR>\n",
    "_提示：向左是負X_"
   ]
  },
  {
   "cell_type": "code",
   "execution_count": null,
   "id": "59946d8c-2849-46ef-999a-5711930dcf64",
   "metadata": {
    "scrolled": true
   },
   "outputs": [],
   "source": [
    "pygame.init()\n",
    "screen = pygame.display.set_mode((800, 600))\n",
    "running = True\n",
    "pipes = []\n",
    "clock = pygame.time.Clock()\n",
    "gameReset()\n",
    "while running:\n",
    "    screen.blit(bg_surf, (0, 0))     \n",
    "    screen.blit(bird_surf, bird_rect)\n",
    "    \n",
    "    for event in pygame.event.get():\n",
    "        if event.type == pygame.QUIT:\n",
    "            running = False\n",
    "            \n",
    "        if event.type == pygame.KEYDOWN and event.key == pygame.K_SPACE:\n",
    "            jump()\n",
    "    \n",
    "    bird_vel += bird_acc\n",
    "    bird_posy += bird_vel\n",
    "    \n",
    "    if bird_posy < 0:\n",
    "        bird_vel = bird_posy = 0\n",
    "    bird_rect.y = bird_posy\n",
    "\n",
    "    for current in pipes: \n",
    "        ### Move the pipes here ###\n",
    "\n",
    "        \n",
    "        ####### 在此移動水管 #######\n",
    "        current.draw()   \n",
    "        current.upper_rect.x = current.lower_rect.x = current.posx  \n",
    "    \n",
    "    if distance - lastPipe >= pipeDistance:\n",
    "        lastPipe = distance\n",
    "        pipes.append(pipe_data())\n",
    "        \n",
    "    distance += speed\n",
    "\n",
    "    pygame.display.update()                 \n",
    "    clock.tick(60)                        \n",
    "    \n",
    "pygame.quit() "
   ]
  },
  {
   "cell_type": "markdown",
   "id": "99fd7453-3bf2-4c55-8872-081336b6f459",
   "metadata": {},
   "source": [
    "### Answer 答案"
   ]
  },
  {
   "cell_type": "code",
   "execution_count": null,
   "id": "d14e8e1a-34a1-4721-9719-960e6b4d8f97",
   "metadata": {},
   "outputs": [],
   "source": [
    "pygame.init()\n",
    "screen = pygame.display.set_mode((800, 600))\n",
    "running = True\n",
    "pipes = []\n",
    "clock = pygame.time.Clock()\n",
    "gameReset()\n",
    "while running:\n",
    "    screen.blit(bg_surf, (0, 0))     \n",
    "    screen.blit(bird_surf, bird_rect)\n",
    "    \n",
    "    for event in pygame.event.get():\n",
    "        if event.type == pygame.QUIT:\n",
    "            running = False\n",
    "            \n",
    "        if event.type == pygame.KEYDOWN and event.key == pygame.K_SPACE:\n",
    "            jump()\n",
    "    \n",
    "    bird_vel += bird_acc\n",
    "    bird_posy += bird_vel\n",
    "    \n",
    "    if bird_posy < 0:\n",
    "        bird_vel = bird_posy = 0\n",
    "    bird_rect.y = bird_posy\n",
    "\n",
    "    for current in pipes: \n",
    "        ### Move the pipes here ###\n",
    "        current.posx -= speed\n",
    "        ###########################\n",
    "        current.draw()   \n",
    "        current.upper_rect.x = current.lower_rect.x = current.posx  \n",
    "    \n",
    "    if distance - lastPipe >= pipeDistance:\n",
    "        lastPipe = distance\n",
    "        pipes.append(pipe_data())\n",
    "        \n",
    "    distance += speed\n",
    "\n",
    "    pygame.display.update()                 \n",
    "    clock.tick(60)                        \n",
    "    \n",
    "pygame.quit() "
   ]
  },
  {
   "cell_type": "markdown",
   "id": "d903cc9d-7727-4cda-83a8-c4ecdd3b29b8",
   "metadata": {},
   "source": [
    "## 5.7 Score 分數"
   ]
  },
  {
   "attachments": {},
   "cell_type": "markdown",
   "id": "3e76b9f6-5db6-43e5-9a9c-cdd65090325b",
   "metadata": {},
   "source": [
    "The score of the player is saved in the variable `score`.<br>\n",
    "1 is added to `score` everytime the x-position of the pipe (`current.posx`) is smaller than 0.<br>\n",
    "\n",
    "玩家的分數儲存在 `score` 的變量中。每當水管的 X 位置 (`current.posx`) 小於 0，`score` 就會加 1。\n",
    "\n",
    "Complete the following code to add 1 to `score` whenever `current.posx < 0`: **(3 min.)**<BR>\n",
    "\n",
    "完成以下程式碼，令每次 `current.posx < 0` 時， `score` 都會加1： **(3分鐘)**"
   ]
  },
  {
   "cell_type": "code",
   "execution_count": null,
   "id": "23143d00-7e88-4934-a448-746e50e337bc",
   "metadata": {},
   "outputs": [],
   "source": [
    "import pygame\n",
    "pygame.init()\n",
    "\n",
    "screen = pygame.display.set_mode((800, 600))\n",
    "running = True\n",
    "clock = pygame.time.Clock()\n",
    "\n",
    "gameReset()\n",
    "\n",
    "screen.blit(bird_surf, bird_rect)\n",
    "\n",
    "while running:\n",
    "    screen.blit(bg_surf, (0, 0))     \n",
    "    screen.blit(bird_surf, bird_rect)\n",
    "    \n",
    "    for event in pygame.event.get():\n",
    "        if event.type == pygame.QUIT:\n",
    "            running = False\n",
    "            \n",
    "        if event.type == pygame.KEYDOWN and event.key == pygame.K_SPACE and not isGameOver:\n",
    "            jump()\n",
    "\n",
    "    bird_vel += bird_acc\n",
    "    bird_posy += bird_vel\n",
    "    \n",
    "    if bird_posy < 0:\n",
    "        bird_vel = bird_posy = 0\n",
    "    bird_rect.y = bird_posy\n",
    "\n",
    "    for current in pipes:\n",
    "        current.draw()\n",
    "\n",
    "    for current in pipes:\n",
    "        current.posx -= speed\n",
    "        current.upper_rect.x = current.lower_rect.x = current.posx\n",
    "        \n",
    "        ######## Complete this conditional statement ########\n",
    "        if not current.scored and current.posx < 0:\n",
    "            \n",
    "            \n",
    "        ################## 完成這個條件運算式 ##################\n",
    "        \n",
    "    if distance - lastPipe >= pipeDistance:\n",
    "        lastPipe = distance\n",
    "        pipes.append(pipe_data())\n",
    "        \n",
    "    distance += speed\n",
    "    \n",
    "    ###################### Score display ######################\n",
    "    score_surf = score_text.render(str(score), 100, \"Black\")\n",
    "    score_rect = score_surf.get_rect(center = (400, 50))\n",
    "    screen.blit(score_surf, score_rect) \n",
    "    ########################## 分數顯示 ##########################\n",
    "    \n",
    "    pygame.display.update()                 \n",
    "    clock.tick(60)                       \n",
    "    \n",
    "pygame.quit() "
   ]
  },
  {
   "cell_type": "markdown",
   "id": "620612b9-fefd-4931-92cf-4bbd0c30776f",
   "metadata": {},
   "source": [
    "After running the code above, what do you observe? Why are so many points added?<BR>\n",
    "Turns out 1 point is added for every frame, for every pipe passed the player (even outside the window).<br>\n",
    "\n",
    "在運行以上程式碼後，你發現了什麼？為什麼會加這麼多分？<BR>\n",
    "原來每一條越過了玩家的水管，每一幀也會加 1 分 (即使水管在視窗外)。 <BR>\n",
    "<BR>\n",
    "This is when the variable `current.scored` comes in handy.<br>\n",
    "Change the value of `current.scored` to `True` when the pipe is scored in the above code, to avoid scoring repeatedly for a pipe: **(5 min.)**<BR>\n",
    "\n",
    "這就是 `current.scored` 發揮作用的時候。<BR>\n",
    "在上方程式碼中，令 `current.scored` 的值在每次得分時都設為 `True`，以避免同一條水管重複得分： **(5分鐘)**"
   ]
  },
  {
   "cell_type": "markdown",
   "id": "9c8dacb3-b0e3-45e6-8152-4ae6523866e1",
   "metadata": {},
   "source": [
    "### Answer 答案"
   ]
  },
  {
   "cell_type": "code",
   "execution_count": null,
   "id": "f786bbaa-b0ca-40d2-87e7-7cb6bfc3329f",
   "metadata": {},
   "outputs": [],
   "source": [
    "import pygame\n",
    "pygame.init()\n",
    "\n",
    "screen = pygame.display.set_mode((800, 600))\n",
    "running = True\n",
    "clock = pygame.time.Clock()\n",
    "\n",
    "gameReset()\n",
    "\n",
    "screen.blit(bird_surf, bird_rect)\n",
    "\n",
    "while running:\n",
    "    screen.blit(bg_surf, (0, 0))     \n",
    "    screen.blit(bird_surf, bird_rect)\n",
    "    \n",
    "    for event in pygame.event.get():\n",
    "        if event.type == pygame.QUIT:\n",
    "            running = False\n",
    "            \n",
    "        if event.type == pygame.KEYDOWN and event.key == pygame.K_SPACE and not isGameOver:\n",
    "            jump()\n",
    "\n",
    "    bird_vel += bird_acc\n",
    "    bird_posy += bird_vel\n",
    "    \n",
    "    if bird_posy < 0:\n",
    "        bird_vel = bird_posy = 0\n",
    "    bird_rect.y = bird_posy\n",
    "\n",
    "    for current in pipes:\n",
    "        current.draw()\n",
    "\n",
    "    for current in pipes:\n",
    "        current.posx -= speed\n",
    "        current.upper_rect.x = current.lower_rect.x = current.posx\n",
    "        if not current.scored and current.posx < 0:\n",
    "            score += 1   \n",
    "            #current.scored = True\n",
    "            \n",
    "    if distance - lastPipe >= pipeDistance:\n",
    "        lastPipe = distance\n",
    "        pipes.append(pipe_data())\n",
    "        \n",
    "    distance += speed\n",
    "        \n",
    "    score_surf = score_text.render(str(score), 100, \"Black\")\n",
    "    score_rect = score_surf.get_rect(center = (400, 50))\n",
    "    screen.blit(score_surf, score_rect)\n",
    "    pygame.display.update()                 \n",
    "    clock.tick(60)                       \n",
    "    \n",
    "pygame.quit() "
   ]
  },
  {
   "cell_type": "markdown",
   "id": "410f7855-b5be-4687-9264-66860d43a354",
   "metadata": {},
   "source": [
    "## 5.8 Losing the Game 輸掉遊戲\n",
    "For now, there is no way to end the game as the player is invincible.<br>\n",
    "To change this, we have to define when the player loses, and what happens.<br>\n",
    "\n",
    "現在，由於玩家是無敵的，我們沒有任何方法結束遊戲。<BR>\n",
    "要改變現況，我們要定義遊戲怎樣會結束，以及結束後會怎樣。<BR>\n",
    "<br>\n",
    "The game ends when any of the following events happen:<BR>\n",
    "\n",
    "當以下任何情況發生，遊戲就會結束：<BR>\n",
    "* The player hits the ground 玩家撞到地面\n",
    "* The player hits the pipes 玩家撞到水管<BR>\n",
    "\n",
    "First, let's define what happens when the game ends.<BR>\n",
    "\n",
    "首先，讓我們定義遊戲結束時會發生什麼事。"
   ]
  },
  {
   "cell_type": "code",
   "execution_count": null,
   "id": "4391f8f3-4bc0-4f15-bf6b-d550865011fd",
   "metadata": {},
   "outputs": [],
   "source": [
    "def gameOver():\n",
    "    global bird_vel, isGameOver, normal_text, lost_rect, lost_surf, scoreShow_rect, scoreShow_surf, glide, bird_surf, restart_rect, restart_surf\n",
    "    bird_vel = -10                                               \n",
    "    # Bounce the player 彈起玩家\n",
    "    \n",
    "    isGameOver = True                                            \n",
    "    # Indicate that the game has ended 註明遊戲已完結\n",
    "    \n",
    "    lost_surf = normal_text.render(\"Game Over...\", True, \"Red\")\n",
    "    lost_rect = lost_surf.get_rect(center = (400, 280))          \n",
    "    # Display the Game Over message 顯示遊戲結束訊息\n",
    "    \n",
    "    bird_surf = pygame.image.load('../graphics/bird_dead.png')   \n",
    "    # Change the apperance of the player 改變玩家外觀\n",
    "    \n",
    "print(\"gameOver() loaded!\")"
   ]
  },
  {
   "cell_type": "markdown",
   "id": "8475da00-ff1e-42c7-805f-c418f05faf1c",
   "metadata": {},
   "source": [
    "<HR>\n",
    "\n",
    "Then, complete the following code, to make the player lose when he/she hits the ground: **(5 min.)**<br>\n",
    "(The case when the player hits the pipes has been done for you.)<BR>\n",
    "\n",
    "然後，完成下方的程式碼，令玩家在碰到地面時輸掉： **(5分鐘)**<BR>\n",
    "(玩家撞到水管的情況而為你完成。)"
   ]
  },
  {
   "cell_type": "code",
   "execution_count": null,
   "id": "59b7453b-78c0-438d-8a46-d4213382f2d2",
   "metadata": {},
   "outputs": [],
   "source": [
    "import pygame\n",
    "pygame.init()\n",
    "\n",
    "screen = pygame.display.set_mode((800, 600))\n",
    "running = True\n",
    "clock = pygame.time.Clock()\n",
    "\n",
    "gameReset()\n",
    "\n",
    "screen.blit(bird_surf, bird_rect)\n",
    "\n",
    "while running:\n",
    "    screen.blit(bg_surf, (0, 0))     \n",
    "    screen.blit(bird_surf, bird_rect)\n",
    "    \n",
    "    for event in pygame.event.get():\n",
    "        if event.type == pygame.QUIT:\n",
    "            running = False\n",
    "            \n",
    "        if event.type == pygame.KEYDOWN and event.key == pygame.K_SPACE and not isGameOver:\n",
    "            jump()\n",
    "\n",
    "    bird_vel += bird_acc\n",
    "    bird_posy += bird_vel\n",
    "    \n",
    "    if bird_posy < 0:\n",
    "        bird_vel = bird_posy = 0\n",
    "    bird_rect.y = bird_posy\n",
    "\n",
    "    for current in pipes:\n",
    "        current.draw()\n",
    "    if not isGameOver:\n",
    "        for current in pipes:\n",
    "            current.posx -= speed\n",
    "            current.upper_rect.x = current.lower_rect.x = current.posx\n",
    "            if not current.scored and current.posx < 0:\n",
    "                score += 1   \n",
    "                current.scored = True\n",
    "            \n",
    "            if current.posx < -60:\n",
    "                pipes.remove(current)\n",
    "                \n",
    "            if current.upper_rect.colliderect(bird_rect) or current.lower_rect.colliderect(bird_rect):\n",
    "                gameOver()\n",
    "                \n",
    "        if distance - lastPipe >= pipeDistance:\n",
    "            lastPipe = distance\n",
    "            pipes.append(pipe_data())\n",
    "            \n",
    "        distance += speed\n",
    "\n",
    "        if bird_posy > (   ): # Fill in the bracket with a suitable number 在括號中填上一個適當的數值\n",
    "            gameOver()\n",
    "    else:\n",
    "        screen.blit(lost_surf, lost_rect)\n",
    "        screen.blit(restart_surf, restart_rect)\n",
    "        speed = 0\n",
    "        \n",
    "    score_surf = score_text.render(str(score), 100, \"Black\")\n",
    "    score_rect = score_surf.get_rect(center = (400, 50))\n",
    "    screen.blit(score_surf, score_rect)\n",
    "    pygame.display.update()                 \n",
    "    clock.tick(60)                       \n",
    "    \n",
    "pygame.quit() "
   ]
  },
  {
   "cell_type": "markdown",
   "id": "8e861082-a81a-422d-a142-7d7a84b1cb1c",
   "metadata": {
    "jp-MarkdownHeadingCollapsed": true
   },
   "source": [
    "### Answer 答案"
   ]
  },
  {
   "cell_type": "code",
   "execution_count": null,
   "id": "6d08aaba-4689-431c-b8ce-01dfb55ce901",
   "metadata": {},
   "outputs": [],
   "source": [
    "import pygame\n",
    "pygame.init()\n",
    "\n",
    "screen = pygame.display.set_mode((800, 600))\n",
    "running = True\n",
    "clock = pygame.time.Clock()\n",
    "\n",
    "gameReset()\n",
    "\n",
    "screen.blit(bird_surf, bird_rect)\n",
    "\n",
    "while running:\n",
    "    screen.blit(bg_surf, (0, 0))     \n",
    "    screen.blit(bird_surf, bird_rect)\n",
    "    \n",
    "    for event in pygame.event.get():\n",
    "        if event.type == pygame.QUIT:\n",
    "            running = False\n",
    "            \n",
    "        if event.type == pygame.KEYDOWN and event.key == pygame.K_SPACE and not isGameOver:\n",
    "            jump()\n",
    "\n",
    "    bird_vel += bird_acc\n",
    "    bird_posy += bird_vel\n",
    "    \n",
    "    if bird_posy < 0:\n",
    "        bird_vel = bird_posy = 0\n",
    "    bird_rect.y = bird_posy\n",
    "\n",
    "    for current in pipes:\n",
    "        current.draw()\n",
    "    if not isGameOver:\n",
    "        for current in pipes:\n",
    "            current.posx -= speed\n",
    "            current.upper_rect.x = current.lower_rect.x = current.posx\n",
    "            if not current.scored and current.posx < 0:\n",
    "                score += 1   \n",
    "                current.scored = True\n",
    "            \n",
    "            if current.posx < -60:\n",
    "                pipes.remove(current)\n",
    "                \n",
    "            if current.upper_rect.colliderect(bird_rect) or current.lower_rect.colliderect(bird_rect):\n",
    "                gameOver()\n",
    "                \n",
    "        if distance - lastPipe >= pipeDistance:\n",
    "            lastPipe = distance\n",
    "            pipes.append(pipe_data())\n",
    "            \n",
    "        distance += speed\n",
    "\n",
    "        if bird_posy > 550: # or any other reasonable answers 或其他合理答案\n",
    "            gameOver()\n",
    "    else:\n",
    "        screen.blit(lost_surf, lost_rect)\n",
    "        speed = 0\n",
    "        \n",
    "    score_surf = score_text.render(str(score), 100, \"Black\")\n",
    "    score_rect = score_surf.get_rect(center = (400, 50))\n",
    "    screen.blit(score_surf, score_rect)\n",
    "    pygame.display.update()                 \n",
    "    clock.tick(60)                       \n",
    "    \n",
    "pygame.quit() "
   ]
  },
  {
   "cell_type": "markdown",
   "id": "8fe45ad7-5f37-436e-8270-577e1e682d1b",
   "metadata": {},
   "source": [
    "## 5.9 Minor Improvements 次要改進\n",
    "To make the game more user-friendly, here are some minor improvements:<BR>\n",
    "\n",
    "為了令遊戲更方便遊玩，以下次要改進已生效：\n",
    "* Only start the game when `Space` is pressed for the 1st time 遊戲只會在第一次按下 `Space` 後開始\n",
    "* Able to restart the game by pressing `R` 可按 `R` 重新開始遊戲\n",
    "* Showing the score at the end of the game 遊戲結束時會顯示分數\n",
    "\n",
    "Our game is basically done!<br>\n",
    "\n",
    "我們的遊戲基本上完成了！<BR>\n",
    "\n",
    "**Run all the cells below before running the main game!** <br>\n",
    "Otherwise, the game might not work!<BR>\n",
    "\n",
    "**執行以下所有儲存格，再執行主遊戲！**<BR>\n",
    "否則，遊戲可能不能運行！"
   ]
  },
  {
   "cell_type": "markdown",
   "id": "3e525bc8-ca4f-4a1d-886c-691750495be9",
   "metadata": {},
   "source": [
    "### Importing Pygame 匯入 Pygame"
   ]
  },
  {
   "cell_type": "code",
   "execution_count": null,
   "id": "27cb093b-f1d8-4355-875c-ae413461a342",
   "metadata": {},
   "outputs": [],
   "source": [
    "import pygame\n",
    "print(\"Pygame imported!\")"
   ]
  },
  {
   "cell_type": "markdown",
   "id": "4f01dffb-aeba-4edb-ad6f-864a26e13a48",
   "metadata": {},
   "source": [
    "<hr>\n",
    "\n",
    "### `jump()`\n",
    "#### What it does 功能\n",
    "Give the player an upward velocity<BR>\n",
    "為玩家提供上升速率\n",
    "\n",
    "#### When it is activated 觸發\n",
    "When `Space` is pressed<BR>\n",
    "當 `Space` 被按下\n",
    "\n",
    "#### Return value 傳回\n",
    "None 無\n",
    "\n",
    "#### Code 程式碼"
   ]
  },
  {
   "cell_type": "code",
   "execution_count": null,
   "id": "9aeebde0-809a-448c-9bb6-4907ae668a36",
   "metadata": {
    "editable": true,
    "slideshow": {
     "slide_type": ""
    },
    "tags": []
   },
   "outputs": [],
   "source": [
    "def jump():\n",
    "    global bird_vel\n",
    "    bird_vel = -10   #\n",
    "print(\"jump() loaded!\")"
   ]
  },
  {
   "cell_type": "markdown",
   "id": "97bf789b-a2e4-4a07-9d0d-7eebddfe5990",
   "metadata": {},
   "source": [
    "<hr>\n",
    "\n",
    "### `randomGap()`\n",
    "#### What it does 功能\n",
    "Generate a random number from 150 to 450<BR>\n",
    "產生一個150至450之間的隨機值\n",
    "\n",
    "#### When it is activated  觸發\n",
    "When a pipe is created<BR>\n",
    "當水管被生成時\n",
    "\n",
    "#### Return value 傳回\n",
    "The random number generated<BR>\n",
    "產生出來的隨機數\n",
    "\n",
    "#### Code 程式碼"
   ]
  },
  {
   "cell_type": "code",
   "execution_count": null,
   "id": "c53f81f2-65f4-448d-bfc9-cca7291c881a",
   "metadata": {},
   "outputs": [],
   "source": [
    "from random import *\n",
    "def randomGap():\n",
    "    return random() * 300 + 150   #\n",
    "print(\"randomGap() loaded!\")"
   ]
  },
  {
   "cell_type": "markdown",
   "id": "2778d38b-8a6f-4ba1-95f2-02ddb5ee4e2d",
   "metadata": {},
   "source": [
    "<hr>\n",
    "\n",
    "### `gameReset()`\n",
    "#### What it does 功能\n",
    "Initiate the variables and show \"Press \\[Space] to Start!\"<BR>\n",
    "初始化變量並顯示 \"Press \\[Space] to Start!\"\n",
    "\n",
    "#### When it is activated 觸發\n",
    "When a new game is started<BR>\n",
    "遊戲開始時\n",
    "\n",
    "#### Return value 傳回\n",
    "None 無\n",
    "\n",
    "#### Code 程式碼"
   ]
  },
  {
   "cell_type": "code",
   "execution_count": null,
   "id": "438705ce-7c70-4779-9484-3209f03b59a6",
   "metadata": {
    "editable": true,
    "slideshow": {
     "slide_type": ""
    },
    "tags": []
   },
   "outputs": [],
   "source": [
    "def gameReset():\n",
    "    global gameActive, isGameOver, bird_posy, bird_vel, score, distance, bird_surf, bg_surf, pipes, lastPipe, bird_rect, speed, bird_acc, score_surf, score_rect, score_text, pipeDistance, gap_width, normal_text, start_surf, start_rect\n",
    "    gameActive = isGameOver = False\n",
    "    bird_posy = 300\n",
    "    bird_vel = -10   #\n",
    "    pipeDistance = 300   #\n",
    "    gap_width = 250   #\n",
    "    speed = 3   #\n",
    "    bird_acc = 0.5   #\n",
    "    score = distance = lastPipe = 0\n",
    "    score_text = pygame.font.Font(None, 100)\n",
    "    score_surf = score_text.render(str(score), True, \"Black\")\n",
    "    score_rect = score_surf.get_rect(center = (400, 50))\n",
    "    pipes = []\n",
    "    bird_surf = pygame.image.load('../graphics/bird.png')\n",
    "    bird_rect = bird_surf.get_rect(center = (60, 300))\n",
    "    bg_surf = pygame.image.load(\"../graphics/bg.png\")\n",
    "    normal_text = pygame.font.Font(None, 50) \n",
    "    start_surf = normal_text.render(\"Press [Space] to Start!\", True, \"Blue\")\n",
    "    start_rect = start_surf.get_rect(center = (400, 250))\n",
    "print(\"gameReset() loaded!\")"
   ]
  },
  {
   "cell_type": "markdown",
   "id": "d0785e2f-5fb6-455c-8a51-306e5c9eb2fb",
   "metadata": {},
   "source": [
    "<hr>\n",
    "\n",
    "### `gameOver()`\n",
    "#### What it does 功能\n",
    "* Stop pipe movement 停止水管移動\n",
    "* Block player control 封鎖玩家控制\n",
    "* Bounce the player 將玩家彈起\n",
    "* Show the final score and \"Press \\[R] to Play Again\" 顯示最終成績及 \"Press \\[R] to Play Again\"\n",
    "\n",
    "#### When it is activated 觸發\n",
    "When the y-position of the player exceeds 550 or the player collides with the pipes<BR>\n",
    "當玩家的 Y 位置超過 550，或玩家與水管碰撞\n",
    "\n",
    "#### Return value 傳回\n",
    "None 無\n",
    "\n",
    "#### Code 程式碼"
   ]
  },
  {
   "cell_type": "code",
   "execution_count": null,
   "id": "3f922fa4-e299-4b02-bfac-b7fbc0a6e8e4",
   "metadata": {
    "editable": true,
    "slideshow": {
     "slide_type": ""
    },
    "tags": []
   },
   "outputs": [],
   "source": [
    "def gameOver():\n",
    "    global bird_vel, isGameOver, normal_text, lost_rect, lost_surf, scoreShow_rect, scoreShow_surf, glide, bird_surf, restart_rect, restart_surf\n",
    "    bird_vel = -10   #\n",
    "    isGameOver = True   #\n",
    "    lost_surf = normal_text.render(\"Game Over...\", True, \"Red\")\n",
    "    lost_rect = lost_surf.get_rect(center = (400, 280))\n",
    "    scoreShow_surf = normal_text.render(f\"Your Score: {score}\", True, \"Red\")\n",
    "    scoreShow_rect = scoreShow_surf.get_rect(center = (400, 320))\n",
    "    bird_surf = pygame.image.load('../graphics/bird_dead.png')\n",
    "    restart_surf = normal_text.render(\"Press [R] to Play Again\", True, \"Blue\")\n",
    "    restart_rect = restart_surf.get_rect(center = (400, 400))\n",
    "print(\"gameOver() loaded!\")"
   ]
  },
  {
   "cell_type": "markdown",
   "id": "38003efb-9bc2-47f5-a94f-c0e1a77988af",
   "metadata": {},
   "source": [
    "<hr>\n",
    "\n",
    "### `pipe_data()` (Class)\n",
    "#### What it does 功能\n",
    "* Generate a new pipe 生成新水管 (`__init__(self)`)\n",
    "* Draw the pipes 繪製所水管 (`draw(self)`)\n",
    "#### When it is activated 觸發\n",
    "* `__init(self)__`: When a new pipe has to be generated 當需生成新水管時\n",
    "* `draw(self)`: Always 永遠\n",
    "\n",
    "#### Return vlue 傳回\n",
    "None 無\n",
    "\n",
    "#### Code 程式碼"
   ]
  },
  {
   "cell_type": "code",
   "execution_count": null,
   "id": "7657a5c3-d172-48e0-abf6-ecd8bef20935",
   "metadata": {},
   "outputs": [],
   "source": [
    "class pipe_data():\n",
    "    scored = False\n",
    "    \n",
    "    def __init__(self, x = 800):\n",
    "        self.posx = x\n",
    "        self.gap = randomGap()\n",
    "        self.lower_surf = pygame.image.load('../graphics/pipe.png')\n",
    "        self.upper_surf = pygame.transform.flip(pygame.image.load('../graphics/pipe.png'), False, True)\n",
    "        self.upper_rect = self.upper_surf.get_rect(bottomleft = (800, self.gap - gap_width / 2))\n",
    "        self.lower_rect = self.lower_surf.get_rect(topleft = (800, self.gap + gap_width / 2))\n",
    "        \n",
    "    def draw(self):\n",
    "        screen.blit(self.upper_surf, self.upper_rect)\n",
    "        screen.blit(self.lower_surf, self.lower_rect)\n",
    "\n",
    "print(\"pipe_data() loaded!\")"
   ]
  },
  {
   "cell_type": "markdown",
   "id": "4182c31a-e541-4e0f-bcc2-c9b90a08b090",
   "metadata": {},
   "source": [
    "<hr>\n",
    "\n",
    "### Main Game 主遊戲"
   ]
  },
  {
   "cell_type": "code",
   "execution_count": null,
   "id": "a7a7ca60-ee55-4f48-b00b-93dcc09f4821",
   "metadata": {
    "editable": true,
    "scrolled": true,
    "slideshow": {
     "slide_type": ""
    },
    "tags": []
   },
   "outputs": [],
   "source": [
    "import pygame\n",
    "pygame.init()\n",
    "\n",
    "screen = pygame.display.set_mode((800, 600))\n",
    "running = True\n",
    "clock = pygame.time.Clock()\n",
    "\n",
    "gameReset()\n",
    "\n",
    "screen.blit(bird_surf, bird_rect)\n",
    "\n",
    "while running:\n",
    "    screen.blit(bg_surf, (0, 0))     \n",
    "    screen.blit(bird_surf, bird_rect)\n",
    "    \n",
    "    for event in pygame.event.get():\n",
    "        if event.type == pygame.QUIT:\n",
    "            running = False\n",
    "            \n",
    "        if event.type == pygame.KEYDOWN and event.key == pygame.K_SPACE and not isGameOver:\n",
    "            jump()\n",
    "                \n",
    "        if event.type == pygame.KEYDOWN and event.key == pygame.K_r:\n",
    "            gameReset()\n",
    "        else:\n",
    "            if event.type == pygame.KEYDOWN and event.key == pygame.K_SPACE:\n",
    "                gameActive = True\n",
    "\n",
    "    if gameActive:\n",
    "        \n",
    "        bird_vel += bird_acc\n",
    "        bird_posy += bird_vel\n",
    "        \n",
    "        if bird_posy < 0:\n",
    "            bird_vel = bird_posy = 0\n",
    "        bird_rect.y = bird_posy\n",
    "\n",
    "        for current in pipes:\n",
    "            current.draw()\n",
    "        if not isGameOver:\n",
    "            for current in pipes:\n",
    "                current.posx -= speed\n",
    "                current.upper_rect.x = current.lower_rect.x = current.posx\n",
    "                if not current.scored and current.posx < 0:\n",
    "                    score += 1   #\n",
    "                    current.scored = True\n",
    "                \n",
    "                if current.posx < -60:\n",
    "                    pipes.remove(current)\n",
    "                    \n",
    "                if current.upper_rect.colliderect(bird_rect) or current.lower_rect.colliderect(bird_rect):\n",
    "                    gameOver()\n",
    "                    \n",
    "            if distance - lastPipe >= pipeDistance:\n",
    "                lastPipe = distance\n",
    "                pipes.append(pipe_data())\n",
    "                \n",
    "            distance += speed\n",
    "    \n",
    "            if bird_posy > 550:\n",
    "                gameOver()\n",
    "        else:\n",
    "            screen.blit(lost_surf, lost_rect)\n",
    "            screen.blit(scoreShow_surf, scoreShow_rect)\n",
    "            screen.blit(restart_surf, restart_rect)\n",
    "            speed = 0\n",
    "    else: \n",
    "        screen.blit(start_surf, start_rect)\n",
    "        \n",
    "    score_surf = score_text.render(str(score), 100, \"Black\")\n",
    "    score_rect = score_surf.get_rect(center = (400, 50))\n",
    "    screen.blit(score_surf, score_rect)\n",
    "    pygame.display.update()                 \n",
    "    clock.tick(60)   #                       \n",
    "    \n",
    "pygame.quit() "
   ]
  },
  {
   "cell_type": "markdown",
   "id": "35be40b3-ff4c-4189-87e1-58028819f28d",
   "metadata": {
    "jp-MarkdownHeadingCollapsed": true
   },
   "source": [
    "## 5.10 Mess with the codes! 搗亂！\n",
    "Here comes the fun part!<br>\n",
    "In the above codes, the rows marked with a hashtag `#` indicates that you can change the values as you want!<br>\n",
    "Try to change how the game works by modifying them!<br>\n",
    "You can even turn on cheat mode :))<br>\n",
    "\n",
    "有趣的部分來了！在上述程式碼中，所有有 `#` 標記的行數中的數值也可以隨意更改！<BR>\n",
    "試通過更改它們來改變遊戲的運行，甚至打開作弊模式！<br><BR>\n",
    "Remember to reload the functions to update it (by running it)!<br>\n",
    "Or else, the changes won't apply when you run the final game!<br>\n",
    "\n",
    "在改變數值後記得要更新！(執行該儲存格) 否則編輯不會在執行主遊戲時生效！"
   ]
  }
 ],
 "metadata": {
  "kernelspec": {
   "display_name": "Python 3 (ipykernel)",
   "language": "python",
   "name": "python3"
  },
  "language_info": {
   "codemirror_mode": {
    "name": "ipython",
    "version": 3
   },
   "file_extension": ".py",
   "mimetype": "text/x-python",
   "name": "python",
   "nbconvert_exporter": "python",
   "pygments_lexer": "ipython3",
   "version": "3.11.4"
  }
 },
 "nbformat": 4,
 "nbformat_minor": 5
}
