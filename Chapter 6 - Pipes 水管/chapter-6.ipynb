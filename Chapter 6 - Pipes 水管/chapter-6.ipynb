{
 "cells": [
  {
   "cell_type": "markdown",
   "id": "0b06f658-78e3-453b-94a5-d627b82ca1c0",
   "metadata": {},
   "source": [
    "# Chapter 6 - Pipes 水管"
   ]
  },
  {
   "cell_type": "markdown",
   "id": "d3a175f1-66f0-48e9-92cd-105c3c4341e8",
   "metadata": {
    "editable": true,
    "slideshow": {
     "slide_type": ""
    },
    "tags": []
   },
   "source": [
    "Import Pygame and Initiate the variables used in this chapter first!<br>\n",
    "\n",
    "先匯入 Pygame 及初始化本單元用到的變量！"
   ]
  },
  {
   "cell_type": "code",
   "execution_count": 7,
   "id": "1f7a30bf-6786-4720-baa1-cb39d550eb9c",
   "metadata": {
    "editable": true,
    "slideshow": {
     "slide_type": ""
    },
    "tags": []
   },
   "outputs": [],
   "source": [
    "import pygame\n",
    "\n",
    "def jump():\n",
    "    global bird_vel\n",
    "    bird_vel = -10\n",
    "    \n",
    "def gameReset():\n",
    "    global gameActive, isGameOver, bird_posy, bird_vel, score, distance, bird_surf, bg_surf, pipes, lastPipe, bird_rect, speed, bird_acc, score_surf, score_rect, score_text, pipeDistance, gap_width, normal_text, start_surf, start_rect\n",
    "    bird_surf = pygame.transform.scale(pygame.image.load('../graphics/bird.png'), (64, 64))                    \n",
    "    bird_rect = bird_surf.get_rect(center = (60, 300))                         \n",
    "    bg_surf = pygame.transform.scale(pygame.image.load(\"../graphics/bg.png\"), (800, 600))                          \n",
    "    normal_text = pygame.font.Font(None, 50)                                   \n",
    "    bird_acc = 0.5\n",
    "    bird_posy = 300                                                            \n",
    "    bird_vel = -10                                                             \n",
    "    gap_width = 250                                                            # Used in 用於 6.1\n",
    "    distance = 0                                                               # Used in 用於 6.1\n",
    "    lastPipe = 0                                                               # Used in 用於 6.1\n",
    "    pipes = []                                                                 # Used in 用於 6.1\n",
    "    pipeDistance = 300                                                         # Used in 用於 6.3 \n",
    "    speed = 3                                                                  # Used in 用於 6.3\n",
    "\n",
    "class pipe_data():\n",
    "    def __init__(self, x = 800):\n",
    "        self.posx = x\n",
    "        self.scored = False  \n",
    "        self.gap = 300\n",
    "        self.lower_surf = pygame.transform.scale(pygame.image.load('../graphics/pipe.png'), (60, 450))\n",
    "        \n",
    "        self.upper_surf = pygame.transform.scale(pygame.transform.flip(pygame.image.load('../graphics/pipe.png'), False, True), (60, 450))\n",
    "        \n",
    "        self.upper_rect = self.upper_surf.get_rect(bottomleft = (self.posx, self.gap - gap_width / 2))\n",
    "        self.lower_rect = self.lower_surf.get_rect(topleft = (self.posx, self.gap + gap_width / 2))\n",
    "        \n",
    "    def draw(self):\n",
    "        screen.blit(self.upper_surf, self.upper_rect)\n",
    "        screen.blit(self.lower_surf, self.lower_rect)"
   ]
  },
  {
   "cell_type": "markdown",
   "id": "8693a56a-3c04-4ff1-b37f-bd4cec667a3f",
   "metadata": {
    "editable": true,
    "slideshow": {
     "slide_type": ""
    },
    "tags": []
   },
   "source": [
    "## 6.1 Drawing pipes 繪製水管\n",
    "Pipe is an object of the class `pipe_data()`. <br>\n",
    "The concept of class and object is too complicated, and is not discussed today.<BR>\n",
    "\n",
    "水管是 `pipe_data()` 類別中的物件。類別和物件的原理過於複雜，因此不會在今天討論。"
   ]
  },
  {
   "cell_type": "markdown",
   "id": "27254633-e081-4676-8a42-0fe3ccd714c4",
   "metadata": {},
   "source": [
    "<hr>\n",
    "\n",
    "Run the following code to draw our first few pipe!<BR>\n",
    "\n",
    "執行以下程式碼來繪製我們的第一組水管！"
   ]
  },
  {
   "cell_type": "code",
   "execution_count": 11,
   "id": "e80cc6a4-9e72-4a36-9e6d-bc0356bdcf52",
   "metadata": {},
   "outputs": [],
   "source": [
    "pygame.init()\n",
    "\n",
    "screen = pygame.display.set_mode((800, 600))\n",
    "running = True\n",
    "clock = pygame.time.Clock()\n",
    "gameReset()\n",
    "\n",
    "gap_width = 250   # <<< Change me! 編輯我! (Width of the gap 空隙的闊度)\n",
    "\n",
    "for x in range(7):\n",
    "    pipes.append(pipe_data(100 + 100 * x))  # Create a pipe object of the class pipe_data()\n",
    "                                            # 以 pipe_data() 類別建立一個物件\n",
    "\n",
    "while running:\n",
    "    screen.blit(bg_surf, (0, 0))     \n",
    "    screen.blit(bird_surf, bird_rect)\n",
    "    \n",
    "    for event in pygame.event.get():\n",
    "        if event.type == pygame.QUIT:\n",
    "            running = False\n",
    "            \n",
    "        if event.type == pygame.KEYDOWN and event.key == pygame.K_SPACE:\n",
    "            jump()\n",
    "    \n",
    "    bird_vel += bird_acc\n",
    "    bird_posy += bird_vel\n",
    "    \n",
    "    if bird_posy < 0:\n",
    "        bird_vel = bird_posy = 0\n",
    "    bird_rect.y = bird_posy\n",
    "\n",
    "    for current in pipes:     # Loop through all pipes 循環所有水管\n",
    "        current.gap = 300     # <<< Change me! 編緝我！ (Pipe gap height 水管空隙高度)\n",
    "        current.draw()        # Draw the pipes 繪製水管\n",
    "        current.upper_rect.x = current.lower_rect.x = current.posx   # Update the pipe position 更新水管位置\n",
    "\n",
    "    pygame.display.update()                 \n",
    "    clock.tick(60)                        \n",
    "    \n",
    "pygame.quit() "
   ]
  },
  {
   "cell_type": "markdown",
   "id": "9856ee58-2b40-42d6-a738-4469c73b1019",
   "metadata": {},
   "source": [
    "<hr>\n",
    "\n",
    "Try to change the values in the codes above to see the result!<br>\n",
    "The values that you can change are marked for you already.<BR>\n",
    "\n",
    "試改變程式碼中的數值並觀察結果！你可改變的數值已為你標示好。"
   ]
  },
  {
   "cell_type": "markdown",
   "id": "715f9c95-fe56-4c5f-8972-458f2e23b5bc",
   "metadata": {},
   "source": [
    "## 6.2 Randomizing the gaps 隨機化水管"
   ]
  },
  {
   "cell_type": "markdown",
   "id": "80c8dc23-8069-4d94-a036-4eabe672d214",
   "metadata": {},
   "source": [
    "Pipes in the game have random heights, but not same heights which we have now.<br>\n",
    "To recreate this, we need to use the function `random()`.<br>\n",
    "But before that, we need to import the library `random`<br>\n",
    "\n",
    "遊戲中的水管有隨機的高度，而不是像我們現在有的固定高度。<BR>\n",
    "要重製這部分，我們需要用到 `random()` 函數。但在此之前，我們要先匯入 `random` 程式集。<BR>\n",
    "\n",
    "```python\n",
    "from random import *\n",
    "```\n",
    "\n",
    "For the value generated by `random()`: $0 ≤ random() < 1$<br>\n",
    "`random()` 生成的數值為： `random()`: $0 ≤ random() < 1$<br>\n",
    "\n",
    "You can use it in an algorithm to return a randomized number within a specific range, e.g.:<BR>\n",
    "\n",
    "你可以將它用於算式之中，以傳回一個特定範圍中的隨機數字，例：<BR>\n",
    "```python\n",
    "x = random() * 100 + 0       #    0 ≤ x < 100\n",
    "y = random() * 1000 + 500    #  500 ≤ y < 1500\n",
    "z = random() * 300 - 150     # -150 ≤ z < 150\n",
    "```\n",
    "\n",
    "Complete the following function to return a suitable gap height (150 ≤ Return value < 450):<BR>\n",
    "完成下方的程式碼，以傳回一個合適的空隙高度 (150 ≤ 傳回值 < 450):<BR>\n",
    "**[Challenging 有挑戰性] (10 min. 分鐘)** "
   ]
  },
  {
   "cell_type": "code",
   "execution_count": null,
   "id": "91e35855-8402-43a8-a10b-572aadac0dde",
   "metadata": {
    "editable": true,
    "slideshow": {
     "slide_type": ""
    },
    "tags": []
   },
   "outputs": [],
   "source": [
    "from random import *\n",
    "def randomGap():\n",
    "    return random() * 1 + 0    # <<< Modify the algorithm to return the gap height 編緝算式以傳回空隙高度"
   ]
  },
  {
   "cell_type": "markdown",
   "id": "c2b691be-d833-485f-858e-1f93a7da0bcd",
   "metadata": {
    "editable": true,
    "slideshow": {
     "slide_type": ""
    },
    "tags": []
   },
   "source": [
    "<hr>\n",
    "\n",
    "Test your function using the code below:<BR>\n",
    "\n",
    "使用以下儲存格測試程式碼："
   ]
  },
  {
   "cell_type": "code",
   "execution_count": null,
   "id": "a706c071-7861-4a17-b8d6-6fe4314e157c",
   "metadata": {
    "editable": true,
    "slideshow": {
     "slide_type": ""
    },
    "tags": []
   },
   "outputs": [],
   "source": [
    "for x in range(10):\n",
    "    print(randomGap())"
   ]
  },
  {
   "cell_type": "markdown",
   "id": "bde7716d-e1b6-461a-b963-ba3897b88666",
   "metadata": {},
   "source": [
    "<HR>\n",
    "\n",
    "The function `randomGap()` will be used in the following code to create the pipes:<BR>\n",
    "\n",
    "`randomGap()` 函數會在下方的程式碼使用，以創建水管："
   ]
  },
  {
   "cell_type": "code",
   "execution_count": null,
   "id": "fd6b1ab7-aeec-45aa-8827-fcc7ebaa059f",
   "metadata": {},
   "outputs": [],
   "source": [
    "class pipe_data():\n",
    "    global pipes\n",
    "    scored = False  \n",
    "    \n",
    "    def __init__(self, x = 800):\n",
    "        self.posx = x\n",
    "        self.gap = randomGap()   # Call the randomGap() function\n",
    "        self.lower_surf = pygame.image.load('../graphics/pipe.png')\n",
    "        self.upper_surf = pygame.transform.flip(pygame.image.load('../graphics/pipe.png'), False, True) # Flip the image vertically\n",
    "        self.upper_rect = self.upper_surf.get_rect(bottomleft = (self.posx, self.gap - gap_width / 2))\n",
    "        self.lower_rect = self.lower_surf.get_rect(topleft = (self.posx, self.gap + gap_width / 2))\n",
    "        \n",
    "    def draw(self):\n",
    "        screen.blit(self.upper_surf, self.upper_rect)\n",
    "        screen.blit(self.lower_surf, self.lower_rect)\n",
    "\n",
    "pygame.init()\n",
    "screen = pygame.display.set_mode((800, 600))\n",
    "running = True\n",
    "pipes = []\n",
    "clock = pygame.time.Clock()\n",
    "for x in range(7):\n",
    "    pipes.append(pipe_data(100 + 100 * x))  # Create a pipe object of the class pipe_data()\n",
    "\n",
    "while running:\n",
    "    screen.blit(bg_surf, (0, 0))     \n",
    "    screen.blit(bird_surf, bird_rect)\n",
    "    \n",
    "    for event in pygame.event.get():\n",
    "        if event.type == pygame.QUIT:\n",
    "            running = False\n",
    "            \n",
    "        if event.type == pygame.KEYDOWN and event.key == pygame.K_SPACE:\n",
    "            jump()\n",
    "    \n",
    "    bird_vel += bird_acc\n",
    "    bird_posy += bird_vel\n",
    "    \n",
    "    if bird_posy < 0:\n",
    "        bird_vel = bird_posy = 0\n",
    "    bird_rect.y = bird_posy\n",
    "\n",
    "    for current in pipes:     # Loop through all pipes\n",
    "        current.draw()        # Draw the pipes\n",
    "        current.upper_rect.x = current.lower_rect.x = current.posx   # Update the pipe position\n",
    "\n",
    "    pygame.display.update()                 \n",
    "    clock.tick(60)                        \n",
    "    \n",
    "pygame.quit() "
   ]
  },
  {
   "cell_type": "markdown",
   "id": "313e2485-34c3-4a18-a88b-d3ae8b837c72",
   "metadata": {
    "jp-MarkdownHeadingCollapsed": true
   },
   "source": [
    "### Answer 答案"
   ]
  },
  {
   "cell_type": "code",
   "execution_count": 13,
   "id": "e7f82e93-b774-45eb-a150-d072adc71e8f",
   "metadata": {
    "editable": true,
    "slideshow": {
     "slide_type": ""
    },
    "tags": []
   },
   "outputs": [],
   "source": [
    "from random import *\n",
    "def randomGap():\n",
    "    return random() * 300 + 150\n",
    "\n",
    "class pipe_data():\n",
    "    global pipes\n",
    "    scored = False  \n",
    "    \n",
    "    def __init__(self, x = 800):\n",
    "        self.posx = x\n",
    "        self.gap = randomGap()   # Call the randomGap() function\n",
    "        self.lower_surf = pygame.image.load('../graphics/pipe.png')\n",
    "        self.upper_surf = pygame.transform.flip(pygame.image.load('../graphics/pipe.png'), False, True) # Flip the image vertically\n",
    "        self.upper_rect = self.upper_surf.get_rect(bottomleft = (self.posx, self.gap - gap_width / 2))\n",
    "        self.lower_rect = self.lower_surf.get_rect(topleft = (self.posx, self.gap + gap_width / 2))\n",
    "        \n",
    "    def draw(self):\n",
    "        screen.blit(self.upper_surf, self.upper_rect)\n",
    "        screen.blit(self.lower_surf, self.lower_rect)\n",
    "\n",
    "pygame.init()\n",
    "screen = pygame.display.set_mode((800, 600))\n",
    "running = True\n",
    "pipes = []\n",
    "clock = pygame.time.Clock()\n",
    "for x in range(7):\n",
    "    pipes.append(pipe_data(100 + 100 * x))  # Create a pipe object of the class pipe_data()\n",
    "\n",
    "while running:\n",
    "    screen.blit(bg_surf, (0, 0))     \n",
    "    screen.blit(bird_surf, bird_rect)\n",
    "    \n",
    "    for event in pygame.event.get():\n",
    "        if event.type == pygame.QUIT:\n",
    "            running = False\n",
    "            \n",
    "        if event.type == pygame.KEYDOWN and event.key == pygame.K_SPACE:\n",
    "            jump()\n",
    "    \n",
    "    bird_vel += bird_acc\n",
    "    bird_posy += bird_vel\n",
    "    \n",
    "    if bird_posy < 0:\n",
    "        bird_vel = bird_posy = 0\n",
    "    bird_rect.y = bird_posy\n",
    "\n",
    "    for current in pipes:     # Loop through all pipes\n",
    "        current.draw()        # Draw the pipes\n",
    "        current.upper_rect.x = current.lower_rect.x = current.posx   # Update the pipe position\n",
    "\n",
    "    pygame.display.update()                 \n",
    "    clock.tick(60)                        \n",
    "    \n",
    "pygame.quit() "
   ]
  },
  {
   "cell_type": "markdown",
   "id": "dd270f5e-42b8-4aa5-8264-75c3c4ae308c",
   "metadata": {},
   "source": [
    "## 6.3 Pipe generation and movement 水管生成及移動\n",
    "For now, no matter how hard the player tries, he/she can't reach the pipes.<BR>\n",
    "How can we keep the player's horizontal position unchanged, but make it seems like he/she is moving forward?<BR>\n",
    "Let's play [Flappy Bird (Click me)](https://flappybird.io/) again, and figure out what is going on! **(5 min.)**<BR>\n",
    "\n",
    "現在，無論玩家怎樣嘗試，也不能到達水管那裏。我們怎樣才可以在不改變玩家的水平位置的同時，令它看起來像在向前動？<BR>\n",
    "讓我們再玩玩 [Flappy Bird (按此)](https://flappybird.io/) 去看看實際上在發生什麼事吧！ **(5分鐘)**\n",
    "<HR>"
   ]
  },
  {
   "cell_type": "markdown",
   "id": "eb9ea863-0854-46c2-a3d7-1b388c965371",
   "metadata": {},
   "source": [
    "Turns out what's moving is not the player, but the pipes.<BR>\n",
    "How we do this is similar to how we move the player downwards.<BR>\n",
    "\n",
    "原來在動的不是玩家本身，而是水管。我們移動水管的方法跟移動玩家的方法類似。<BR>\n",
    "<br>\n",
    "\n",
    "The horizontal speed of the pipes is stored by the variable `speed` in pixels per frame.<BR>\n",
    "Try to make use of `speed`, and `current.posx` to move the pipes. **(5 min.)**<BR>\n",
    "\n",
    "水管的水平速度是在 `speed` 變量中儲存的，單位為像素/秒。<BR>\n",
    "試用 `speed` 和 `current.posx` 去使水管移動。 **(5分鐘)**<BR>\n",
    "<BR>\n",
    "_Tip: Leftwards is negative x_<BR>\n",
    "_提示：向左是負X_"
   ]
  },
  {
   "cell_type": "code",
   "execution_count": null,
   "id": "2225b66b-98b1-417a-8a5c-99c91fbc44d6",
   "metadata": {
    "scrolled": true
   },
   "outputs": [],
   "source": [
    "pygame.init()\n",
    "\n",
    "screen = pygame.display.set_mode((800, 600))\n",
    "running = True\n",
    "clock = pygame.time.Clock()\n",
    "gameReset()\n",
    "\n",
    "while running:\n",
    "    screen.blit(bg_surf, (0, 0))     \n",
    "    screen.blit(bird_surf, bird_rect)\n",
    "    \n",
    "    for event in pygame.event.get():\n",
    "        if event.type == pygame.QUIT:\n",
    "            running = False\n",
    "            \n",
    "        if event.type == pygame.KEYDOWN and event.key == pygame.K_SPACE:\n",
    "            jump()\n",
    "    \n",
    "    bird_vel += bird_acc\n",
    "    bird_posy += bird_vel\n",
    "    \n",
    "    if bird_posy < 0:\n",
    "        bird_vel = bird_posy = 0\n",
    "    bird_rect.y = bird_posy\n",
    "\n",
    "    for current in pipes: \n",
    "        \n",
    "        ########## Move the pipes here ##########\n",
    "        \n",
    "        \n",
    "        \n",
    "        ############## 在此移動水管 ##############\n",
    "        \n",
    "        current.draw()   \n",
    "        current.upper_rect.x = current.lower_rect.x = current.posx  \n",
    "    \n",
    "    if distance - lastPipe >= pipeDistance:\n",
    "        lastPipe = distance\n",
    "        pipes.append(pipe_data())\n",
    "        \n",
    "    distance += speed\n",
    "\n",
    "    pygame.display.update()                 \n",
    "    clock.tick(60)                        \n",
    "    \n",
    "pygame.quit() "
   ]
  },
  {
   "cell_type": "markdown",
   "id": "46053440-0f92-48c5-8464-341b117e54c6",
   "metadata": {
    "jp-MarkdownHeadingCollapsed": true
   },
   "source": [
    "### Answer 答案"
   ]
  },
  {
   "cell_type": "code",
   "execution_count": null,
   "id": "cbf23c3a-bce2-4ba4-8528-32d0390a749d",
   "metadata": {},
   "outputs": [],
   "source": [
    "pygame.init()\n",
    "screen = pygame.display.set_mode((800, 600))\n",
    "running = True\n",
    "pipes = []\n",
    "clock = pygame.time.Clock()\n",
    "gameReset()\n",
    "while running:\n",
    "    screen.blit(bg_surf, (0, 0))     \n",
    "    screen.blit(bird_surf, bird_rect)\n",
    "    \n",
    "    for event in pygame.event.get():\n",
    "        if event.type == pygame.QUIT:\n",
    "            running = False\n",
    "            \n",
    "        if event.type == pygame.KEYDOWN and event.key == pygame.K_SPACE:\n",
    "            jump()\n",
    "    \n",
    "    bird_vel += bird_acc\n",
    "    bird_posy += bird_vel\n",
    "    \n",
    "    if bird_posy < 0:\n",
    "        bird_vel = bird_posy = 0\n",
    "    bird_rect.y = bird_posy\n",
    "\n",
    "    for current in pipes: \n",
    "        \n",
    "        ########## Move the pipes here ##########\n",
    "        \n",
    "        current.posx -= speed\n",
    "        \n",
    "        ############## 在此移動水管 ##############\n",
    "        \n",
    "        current.draw()   \n",
    "        current.upper_rect.x = current.lower_rect.x = current.posx  \n",
    "    \n",
    "    if distance - lastPipe >= pipeDistance:\n",
    "        lastPipe = distance\n",
    "        pipes.append(pipe_data())\n",
    "        \n",
    "    distance += speed\n",
    "\n",
    "    pygame.display.update()                 \n",
    "    clock.tick(60)                        \n",
    "    \n",
    "pygame.quit() "
   ]
  }
 ],
 "metadata": {
  "kernelspec": {
   "display_name": "Python 3 (ipykernel)",
   "language": "python",
   "name": "python3"
  },
  "language_info": {
   "codemirror_mode": {
    "name": "ipython",
    "version": 3
   },
   "file_extension": ".py",
   "mimetype": "text/x-python",
   "name": "python",
   "nbconvert_exporter": "python",
   "pygments_lexer": "ipython3",
   "version": "3.11.4"
  }
 },
 "nbformat": 4,
 "nbformat_minor": 5
}
